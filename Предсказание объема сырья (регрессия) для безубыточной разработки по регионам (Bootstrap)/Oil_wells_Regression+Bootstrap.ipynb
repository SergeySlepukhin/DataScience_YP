{
 "cells": [
  {
   "cell_type": "markdown",
   "metadata": {},
   "source": [
    "# Выбор локации для скважины"
   ]
  },
  {
   "cell_type": "markdown",
   "metadata": {},
   "source": [
    "Допустим, вы работаете в добывающей компании «ГлавРосГосНефть». Нужно решить, где бурить новую скважину.\n",
    "\n",
    "Вам предоставлены пробы нефти в трёх регионах: в каждом 10 000 месторождений, где измерили качество нефти и объём её запасов. Постройте модель машинного обучения, которая поможет определить регион, где добыча принесёт наибольшую прибыль. Проанализируйте возможную прибыль и риски техникой *Bootstrap.*\n",
    "\n",
    "Шаги для выбора локации:\n",
    "\n",
    "- В избранном регионе ищут месторождения, для каждого определяют значения признаков;\n",
    "- Строят модель и оценивают объём запасов;\n",
    "- Выбирают месторождения с самым высокими оценками значений. Количество месторождений зависит от бюджета компании и стоимости разработки одной скважины;\n",
    "- Прибыль равна суммарной прибыли отобранных месторождений."
   ]
  },
  {
   "cell_type": "markdown",
   "metadata": {},
   "source": [
    "# Задачи исследования\n",
    "**1. Загрузка и подготовка данных**.\n",
    "\n",
    "**2. Обучить и проверить модель для каждого региона**:\n",
    "- разбить данные на обучающую и валидационную выборки в соотношении 75:25;\n",
    "- обучить модель и сделать предсказания на валидационной выборке;\n",
    "- сохранить предсказания и правильные ответы на валидационной выборке;\n",
    "- напечатать на экране средний запас предсказанного сырья и RMSE модели;\n",
    "- проанализировать результаты.\n",
    "\n",
    "**3. Подготовка к расчёту прибыли**:\n",
    "- все ключевые значения для расчётов сохранить в отдельных переменных;\n",
    "- рассчитать достаточный объём сырья для безубыточной разработки новой скважины; сравнить полученный объём сырья со средним запасом в каждом регионе;\n",
    "- написать выводы по этапу подготовки расчёта прибыли.\n",
    "\n",
    "**4. Написать функцию для расчёта прибыли по выбранным скважинам и предсказаниям модели:**\n",
    "- выбрать скважины с максимальными значениями предсказаний;\n",
    "- просуммировать целевое значение объёма сырья, соответствующее этим предсказаниям;\n",
    "- рассчитать прибыль для полученного объёма сырья.\n",
    "\n",
    "**5. Посчитать риски и прибыль для каждого региона:**\n",
    "- применить технику Bootstrap с 1000 выборок, чтобы найти распределение прибыли;\n",
    "- найдите среднюю прибыль, 95%-й доверительный интервал и риск убытков; убыток — это отрицательная прибыль;\n",
    "- написать выводы: предложить регион для разработки скважин и обосновать выбор."
   ]
  },
  {
   "cell_type": "markdown",
   "metadata": {},
   "source": [
    "# Описание данных\n",
    "**Признаки**\n",
    "- *id* — уникальный идентификатор скважины;\n",
    "- *f0, f1, f2* — три признака точек (неважно, что они означают, но сами признаки значимы);\n",
    "---\n",
    "**Целевой признак**\n",
    "- *product* — объём запасов в скважине (тыс. баррелей)."
   ]
  },
  {
   "cell_type": "markdown",
   "metadata": {},
   "source": [
    "# Условия задачи:\n",
    "- Для обучения модели подходит только линейная регрессия (остальные — недостаточно предсказуемые).\n",
    "- При разведке региона исследуют 500 точек, из которых с помощью машинного обучения выбирают 200 лучших для разработки.\n",
    "- Бюджет на разработку скважин в регионе — 10 млрд рублей.\n",
    "- При нынешних ценах один баррель сырья приносит 450 рублей дохода. Доход с каждой единицы продукта составляет 450 тыс. рублей, поскольку объём указан в тысячах баррелей.\n",
    "- После оценки рисков нужно оставить лишь те регионы, в которых вероятность убытков меньше 2.5%. Среди них выбирают регион с наибольшей средней прибылью.\n",
    "---\n",
    "Данные синтетические: детали контрактов и характеристики месторождений не разглашаются."
   ]
  },
  {
   "cell_type": "markdown",
   "metadata": {},
   "source": [
    "## Загрузка и подготовка данных"
   ]
  },
  {
   "cell_type": "markdown",
   "metadata": {},
   "source": [
    "### Общая информация"
   ]
  },
  {
   "cell_type": "code",
   "execution_count": 1,
   "metadata": {},
   "outputs": [
    {
     "name": "stdout",
     "output_type": "stream",
     "text": [
      "Requirement already satisfied: matplotlib in /opt/conda/lib/python3.9/site-packages (3.3.4)\n",
      "Collecting matplotlib\n",
      "  Downloading matplotlib-3.7.1-cp39-cp39-manylinux_2_17_x86_64.manylinux2014_x86_64.whl (11.6 MB)\n",
      "\u001b[K     |████████████████████████████████| 11.6 MB 2.6 MB/s eta 0:00:01\n",
      "\u001b[?25hCollecting fonttools>=4.22.0\n",
      "  Downloading fonttools-4.39.3-py3-none-any.whl (1.0 MB)\n",
      "\u001b[K     |████████████████████████████████| 1.0 MB 82.7 MB/s eta 0:00:01\n",
      "\u001b[?25hRequirement already satisfied: packaging>=20.0 in /opt/conda/lib/python3.9/site-packages (from matplotlib) (21.3)\n",
      "Collecting importlib-resources>=3.2.0\n",
      "  Downloading importlib_resources-5.12.0-py3-none-any.whl (36 kB)\n",
      "Requirement already satisfied: python-dateutil>=2.7 in /opt/conda/lib/python3.9/site-packages (from matplotlib) (2.8.1)\n",
      "Requirement already satisfied: kiwisolver>=1.0.1 in /opt/conda/lib/python3.9/site-packages (from matplotlib) (1.4.4)\n",
      "Requirement already satisfied: cycler>=0.10 in /opt/conda/lib/python3.9/site-packages (from matplotlib) (0.11.0)\n",
      "Collecting contourpy>=1.0.1\n",
      "  Downloading contourpy-1.0.7-cp39-cp39-manylinux_2_17_x86_64.manylinux2014_x86_64.whl (299 kB)\n",
      "\u001b[K     |████████████████████████████████| 299 kB 94.2 MB/s eta 0:00:01\n",
      "\u001b[?25hRequirement already satisfied: numpy>=1.20 in /opt/conda/lib/python3.9/site-packages (from matplotlib) (1.21.1)\n",
      "Requirement already satisfied: pyparsing>=2.3.1 in /opt/conda/lib/python3.9/site-packages (from matplotlib) (2.4.7)\n",
      "Requirement already satisfied: pillow>=6.2.0 in /opt/conda/lib/python3.9/site-packages (from matplotlib) (8.4.0)\n",
      "Requirement already satisfied: zipp>=3.1.0 in /opt/conda/lib/python3.9/site-packages (from importlib-resources>=3.2.0->matplotlib) (3.5.0)\n",
      "Requirement already satisfied: six>=1.5 in /opt/conda/lib/python3.9/site-packages (from python-dateutil>=2.7->matplotlib) (1.16.0)\n",
      "Installing collected packages: importlib-resources, fonttools, contourpy, matplotlib\n",
      "  Attempting uninstall: matplotlib\n",
      "    Found existing installation: matplotlib 3.3.4\n",
      "    Uninstalling matplotlib-3.3.4:\n",
      "      Successfully uninstalled matplotlib-3.3.4\n",
      "Successfully installed contourpy-1.0.7 fonttools-4.39.3 importlib-resources-5.12.0 matplotlib-3.7.1\n",
      "Collecting scikit-learn==1.1.3\n",
      "  Downloading scikit_learn-1.1.3-cp39-cp39-manylinux_2_17_x86_64.manylinux2014_x86_64.whl (30.8 MB)\n",
      "\u001b[K     |████████████████████████████████| 30.8 MB 1.0 MB/s eta 0:00:01\n",
      "\u001b[?25hRequirement already satisfied: joblib>=1.0.0 in /opt/conda/lib/python3.9/site-packages (from scikit-learn==1.1.3) (1.1.0)\n",
      "Requirement already satisfied: scipy>=1.3.2 in /opt/conda/lib/python3.9/site-packages (from scikit-learn==1.1.3) (1.9.1)\n",
      "Requirement already satisfied: numpy>=1.17.3 in /opt/conda/lib/python3.9/site-packages (from scikit-learn==1.1.3) (1.21.1)\n",
      "Requirement already satisfied: threadpoolctl>=2.0.0 in /opt/conda/lib/python3.9/site-packages (from scikit-learn==1.1.3) (3.1.0)\n",
      "Installing collected packages: scikit-learn\n",
      "  Attempting uninstall: scikit-learn\n",
      "    Found existing installation: scikit-learn 0.24.1\n",
      "    Uninstalling scikit-learn-0.24.1:\n",
      "      Successfully uninstalled scikit-learn-0.24.1\n",
      "Successfully installed scikit-learn-1.1.3\n"
     ]
    }
   ],
   "source": [
    "!pip install matplotlib --upgrade\n",
    "!pip install scikit-learn==1.1.3\n",
    "\n",
    "import pandas as pd # импортируем необходимые библиотеки\n",
    "import numpy as np\n",
    "import matplotlib.pyplot as plt\n",
    "import seaborn as sns\n",
    "import scipy.stats as stats\n",
    "import warnings\n",
    "\n",
    "from scipy import stats as st\n",
    "from scipy.stats import randint\n",
    "\n",
    "from sklearn.metrics import mean_squared_error\n",
    "from sklearn.preprocessing import StandardScaler\n",
    "from sklearn.linear_model import LinearRegression\n",
    "from sklearn.pipeline import make_pipeline\n",
    "from sklearn.model_selection import train_test_split\n",
    "from numpy.random import RandomState\n",
    "\n",
    "from sklearn.utils import shuffle\n",
    "# from sklearn.model_selection import GridSearchCV\n",
    "# from sklearn.model_selection import RandomizedSearchCV\n",
    "from tqdm import tqdm\n",
    "\n",
    "\n",
    "warnings.filterwarnings(\"ignore\")"
   ]
  },
  {
   "cell_type": "code",
   "execution_count": 2,
   "metadata": {},
   "outputs": [
    {
     "name": "stdout",
     "output_type": "stream",
     "text": [
      "Name: matplotlib\n",
      "Version: 3.7.1\n",
      "Summary: Python plotting package\n",
      "Home-page: https://matplotlib.org\n",
      "Author: John D. Hunter, Michael Droettboom\n",
      "Author-email: matplotlib-users@python.org\n",
      "License: PSF\n",
      "Location: /opt/conda/lib/python3.9/site-packages\n",
      "Requires: kiwisolver, pillow, fonttools, pyparsing, numpy, cycler, python-dateutil, contourpy, importlib-resources, packaging\n",
      "Required-by: seaborn, pyod, catboost\n",
      "Note: you may need to restart the kernel to use updated packages.\n"
     ]
    }
   ],
   "source": [
    "pip show matplotlib"
   ]
  },
  {
   "cell_type": "code",
   "execution_count": 3,
   "metadata": {},
   "outputs": [],
   "source": [
    "df_0 = pd.read_csv('/datasets/geo_data_0.csv') # загрузим данные из файла в датафрейм\n",
    "df_1 = pd.read_csv('/datasets/geo_data_1.csv')\n",
    "df_2 = pd.read_csv('/datasets/geo_data_2.csv')"
   ]
  },
  {
   "cell_type": "markdown",
   "metadata": {},
   "source": [
    "**Напишем собственную функцию для вывода общей информации о данных по каждому датафрейму**"
   ]
  },
  {
   "cell_type": "code",
   "execution_count": 4,
   "metadata": {},
   "outputs": [],
   "source": [
    "def check_data_info(*dfs):\n",
    "    count=0\n",
    "    for df in dfs:\n",
    "        \n",
    "        print ('\\033[1m\\033[36m' + 'Изучим исходные данные в ' +  'df_' + str(count) + '\\033[0m')\n",
    "        \n",
    "        print(df.info())\n",
    "       \n",
    "        missed_cells = df.isna().sum().sum()/(df.shape[0]*(df.shape[1]-1))\n",
    "        missed_rows = sum(df.isna().sum(axis=1)>0)/df.shape[0]\n",
    "        print ('\\033[1m' + '\\nПроверка пропусков'+ '\\033[0m')\n",
    "        print ('Количество пропусков: {:.0f}'.format(df.isna().sum().sum()))\n",
    "        print ('Количество пропусков в каждом столбце')\n",
    "        print ('Доля пропусков: {:.1%}'.format(missed_cells)+ '\\033[0m')\n",
    "        print ('Доля строк содержащих пропуски: {:.1%}'.format(missed_rows))\n",
    "        display(df.isna().sum())\n",
    "        ## Проверим дубликаты\n",
    "        print ('\\033[1m' + '\\nПроверка на дубликаты'+ '\\033[0m')\n",
    "        print('Количество полных дубликатов: ', df.duplicated().sum())\n",
    "        ## Посмотрим на сами данные\n",
    "        print ('\\033[1m' + '\\nПервые пять строк датасета:'+ '\\033[0m')\n",
    "        display(df.head())\n",
    "        print('----------------------------------\\n')\n",
    "        count += 1"
   ]
  },
  {
   "cell_type": "code",
   "execution_count": 5,
   "metadata": {},
   "outputs": [
    {
     "name": "stdout",
     "output_type": "stream",
     "text": [
      "\u001b[1m\u001b[36mИзучим исходные данные в df_0\u001b[0m\n",
      "<class 'pandas.core.frame.DataFrame'>\n",
      "RangeIndex: 100000 entries, 0 to 99999\n",
      "Data columns (total 5 columns):\n",
      " #   Column   Non-Null Count   Dtype  \n",
      "---  ------   --------------   -----  \n",
      " 0   id       100000 non-null  object \n",
      " 1   f0       100000 non-null  float64\n",
      " 2   f1       100000 non-null  float64\n",
      " 3   f2       100000 non-null  float64\n",
      " 4   product  100000 non-null  float64\n",
      "dtypes: float64(4), object(1)\n",
      "memory usage: 3.8+ MB\n",
      "None\n",
      "\u001b[1m\n",
      "Проверка пропусков\u001b[0m\n",
      "Количество пропусков: 0\n",
      "Количество пропусков в каждом столбце\n",
      "Доля пропусков: 0.0%\u001b[0m\n",
      "Доля строк содержащих пропуски: 0.0%\n"
     ]
    },
    {
     "data": {
      "text/plain": [
       "id         0\n",
       "f0         0\n",
       "f1         0\n",
       "f2         0\n",
       "product    0\n",
       "dtype: int64"
      ]
     },
     "metadata": {},
     "output_type": "display_data"
    },
    {
     "name": "stdout",
     "output_type": "stream",
     "text": [
      "\u001b[1m\n",
      "Проверка на дубликаты\u001b[0m\n",
      "Количество полных дубликатов:  0\n",
      "\u001b[1m\n",
      "Первые пять строк датасета:\u001b[0m\n"
     ]
    },
    {
     "data": {
      "text/html": [
       "<div>\n",
       "<style scoped>\n",
       "    .dataframe tbody tr th:only-of-type {\n",
       "        vertical-align: middle;\n",
       "    }\n",
       "\n",
       "    .dataframe tbody tr th {\n",
       "        vertical-align: top;\n",
       "    }\n",
       "\n",
       "    .dataframe thead th {\n",
       "        text-align: right;\n",
       "    }\n",
       "</style>\n",
       "<table border=\"1\" class=\"dataframe\">\n",
       "  <thead>\n",
       "    <tr style=\"text-align: right;\">\n",
       "      <th></th>\n",
       "      <th>id</th>\n",
       "      <th>f0</th>\n",
       "      <th>f1</th>\n",
       "      <th>f2</th>\n",
       "      <th>product</th>\n",
       "    </tr>\n",
       "  </thead>\n",
       "  <tbody>\n",
       "    <tr>\n",
       "      <th>0</th>\n",
       "      <td>txEyH</td>\n",
       "      <td>0.705745</td>\n",
       "      <td>-0.497823</td>\n",
       "      <td>1.221170</td>\n",
       "      <td>105.280062</td>\n",
       "    </tr>\n",
       "    <tr>\n",
       "      <th>1</th>\n",
       "      <td>2acmU</td>\n",
       "      <td>1.334711</td>\n",
       "      <td>-0.340164</td>\n",
       "      <td>4.365080</td>\n",
       "      <td>73.037750</td>\n",
       "    </tr>\n",
       "    <tr>\n",
       "      <th>2</th>\n",
       "      <td>409Wp</td>\n",
       "      <td>1.022732</td>\n",
       "      <td>0.151990</td>\n",
       "      <td>1.419926</td>\n",
       "      <td>85.265647</td>\n",
       "    </tr>\n",
       "    <tr>\n",
       "      <th>3</th>\n",
       "      <td>iJLyR</td>\n",
       "      <td>-0.032172</td>\n",
       "      <td>0.139033</td>\n",
       "      <td>2.978566</td>\n",
       "      <td>168.620776</td>\n",
       "    </tr>\n",
       "    <tr>\n",
       "      <th>4</th>\n",
       "      <td>Xdl7t</td>\n",
       "      <td>1.988431</td>\n",
       "      <td>0.155413</td>\n",
       "      <td>4.751769</td>\n",
       "      <td>154.036647</td>\n",
       "    </tr>\n",
       "  </tbody>\n",
       "</table>\n",
       "</div>"
      ],
      "text/plain": [
       "      id        f0        f1        f2     product\n",
       "0  txEyH  0.705745 -0.497823  1.221170  105.280062\n",
       "1  2acmU  1.334711 -0.340164  4.365080   73.037750\n",
       "2  409Wp  1.022732  0.151990  1.419926   85.265647\n",
       "3  iJLyR -0.032172  0.139033  2.978566  168.620776\n",
       "4  Xdl7t  1.988431  0.155413  4.751769  154.036647"
      ]
     },
     "metadata": {},
     "output_type": "display_data"
    },
    {
     "name": "stdout",
     "output_type": "stream",
     "text": [
      "----------------------------------\n",
      "\n",
      "\u001b[1m\u001b[36mИзучим исходные данные в df_1\u001b[0m\n",
      "<class 'pandas.core.frame.DataFrame'>\n",
      "RangeIndex: 100000 entries, 0 to 99999\n",
      "Data columns (total 5 columns):\n",
      " #   Column   Non-Null Count   Dtype  \n",
      "---  ------   --------------   -----  \n",
      " 0   id       100000 non-null  object \n",
      " 1   f0       100000 non-null  float64\n",
      " 2   f1       100000 non-null  float64\n",
      " 3   f2       100000 non-null  float64\n",
      " 4   product  100000 non-null  float64\n",
      "dtypes: float64(4), object(1)\n",
      "memory usage: 3.8+ MB\n",
      "None\n",
      "\u001b[1m\n",
      "Проверка пропусков\u001b[0m\n",
      "Количество пропусков: 0\n",
      "Количество пропусков в каждом столбце\n",
      "Доля пропусков: 0.0%\u001b[0m\n",
      "Доля строк содержащих пропуски: 0.0%\n"
     ]
    },
    {
     "data": {
      "text/plain": [
       "id         0\n",
       "f0         0\n",
       "f1         0\n",
       "f2         0\n",
       "product    0\n",
       "dtype: int64"
      ]
     },
     "metadata": {},
     "output_type": "display_data"
    },
    {
     "name": "stdout",
     "output_type": "stream",
     "text": [
      "\u001b[1m\n",
      "Проверка на дубликаты\u001b[0m\n",
      "Количество полных дубликатов:  0\n",
      "\u001b[1m\n",
      "Первые пять строк датасета:\u001b[0m\n"
     ]
    },
    {
     "data": {
      "text/html": [
       "<div>\n",
       "<style scoped>\n",
       "    .dataframe tbody tr th:only-of-type {\n",
       "        vertical-align: middle;\n",
       "    }\n",
       "\n",
       "    .dataframe tbody tr th {\n",
       "        vertical-align: top;\n",
       "    }\n",
       "\n",
       "    .dataframe thead th {\n",
       "        text-align: right;\n",
       "    }\n",
       "</style>\n",
       "<table border=\"1\" class=\"dataframe\">\n",
       "  <thead>\n",
       "    <tr style=\"text-align: right;\">\n",
       "      <th></th>\n",
       "      <th>id</th>\n",
       "      <th>f0</th>\n",
       "      <th>f1</th>\n",
       "      <th>f2</th>\n",
       "      <th>product</th>\n",
       "    </tr>\n",
       "  </thead>\n",
       "  <tbody>\n",
       "    <tr>\n",
       "      <th>0</th>\n",
       "      <td>kBEdx</td>\n",
       "      <td>-15.001348</td>\n",
       "      <td>-8.276000</td>\n",
       "      <td>-0.005876</td>\n",
       "      <td>3.179103</td>\n",
       "    </tr>\n",
       "    <tr>\n",
       "      <th>1</th>\n",
       "      <td>62mP7</td>\n",
       "      <td>14.272088</td>\n",
       "      <td>-3.475083</td>\n",
       "      <td>0.999183</td>\n",
       "      <td>26.953261</td>\n",
       "    </tr>\n",
       "    <tr>\n",
       "      <th>2</th>\n",
       "      <td>vyE1P</td>\n",
       "      <td>6.263187</td>\n",
       "      <td>-5.948386</td>\n",
       "      <td>5.001160</td>\n",
       "      <td>134.766305</td>\n",
       "    </tr>\n",
       "    <tr>\n",
       "      <th>3</th>\n",
       "      <td>KcrkZ</td>\n",
       "      <td>-13.081196</td>\n",
       "      <td>-11.506057</td>\n",
       "      <td>4.999415</td>\n",
       "      <td>137.945408</td>\n",
       "    </tr>\n",
       "    <tr>\n",
       "      <th>4</th>\n",
       "      <td>AHL4O</td>\n",
       "      <td>12.702195</td>\n",
       "      <td>-8.147433</td>\n",
       "      <td>5.004363</td>\n",
       "      <td>134.766305</td>\n",
       "    </tr>\n",
       "  </tbody>\n",
       "</table>\n",
       "</div>"
      ],
      "text/plain": [
       "      id         f0         f1        f2     product\n",
       "0  kBEdx -15.001348  -8.276000 -0.005876    3.179103\n",
       "1  62mP7  14.272088  -3.475083  0.999183   26.953261\n",
       "2  vyE1P   6.263187  -5.948386  5.001160  134.766305\n",
       "3  KcrkZ -13.081196 -11.506057  4.999415  137.945408\n",
       "4  AHL4O  12.702195  -8.147433  5.004363  134.766305"
      ]
     },
     "metadata": {},
     "output_type": "display_data"
    },
    {
     "name": "stdout",
     "output_type": "stream",
     "text": [
      "----------------------------------\n",
      "\n",
      "\u001b[1m\u001b[36mИзучим исходные данные в df_2\u001b[0m\n",
      "<class 'pandas.core.frame.DataFrame'>\n",
      "RangeIndex: 100000 entries, 0 to 99999\n",
      "Data columns (total 5 columns):\n",
      " #   Column   Non-Null Count   Dtype  \n",
      "---  ------   --------------   -----  \n",
      " 0   id       100000 non-null  object \n",
      " 1   f0       100000 non-null  float64\n",
      " 2   f1       100000 non-null  float64\n",
      " 3   f2       100000 non-null  float64\n",
      " 4   product  100000 non-null  float64\n",
      "dtypes: float64(4), object(1)\n",
      "memory usage: 3.8+ MB\n",
      "None\n",
      "\u001b[1m\n",
      "Проверка пропусков\u001b[0m\n",
      "Количество пропусков: 0\n",
      "Количество пропусков в каждом столбце\n",
      "Доля пропусков: 0.0%\u001b[0m\n",
      "Доля строк содержащих пропуски: 0.0%\n"
     ]
    },
    {
     "data": {
      "text/plain": [
       "id         0\n",
       "f0         0\n",
       "f1         0\n",
       "f2         0\n",
       "product    0\n",
       "dtype: int64"
      ]
     },
     "metadata": {},
     "output_type": "display_data"
    },
    {
     "name": "stdout",
     "output_type": "stream",
     "text": [
      "\u001b[1m\n",
      "Проверка на дубликаты\u001b[0m\n",
      "Количество полных дубликатов:  0\n",
      "\u001b[1m\n",
      "Первые пять строк датасета:\u001b[0m\n"
     ]
    },
    {
     "data": {
      "text/html": [
       "<div>\n",
       "<style scoped>\n",
       "    .dataframe tbody tr th:only-of-type {\n",
       "        vertical-align: middle;\n",
       "    }\n",
       "\n",
       "    .dataframe tbody tr th {\n",
       "        vertical-align: top;\n",
       "    }\n",
       "\n",
       "    .dataframe thead th {\n",
       "        text-align: right;\n",
       "    }\n",
       "</style>\n",
       "<table border=\"1\" class=\"dataframe\">\n",
       "  <thead>\n",
       "    <tr style=\"text-align: right;\">\n",
       "      <th></th>\n",
       "      <th>id</th>\n",
       "      <th>f0</th>\n",
       "      <th>f1</th>\n",
       "      <th>f2</th>\n",
       "      <th>product</th>\n",
       "    </tr>\n",
       "  </thead>\n",
       "  <tbody>\n",
       "    <tr>\n",
       "      <th>0</th>\n",
       "      <td>fwXo0</td>\n",
       "      <td>-1.146987</td>\n",
       "      <td>0.963328</td>\n",
       "      <td>-0.828965</td>\n",
       "      <td>27.758673</td>\n",
       "    </tr>\n",
       "    <tr>\n",
       "      <th>1</th>\n",
       "      <td>WJtFt</td>\n",
       "      <td>0.262778</td>\n",
       "      <td>0.269839</td>\n",
       "      <td>-2.530187</td>\n",
       "      <td>56.069697</td>\n",
       "    </tr>\n",
       "    <tr>\n",
       "      <th>2</th>\n",
       "      <td>ovLUW</td>\n",
       "      <td>0.194587</td>\n",
       "      <td>0.289035</td>\n",
       "      <td>-5.586433</td>\n",
       "      <td>62.871910</td>\n",
       "    </tr>\n",
       "    <tr>\n",
       "      <th>3</th>\n",
       "      <td>q6cA6</td>\n",
       "      <td>2.236060</td>\n",
       "      <td>-0.553760</td>\n",
       "      <td>0.930038</td>\n",
       "      <td>114.572842</td>\n",
       "    </tr>\n",
       "    <tr>\n",
       "      <th>4</th>\n",
       "      <td>WPMUX</td>\n",
       "      <td>-0.515993</td>\n",
       "      <td>1.716266</td>\n",
       "      <td>5.899011</td>\n",
       "      <td>149.600746</td>\n",
       "    </tr>\n",
       "  </tbody>\n",
       "</table>\n",
       "</div>"
      ],
      "text/plain": [
       "      id        f0        f1        f2     product\n",
       "0  fwXo0 -1.146987  0.963328 -0.828965   27.758673\n",
       "1  WJtFt  0.262778  0.269839 -2.530187   56.069697\n",
       "2  ovLUW  0.194587  0.289035 -5.586433   62.871910\n",
       "3  q6cA6  2.236060 -0.553760  0.930038  114.572842\n",
       "4  WPMUX -0.515993  1.716266  5.899011  149.600746"
      ]
     },
     "metadata": {},
     "output_type": "display_data"
    },
    {
     "name": "stdout",
     "output_type": "stream",
     "text": [
      "----------------------------------\n",
      "\n"
     ]
    }
   ],
   "source": [
    "check_data_info(df_0, df_1, df_2)"
   ]
  },
  {
   "cell_type": "markdown",
   "metadata": {},
   "source": [
    "**Видим, что:**\n",
    "- в каждом датафрейме по 100 000 строк и 5 колонок с фичами: `id`, `f0`, `f1`, `f2`; целевым признаком - `product`;\n",
    "- в данных отсутствуют полные дубликаты или пропуски;\n",
    "- типы данных соответствуют их природе."
   ]
  },
  {
   "cell_type": "markdown",
   "metadata": {},
   "source": [
    "**Напишем собственную функцию для вывода информации о категориальных данных по каждому датафрейму**"
   ]
  },
  {
   "cell_type": "code",
   "execution_count": 6,
   "metadata": {},
   "outputs": [],
   "source": [
    "def categorical(*dfs):\n",
    "    count=0\n",
    "    for df in dfs:\n",
    "        print('\\033[1m\\033[36m' + '\\nОписание категориальных данных в ' + 'df_' + str(count) + '\\033[0m')\n",
    "        if True in (df.dtypes == object).tolist():\n",
    "            display(df.describe(include='object').T)\n",
    "        else:\n",
    "            print('категориальные данные отсутствуют')\n",
    "    \n",
    "    \n",
    "        print('\\033[1m' + '\\nВывод уникальных значений по каждому категориальному признаку в ' + 'df_' + str(count) + '\\033[0m')    \n",
    "        df_object = df.select_dtypes(include='object').columns\n",
    "    \n",
    "        for i in df_object:\n",
    "            print('\\033[1m' + '_'+ str(i) + '\\033[0m')\n",
    "            display(df[i].value_counts())\n",
    "        count += 1\n"
   ]
  },
  {
   "cell_type": "code",
   "execution_count": 7,
   "metadata": {},
   "outputs": [
    {
     "name": "stdout",
     "output_type": "stream",
     "text": [
      "\u001b[1m\u001b[36m\n",
      "Описание категориальных данных в df_0\u001b[0m\n"
     ]
    },
    {
     "data": {
      "text/html": [
       "<div>\n",
       "<style scoped>\n",
       "    .dataframe tbody tr th:only-of-type {\n",
       "        vertical-align: middle;\n",
       "    }\n",
       "\n",
       "    .dataframe tbody tr th {\n",
       "        vertical-align: top;\n",
       "    }\n",
       "\n",
       "    .dataframe thead th {\n",
       "        text-align: right;\n",
       "    }\n",
       "</style>\n",
       "<table border=\"1\" class=\"dataframe\">\n",
       "  <thead>\n",
       "    <tr style=\"text-align: right;\">\n",
       "      <th></th>\n",
       "      <th>count</th>\n",
       "      <th>unique</th>\n",
       "      <th>top</th>\n",
       "      <th>freq</th>\n",
       "    </tr>\n",
       "  </thead>\n",
       "  <tbody>\n",
       "    <tr>\n",
       "      <th>id</th>\n",
       "      <td>100000</td>\n",
       "      <td>99990</td>\n",
       "      <td>QcMuo</td>\n",
       "      <td>2</td>\n",
       "    </tr>\n",
       "  </tbody>\n",
       "</table>\n",
       "</div>"
      ],
      "text/plain": [
       "     count unique    top freq\n",
       "id  100000  99990  QcMuo    2"
      ]
     },
     "metadata": {},
     "output_type": "display_data"
    },
    {
     "name": "stdout",
     "output_type": "stream",
     "text": [
      "\u001b[1m\n",
      "Вывод уникальных значений по каждому категориальному признаку в df_0\u001b[0m\n",
      "\u001b[1m_id\u001b[0m\n"
     ]
    },
    {
     "data": {
      "text/plain": [
       "QcMuo    2\n",
       "Tdehs    2\n",
       "AGS9W    2\n",
       "A5aEY    2\n",
       "fiKDv    2\n",
       "        ..\n",
       "2E82v    1\n",
       "Ak9i3    1\n",
       "O0ENk    1\n",
       "TDgMU    1\n",
       "ICNU6    1\n",
       "Name: id, Length: 99990, dtype: int64"
      ]
     },
     "metadata": {},
     "output_type": "display_data"
    },
    {
     "name": "stdout",
     "output_type": "stream",
     "text": [
      "\u001b[1m\u001b[36m\n",
      "Описание категориальных данных в df_1\u001b[0m\n"
     ]
    },
    {
     "data": {
      "text/html": [
       "<div>\n",
       "<style scoped>\n",
       "    .dataframe tbody tr th:only-of-type {\n",
       "        vertical-align: middle;\n",
       "    }\n",
       "\n",
       "    .dataframe tbody tr th {\n",
       "        vertical-align: top;\n",
       "    }\n",
       "\n",
       "    .dataframe thead th {\n",
       "        text-align: right;\n",
       "    }\n",
       "</style>\n",
       "<table border=\"1\" class=\"dataframe\">\n",
       "  <thead>\n",
       "    <tr style=\"text-align: right;\">\n",
       "      <th></th>\n",
       "      <th>count</th>\n",
       "      <th>unique</th>\n",
       "      <th>top</th>\n",
       "      <th>freq</th>\n",
       "    </tr>\n",
       "  </thead>\n",
       "  <tbody>\n",
       "    <tr>\n",
       "      <th>id</th>\n",
       "      <td>100000</td>\n",
       "      <td>99996</td>\n",
       "      <td>5ltQ6</td>\n",
       "      <td>2</td>\n",
       "    </tr>\n",
       "  </tbody>\n",
       "</table>\n",
       "</div>"
      ],
      "text/plain": [
       "     count unique    top freq\n",
       "id  100000  99996  5ltQ6    2"
      ]
     },
     "metadata": {},
     "output_type": "display_data"
    },
    {
     "name": "stdout",
     "output_type": "stream",
     "text": [
      "\u001b[1m\n",
      "Вывод уникальных значений по каждому категориальному признаку в df_1\u001b[0m\n",
      "\u001b[1m_id\u001b[0m\n"
     ]
    },
    {
     "data": {
      "text/plain": [
       "5ltQ6    2\n",
       "wt4Uk    2\n",
       "LHZR0    2\n",
       "bfPNe    2\n",
       "Ma4Vy    1\n",
       "        ..\n",
       "CN8qO    1\n",
       "MbBre    1\n",
       "KoATh    1\n",
       "Hff7t    1\n",
       "2WJge    1\n",
       "Name: id, Length: 99996, dtype: int64"
      ]
     },
     "metadata": {},
     "output_type": "display_data"
    },
    {
     "name": "stdout",
     "output_type": "stream",
     "text": [
      "\u001b[1m\u001b[36m\n",
      "Описание категориальных данных в df_2\u001b[0m\n"
     ]
    },
    {
     "data": {
      "text/html": [
       "<div>\n",
       "<style scoped>\n",
       "    .dataframe tbody tr th:only-of-type {\n",
       "        vertical-align: middle;\n",
       "    }\n",
       "\n",
       "    .dataframe tbody tr th {\n",
       "        vertical-align: top;\n",
       "    }\n",
       "\n",
       "    .dataframe thead th {\n",
       "        text-align: right;\n",
       "    }\n",
       "</style>\n",
       "<table border=\"1\" class=\"dataframe\">\n",
       "  <thead>\n",
       "    <tr style=\"text-align: right;\">\n",
       "      <th></th>\n",
       "      <th>count</th>\n",
       "      <th>unique</th>\n",
       "      <th>top</th>\n",
       "      <th>freq</th>\n",
       "    </tr>\n",
       "  </thead>\n",
       "  <tbody>\n",
       "    <tr>\n",
       "      <th>id</th>\n",
       "      <td>100000</td>\n",
       "      <td>99996</td>\n",
       "      <td>VF7Jo</td>\n",
       "      <td>2</td>\n",
       "    </tr>\n",
       "  </tbody>\n",
       "</table>\n",
       "</div>"
      ],
      "text/plain": [
       "     count unique    top freq\n",
       "id  100000  99996  VF7Jo    2"
      ]
     },
     "metadata": {},
     "output_type": "display_data"
    },
    {
     "name": "stdout",
     "output_type": "stream",
     "text": [
      "\u001b[1m\n",
      "Вывод уникальных значений по каждому категориальному признаку в df_2\u001b[0m\n",
      "\u001b[1m_id\u001b[0m\n"
     ]
    },
    {
     "data": {
      "text/plain": [
       "VF7Jo    2\n",
       "Vcm5J    2\n",
       "xCHr8    2\n",
       "KUPhW    2\n",
       "vSCmb    1\n",
       "        ..\n",
       "6Bm1t    1\n",
       "bmyj7    1\n",
       "FD8oC    1\n",
       "ltGLN    1\n",
       "swCAx    1\n",
       "Name: id, Length: 99996, dtype: int64"
      ]
     },
     "metadata": {},
     "output_type": "display_data"
    }
   ],
   "source": [
    "categorical(df_0, df_1, df_2)       "
   ]
  },
  {
   "cell_type": "markdown",
   "metadata": {},
   "source": [
    "**Видим, что:**\n",
    "- в каждом датафрейме фактическое каждое значение в столбце `id` является уникальным;\n",
    "- соответственно для нашей задачи данный столбец является малоинформативным, из него нельзя извлечечь какие-либо регулярности, полезные для нашей модели"
   ]
  },
  {
   "cell_type": "code",
   "execution_count": 8,
   "metadata": {},
   "outputs": [
    {
     "data": {
      "text/html": [
       "<div>\n",
       "<style scoped>\n",
       "    .dataframe tbody tr th:only-of-type {\n",
       "        vertical-align: middle;\n",
       "    }\n",
       "\n",
       "    .dataframe tbody tr th {\n",
       "        vertical-align: top;\n",
       "    }\n",
       "\n",
       "    .dataframe thead th {\n",
       "        text-align: right;\n",
       "    }\n",
       "</style>\n",
       "<table border=\"1\" class=\"dataframe\">\n",
       "  <thead>\n",
       "    <tr style=\"text-align: right;\">\n",
       "      <th></th>\n",
       "      <th>f0</th>\n",
       "      <th>f1</th>\n",
       "      <th>f2</th>\n",
       "      <th>product</th>\n",
       "    </tr>\n",
       "  </thead>\n",
       "  <tbody>\n",
       "    <tr>\n",
       "      <th>0</th>\n",
       "      <td>0.705745</td>\n",
       "      <td>-0.497823</td>\n",
       "      <td>1.221170</td>\n",
       "      <td>105.280062</td>\n",
       "    </tr>\n",
       "    <tr>\n",
       "      <th>1</th>\n",
       "      <td>1.334711</td>\n",
       "      <td>-0.340164</td>\n",
       "      <td>4.365080</td>\n",
       "      <td>73.037750</td>\n",
       "    </tr>\n",
       "    <tr>\n",
       "      <th>2</th>\n",
       "      <td>1.022732</td>\n",
       "      <td>0.151990</td>\n",
       "      <td>1.419926</td>\n",
       "      <td>85.265647</td>\n",
       "    </tr>\n",
       "    <tr>\n",
       "      <th>3</th>\n",
       "      <td>-0.032172</td>\n",
       "      <td>0.139033</td>\n",
       "      <td>2.978566</td>\n",
       "      <td>168.620776</td>\n",
       "    </tr>\n",
       "    <tr>\n",
       "      <th>4</th>\n",
       "      <td>1.988431</td>\n",
       "      <td>0.155413</td>\n",
       "      <td>4.751769</td>\n",
       "      <td>154.036647</td>\n",
       "    </tr>\n",
       "  </tbody>\n",
       "</table>\n",
       "</div>"
      ],
      "text/plain": [
       "         f0        f1        f2     product\n",
       "0  0.705745 -0.497823  1.221170  105.280062\n",
       "1  1.334711 -0.340164  4.365080   73.037750\n",
       "2  1.022732  0.151990  1.419926   85.265647\n",
       "3 -0.032172  0.139033  2.978566  168.620776\n",
       "4  1.988431  0.155413  4.751769  154.036647"
      ]
     },
     "metadata": {},
     "output_type": "display_data"
    },
    {
     "data": {
      "text/html": [
       "<div>\n",
       "<style scoped>\n",
       "    .dataframe tbody tr th:only-of-type {\n",
       "        vertical-align: middle;\n",
       "    }\n",
       "\n",
       "    .dataframe tbody tr th {\n",
       "        vertical-align: top;\n",
       "    }\n",
       "\n",
       "    .dataframe thead th {\n",
       "        text-align: right;\n",
       "    }\n",
       "</style>\n",
       "<table border=\"1\" class=\"dataframe\">\n",
       "  <thead>\n",
       "    <tr style=\"text-align: right;\">\n",
       "      <th></th>\n",
       "      <th>f0</th>\n",
       "      <th>f1</th>\n",
       "      <th>f2</th>\n",
       "      <th>product</th>\n",
       "    </tr>\n",
       "  </thead>\n",
       "  <tbody>\n",
       "    <tr>\n",
       "      <th>0</th>\n",
       "      <td>-15.001348</td>\n",
       "      <td>-8.276000</td>\n",
       "      <td>-0.005876</td>\n",
       "      <td>3.179103</td>\n",
       "    </tr>\n",
       "    <tr>\n",
       "      <th>1</th>\n",
       "      <td>14.272088</td>\n",
       "      <td>-3.475083</td>\n",
       "      <td>0.999183</td>\n",
       "      <td>26.953261</td>\n",
       "    </tr>\n",
       "    <tr>\n",
       "      <th>2</th>\n",
       "      <td>6.263187</td>\n",
       "      <td>-5.948386</td>\n",
       "      <td>5.001160</td>\n",
       "      <td>134.766305</td>\n",
       "    </tr>\n",
       "    <tr>\n",
       "      <th>3</th>\n",
       "      <td>-13.081196</td>\n",
       "      <td>-11.506057</td>\n",
       "      <td>4.999415</td>\n",
       "      <td>137.945408</td>\n",
       "    </tr>\n",
       "    <tr>\n",
       "      <th>4</th>\n",
       "      <td>12.702195</td>\n",
       "      <td>-8.147433</td>\n",
       "      <td>5.004363</td>\n",
       "      <td>134.766305</td>\n",
       "    </tr>\n",
       "  </tbody>\n",
       "</table>\n",
       "</div>"
      ],
      "text/plain": [
       "          f0         f1        f2     product\n",
       "0 -15.001348  -8.276000 -0.005876    3.179103\n",
       "1  14.272088  -3.475083  0.999183   26.953261\n",
       "2   6.263187  -5.948386  5.001160  134.766305\n",
       "3 -13.081196 -11.506057  4.999415  137.945408\n",
       "4  12.702195  -8.147433  5.004363  134.766305"
      ]
     },
     "metadata": {},
     "output_type": "display_data"
    },
    {
     "data": {
      "text/html": [
       "<div>\n",
       "<style scoped>\n",
       "    .dataframe tbody tr th:only-of-type {\n",
       "        vertical-align: middle;\n",
       "    }\n",
       "\n",
       "    .dataframe tbody tr th {\n",
       "        vertical-align: top;\n",
       "    }\n",
       "\n",
       "    .dataframe thead th {\n",
       "        text-align: right;\n",
       "    }\n",
       "</style>\n",
       "<table border=\"1\" class=\"dataframe\">\n",
       "  <thead>\n",
       "    <tr style=\"text-align: right;\">\n",
       "      <th></th>\n",
       "      <th>f0</th>\n",
       "      <th>f1</th>\n",
       "      <th>f2</th>\n",
       "      <th>product</th>\n",
       "    </tr>\n",
       "  </thead>\n",
       "  <tbody>\n",
       "    <tr>\n",
       "      <th>0</th>\n",
       "      <td>-1.146987</td>\n",
       "      <td>0.963328</td>\n",
       "      <td>-0.828965</td>\n",
       "      <td>27.758673</td>\n",
       "    </tr>\n",
       "    <tr>\n",
       "      <th>1</th>\n",
       "      <td>0.262778</td>\n",
       "      <td>0.269839</td>\n",
       "      <td>-2.530187</td>\n",
       "      <td>56.069697</td>\n",
       "    </tr>\n",
       "    <tr>\n",
       "      <th>2</th>\n",
       "      <td>0.194587</td>\n",
       "      <td>0.289035</td>\n",
       "      <td>-5.586433</td>\n",
       "      <td>62.871910</td>\n",
       "    </tr>\n",
       "    <tr>\n",
       "      <th>3</th>\n",
       "      <td>2.236060</td>\n",
       "      <td>-0.553760</td>\n",
       "      <td>0.930038</td>\n",
       "      <td>114.572842</td>\n",
       "    </tr>\n",
       "    <tr>\n",
       "      <th>4</th>\n",
       "      <td>-0.515993</td>\n",
       "      <td>1.716266</td>\n",
       "      <td>5.899011</td>\n",
       "      <td>149.600746</td>\n",
       "    </tr>\n",
       "  </tbody>\n",
       "</table>\n",
       "</div>"
      ],
      "text/plain": [
       "         f0        f1        f2     product\n",
       "0 -1.146987  0.963328 -0.828965   27.758673\n",
       "1  0.262778  0.269839 -2.530187   56.069697\n",
       "2  0.194587  0.289035 -5.586433   62.871910\n",
       "3  2.236060 -0.553760  0.930038  114.572842\n",
       "4 -0.515993  1.716266  5.899011  149.600746"
      ]
     },
     "execution_count": 8,
     "metadata": {},
     "output_type": "execute_result"
    }
   ],
   "source": [
    "df_0 = df_0.drop(['id'], axis=1) # удалим неинформативные столбцы\n",
    "df_1 = df_1.drop(['id'], axis=1)\n",
    "df_2 = df_2.drop(['id'], axis=1)\n",
    "\n",
    "display(df_0.head()) # check\n",
    "display(df_1.head())\n",
    "df_2.head()"
   ]
  },
  {
   "cell_type": "markdown",
   "metadata": {},
   "source": [
    "### Визуализация и описательная статистика"
   ]
  },
  {
   "cell_type": "markdown",
   "metadata": {},
   "source": [
    "**Напишем собственные функции для вывода графиков - гистограмм и диаграмм размаха для количесвенных переменных по каждому датафрейму**"
   ]
  },
  {
   "cell_type": "code",
   "execution_count": 9,
   "metadata": {},
   "outputs": [],
   "source": [
    "def plot_hist(col_column, *dfs):\n",
    "    '''\n",
    "    Функция отрисовки гистограмм для количественных переменных.\n",
    "    На вход: исходная таблица и список количественных переменных.\n",
    "    На выходе: графики\n",
    "    '''\n",
    "    rows = 3\n",
    "    f, ax = plt.subplots(rows, 4, figsize=(8, 15))\n",
    "    f.tight_layout()\n",
    "    f.set_figheight(30)\n",
    "    f.set_figwidth(20)\n",
    "    plt.rcParams.update({'font.size': 18})\n",
    "    \n",
    " \n",
    "    count=0\n",
    "    for df in dfs:        \n",
    "        for i, col in enumerate(col_column):\n",
    "            sns.histplot(df[col], kde=True, bins=24, ax = ax[count, i], edgecolor='black', linewidth=2)                    \n",
    "        #sns.boxplot(data[col], ax = ax[i, 1])\n",
    "            \n",
    "            #ax[i, 0].set_xlabel(col)\n",
    "            #ax[i, 1].set_xlabel(col)\n",
    "            ax[i-1, 0].set_ylabel('df_' + str(i-1), fontsize=22)\n",
    "        count+=1\n",
    "    plt.suptitle(\"Гистограммы для количественных данных\", fontsize=30, y=1.01)\n",
    "    plt.show()"
   ]
  },
  {
   "cell_type": "code",
   "execution_count": 10,
   "metadata": {},
   "outputs": [],
   "source": [
    "def plot_box(col_column, *dfs):\n",
    "    '''\n",
    "    Функция отрисовки гистограмм и ящика с усами для количественных переменных.\n",
    "    На вход: исходная таблица и список количественных переменных.\n",
    "    На выходе: графики\n",
    "    '''\n",
    "    rows = 3\n",
    "    f, ax = plt.subplots(rows, 4, figsize=(15, 15))\n",
    "    f.tight_layout()\n",
    "    f.set_figheight(30)\n",
    "    f.set_figwidth(20)\n",
    "    plt.rcParams.update({'font.size': 18})\n",
    "    \n",
    " \n",
    "    count=0\n",
    "    for df in dfs:        \n",
    "        for i, col in enumerate(col_column):\n",
    "            sns.boxplot(df[col], ax = ax[count, i])\n",
    "            \n",
    "            #ax[i, 0].set_xlabel(col)\n",
    "            #ax[i, 1].set_xlabel(col)\n",
    "            ax[i-1, 0].set_ylabel('df_' + str(i-1), fontsize=22)\n",
    "        count+=1\n",
    "    plt.suptitle(\"Диаграммы размаха для количественных данных\", fontsize=30, y=1.01)\n",
    "    plt.show()"
   ]
  },
  {
   "cell_type": "markdown",
   "metadata": {},
   "source": [
    "**Напишем собственную функцию для вывода описательной статистики для количесвенных переменных по каждому датафрейму**"
   ]
  },
  {
   "cell_type": "code",
   "execution_count": 11,
   "metadata": {},
   "outputs": [],
   "source": [
    "def statisticks(*dfs):\n",
    "    count=0\n",
    "    for df in dfs:\n",
    "        print('\\033[1m\\033[36m' + '\\nОписание количественных данных в '+ 'df_' + str(count) + '\\033[0m')\n",
    "        display(df.describe().T)  \n",
    "        count += 1"
   ]
  },
  {
   "cell_type": "code",
   "execution_count": 12,
   "metadata": {},
   "outputs": [
    {
     "data": {
      "image/png": "[encoded data removed]",
      "text/plain": [
       "<Figure size 1440x2160 with 12 Axes>"
      ]
     },
     "metadata": {
      "needs_background": "light"
     },
     "output_type": "display_data"
    }
   ],
   "source": [
    "plot_hist(df_0.columns, df_0, df_1, df_2)"
   ]
  },
  {
   "cell_type": "code",
   "execution_count": 13,
   "metadata": {},
   "outputs": [
    {
     "name": "stdout",
     "output_type": "stream",
     "text": [
      "\u001b[1m\u001b[36m\n",
      "Описание количественных данных в df_0\u001b[0m\n"
     ]
    },
    {
     "data": {
      "text/html": [
       "<div>\n",
       "<style scoped>\n",
       "    .dataframe tbody tr th:only-of-type {\n",
       "        vertical-align: middle;\n",
       "    }\n",
       "\n",
       "    .dataframe tbody tr th {\n",
       "        vertical-align: top;\n",
       "    }\n",
       "\n",
       "    .dataframe thead th {\n",
       "        text-align: right;\n",
       "    }\n",
       "</style>\n",
       "<table border=\"1\" class=\"dataframe\">\n",
       "  <thead>\n",
       "    <tr style=\"text-align: right;\">\n",
       "      <th></th>\n",
       "      <th>count</th>\n",
       "      <th>mean</th>\n",
       "      <th>std</th>\n",
       "      <th>min</th>\n",
       "      <th>25%</th>\n",
       "      <th>50%</th>\n",
       "      <th>75%</th>\n",
       "      <th>max</th>\n",
       "    </tr>\n",
       "  </thead>\n",
       "  <tbody>\n",
       "    <tr>\n",
       "      <th>f0</th>\n",
       "      <td>100000.0</td>\n",
       "      <td>0.500419</td>\n",
       "      <td>0.871832</td>\n",
       "      <td>-1.408605</td>\n",
       "      <td>-0.072580</td>\n",
       "      <td>0.502360</td>\n",
       "      <td>1.073581</td>\n",
       "      <td>2.362331</td>\n",
       "    </tr>\n",
       "    <tr>\n",
       "      <th>f1</th>\n",
       "      <td>100000.0</td>\n",
       "      <td>0.250143</td>\n",
       "      <td>0.504433</td>\n",
       "      <td>-0.848218</td>\n",
       "      <td>-0.200881</td>\n",
       "      <td>0.250252</td>\n",
       "      <td>0.700646</td>\n",
       "      <td>1.343769</td>\n",
       "    </tr>\n",
       "    <tr>\n",
       "      <th>f2</th>\n",
       "      <td>100000.0</td>\n",
       "      <td>2.502647</td>\n",
       "      <td>3.248248</td>\n",
       "      <td>-12.088328</td>\n",
       "      <td>0.287748</td>\n",
       "      <td>2.515969</td>\n",
       "      <td>4.715088</td>\n",
       "      <td>16.003790</td>\n",
       "    </tr>\n",
       "    <tr>\n",
       "      <th>product</th>\n",
       "      <td>100000.0</td>\n",
       "      <td>92.500000</td>\n",
       "      <td>44.288691</td>\n",
       "      <td>0.000000</td>\n",
       "      <td>56.497507</td>\n",
       "      <td>91.849972</td>\n",
       "      <td>128.564089</td>\n",
       "      <td>185.364347</td>\n",
       "    </tr>\n",
       "  </tbody>\n",
       "</table>\n",
       "</div>"
      ],
      "text/plain": [
       "            count       mean        std        min        25%        50%  \\\n",
       "f0       100000.0   0.500419   0.871832  -1.408605  -0.072580   0.502360   \n",
       "f1       100000.0   0.250143   0.504433  -0.848218  -0.200881   0.250252   \n",
       "f2       100000.0   2.502647   3.248248 -12.088328   0.287748   2.515969   \n",
       "product  100000.0  92.500000  44.288691   0.000000  56.497507  91.849972   \n",
       "\n",
       "                75%         max  \n",
       "f0         1.073581    2.362331  \n",
       "f1         0.700646    1.343769  \n",
       "f2         4.715088   16.003790  \n",
       "product  128.564089  185.364347  "
      ]
     },
     "metadata": {},
     "output_type": "display_data"
    },
    {
     "name": "stdout",
     "output_type": "stream",
     "text": [
      "\u001b[1m\u001b[36m\n",
      "Описание количественных данных в df_1\u001b[0m\n"
     ]
    },
    {
     "data": {
      "text/html": [
       "<div>\n",
       "<style scoped>\n",
       "    .dataframe tbody tr th:only-of-type {\n",
       "        vertical-align: middle;\n",
       "    }\n",
       "\n",
       "    .dataframe tbody tr th {\n",
       "        vertical-align: top;\n",
       "    }\n",
       "\n",
       "    .dataframe thead th {\n",
       "        text-align: right;\n",
       "    }\n",
       "</style>\n",
       "<table border=\"1\" class=\"dataframe\">\n",
       "  <thead>\n",
       "    <tr style=\"text-align: right;\">\n",
       "      <th></th>\n",
       "      <th>count</th>\n",
       "      <th>mean</th>\n",
       "      <th>std</th>\n",
       "      <th>min</th>\n",
       "      <th>25%</th>\n",
       "      <th>50%</th>\n",
       "      <th>75%</th>\n",
       "      <th>max</th>\n",
       "    </tr>\n",
       "  </thead>\n",
       "  <tbody>\n",
       "    <tr>\n",
       "      <th>f0</th>\n",
       "      <td>100000.0</td>\n",
       "      <td>1.141296</td>\n",
       "      <td>8.965932</td>\n",
       "      <td>-31.609576</td>\n",
       "      <td>-6.298551</td>\n",
       "      <td>1.153055</td>\n",
       "      <td>8.621015</td>\n",
       "      <td>29.421755</td>\n",
       "    </tr>\n",
       "    <tr>\n",
       "      <th>f1</th>\n",
       "      <td>100000.0</td>\n",
       "      <td>-4.796579</td>\n",
       "      <td>5.119872</td>\n",
       "      <td>-26.358598</td>\n",
       "      <td>-8.267985</td>\n",
       "      <td>-4.813172</td>\n",
       "      <td>-1.332816</td>\n",
       "      <td>18.734063</td>\n",
       "    </tr>\n",
       "    <tr>\n",
       "      <th>f2</th>\n",
       "      <td>100000.0</td>\n",
       "      <td>2.494541</td>\n",
       "      <td>1.703572</td>\n",
       "      <td>-0.018144</td>\n",
       "      <td>1.000021</td>\n",
       "      <td>2.011479</td>\n",
       "      <td>3.999904</td>\n",
       "      <td>5.019721</td>\n",
       "    </tr>\n",
       "    <tr>\n",
       "      <th>product</th>\n",
       "      <td>100000.0</td>\n",
       "      <td>68.825000</td>\n",
       "      <td>45.944423</td>\n",
       "      <td>0.000000</td>\n",
       "      <td>26.953261</td>\n",
       "      <td>57.085625</td>\n",
       "      <td>107.813044</td>\n",
       "      <td>137.945408</td>\n",
       "    </tr>\n",
       "  </tbody>\n",
       "</table>\n",
       "</div>"
      ],
      "text/plain": [
       "            count       mean        std        min        25%        50%  \\\n",
       "f0       100000.0   1.141296   8.965932 -31.609576  -6.298551   1.153055   \n",
       "f1       100000.0  -4.796579   5.119872 -26.358598  -8.267985  -4.813172   \n",
       "f2       100000.0   2.494541   1.703572  -0.018144   1.000021   2.011479   \n",
       "product  100000.0  68.825000  45.944423   0.000000  26.953261  57.085625   \n",
       "\n",
       "                75%         max  \n",
       "f0         8.621015   29.421755  \n",
       "f1        -1.332816   18.734063  \n",
       "f2         3.999904    5.019721  \n",
       "product  107.813044  137.945408  "
      ]
     },
     "metadata": {},
     "output_type": "display_data"
    },
    {
     "name": "stdout",
     "output_type": "stream",
     "text": [
      "\u001b[1m\u001b[36m\n",
      "Описание количественных данных в df_2\u001b[0m\n"
     ]
    },
    {
     "data": {
      "text/html": [
       "<div>\n",
       "<style scoped>\n",
       "    .dataframe tbody tr th:only-of-type {\n",
       "        vertical-align: middle;\n",
       "    }\n",
       "\n",
       "    .dataframe tbody tr th {\n",
       "        vertical-align: top;\n",
       "    }\n",
       "\n",
       "    .dataframe thead th {\n",
       "        text-align: right;\n",
       "    }\n",
       "</style>\n",
       "<table border=\"1\" class=\"dataframe\">\n",
       "  <thead>\n",
       "    <tr style=\"text-align: right;\">\n",
       "      <th></th>\n",
       "      <th>count</th>\n",
       "      <th>mean</th>\n",
       "      <th>std</th>\n",
       "      <th>min</th>\n",
       "      <th>25%</th>\n",
       "      <th>50%</th>\n",
       "      <th>75%</th>\n",
       "      <th>max</th>\n",
       "    </tr>\n",
       "  </thead>\n",
       "  <tbody>\n",
       "    <tr>\n",
       "      <th>f0</th>\n",
       "      <td>100000.0</td>\n",
       "      <td>0.002023</td>\n",
       "      <td>1.732045</td>\n",
       "      <td>-8.760004</td>\n",
       "      <td>-1.162288</td>\n",
       "      <td>0.009424</td>\n",
       "      <td>1.158535</td>\n",
       "      <td>7.238262</td>\n",
       "    </tr>\n",
       "    <tr>\n",
       "      <th>f1</th>\n",
       "      <td>100000.0</td>\n",
       "      <td>-0.002081</td>\n",
       "      <td>1.730417</td>\n",
       "      <td>-7.084020</td>\n",
       "      <td>-1.174820</td>\n",
       "      <td>-0.009482</td>\n",
       "      <td>1.163678</td>\n",
       "      <td>7.844801</td>\n",
       "    </tr>\n",
       "    <tr>\n",
       "      <th>f2</th>\n",
       "      <td>100000.0</td>\n",
       "      <td>2.495128</td>\n",
       "      <td>3.473445</td>\n",
       "      <td>-11.970335</td>\n",
       "      <td>0.130359</td>\n",
       "      <td>2.484236</td>\n",
       "      <td>4.858794</td>\n",
       "      <td>16.739402</td>\n",
       "    </tr>\n",
       "    <tr>\n",
       "      <th>product</th>\n",
       "      <td>100000.0</td>\n",
       "      <td>95.000000</td>\n",
       "      <td>44.749921</td>\n",
       "      <td>0.000000</td>\n",
       "      <td>59.450441</td>\n",
       "      <td>94.925613</td>\n",
       "      <td>130.595027</td>\n",
       "      <td>190.029838</td>\n",
       "    </tr>\n",
       "  </tbody>\n",
       "</table>\n",
       "</div>"
      ],
      "text/plain": [
       "            count       mean        std        min        25%        50%  \\\n",
       "f0       100000.0   0.002023   1.732045  -8.760004  -1.162288   0.009424   \n",
       "f1       100000.0  -0.002081   1.730417  -7.084020  -1.174820  -0.009482   \n",
       "f2       100000.0   2.495128   3.473445 -11.970335   0.130359   2.484236   \n",
       "product  100000.0  95.000000  44.749921   0.000000  59.450441  94.925613   \n",
       "\n",
       "                75%         max  \n",
       "f0         1.158535    7.238262  \n",
       "f1         1.163678    7.844801  \n",
       "f2         4.858794   16.739402  \n",
       "product  130.595027  190.029838  "
      ]
     },
     "metadata": {},
     "output_type": "display_data"
    }
   ],
   "source": [
    "statisticks(df_0, df_1, df_2)"
   ]
  },
  {
   "cell_type": "code",
   "execution_count": 14,
   "metadata": {},
   "outputs": [
    {
     "name": "stdout",
     "output_type": "stream",
     "text": [
      "Коэфициент вариации для df_0\n",
      " f0         1.742203\n",
      "f1         2.016577\n",
      "f2         1.297925\n",
      "product    0.478797\n",
      "dtype: float64\n",
      "Коэфициент вариации для df_1\n",
      " f0         7.855922\n",
      "f1        -1.067401\n",
      "f2         0.682920\n",
      "product    0.667554\n",
      "dtype: float64\n",
      "Коэфициент вариации для df_2\n",
      " f0         856.304791\n",
      "f1        -831.717583\n",
      "f2           1.392091\n",
      "product      0.471052\n",
      "dtype: float64\n"
     ]
    }
   ],
   "source": [
    "cv = lambda x: np.std(x, ddof=1) / np.mean(x) # л.-функция для расчета коэфициента вариации\n",
    "#calculate CV\n",
    "print('Коэфициент вариации для df_0\\n', cv(df_0))\n",
    "print('Коэфициент вариации для df_1\\n', cv(df_1))\n",
    "print('Коэфициент вариации для df_2\\n', cv(df_2))"
   ]
  },
  {
   "cell_type": "markdown",
   "metadata": {},
   "source": [
    "**Видим, что:**\n",
    "1. **`f0` имеет различное ненормальное распределение в df_0 - df_2**:\n",
    "- **`df_0`**: \n",
    "    - мультимодальность (4 моды), \n",
    "    - симметричность (Хср.~Me),\n",
    "    - размах данных от -1.4 до 2.4,\n",
    "    - наиболее репрезентативная часть данных (Q1-Q3): от -0.07 до 1,07;\n",
    "    - коф-т вариации > 0.33: высокая степень рассеивания, неоднородная совокупность;\n",
    "- **`df_1`**: \n",
    "    - бимодальность, \n",
    "    - симметричность (Хср.~Me),\n",
    "    - размах данных от -31.6 до 29.4,\n",
    "    - наиболее репрезентативная часть данных (Q1-Q3): от -6.3 до 8,6;\n",
    "    - коф-т вариации > 0.33: очень высокая степень рассеивания, неоднородная совокупность;\n",
    "- **`df_2`**: \n",
    "    - унимодальность, \n",
    "    - имеет незначительную левостороннюю асимметрию: Хср. < Me, следовательно распределение имеют тенденцию, скорее, к уменьшению соответствующих показателей (регрессивности),\n",
    "    - размах данных от -31.6 до 29.4,\n",
    "    - наиболее репрезентативная часть данных (Q1-Q3): от -8.8 до 7,2;\n",
    "    - коф-т вариации > 0.33: чрезвычайно высокая степень рассеивания, неоднородная совокупность.\n",
    "2. **`f1` имеет различное ненормальное распределение в df_0 - df_2**:\n",
    "- **`df_0`**: \n",
    "    - мультимодальность (3 моды), \n",
    "    - симметричность (Хср.~Me),\n",
    "    - размах данных от -0.85 до 1.34,\n",
    "    - наиболее репрезентативная часть данных (Q1-Q3): от -0.2 до 0,7;\n",
    "    - коф-т вариации > 0.33: высокая степень рассеивания, неоднородная совокупность; \n",
    "- **`df_1`**: \n",
    "    - унимодальность, \n",
    "    - симметричность (Хср.~Me),\n",
    "    - размах данных от -26.4 до 18.7,\n",
    "    - наиболее репрезентативная часть данных (Q1-Q3): от -8.3 до -1,3;\n",
    "    - коф-т вариации < -0.33: высокая степень рассеивания, неоднородная совокупность;\n",
    "- **`df_2`**: \n",
    "    - унимодальность, \n",
    "    - имеет незначительную левостороннюю асимметрию: Хср. > Me, следовательно распределение имеют тенденцию, скорее, к увеличению соответствующих показателей (прогрессивности),\n",
    "    - размах данных от -7 до 7.8,\n",
    "    - наиболее репрезентативная часть данных (Q1-Q3): от -1.17 до 1,16;\n",
    "    - коф-т вариации < -0.33: чрезвычайно высокая степень рассеивания, неоднородная совокупность. \n",
    "3. **`f2` имеет различное ненормальное распределение в df_0 - df_2**:\n",
    "- **`df_0`**: \n",
    "    - унимодальность, \n",
    "    - симметричность (Хср.~Me),\n",
    "    - размах данных от -12 до 16,\n",
    "    - наиболее репрезентативная часть данных (Q1-Q3): от 0.3 до 4,7;\n",
    "    - коф-т вариации > 0.33: высокая степень рассеивания, неоднородная совокупность; \n",
    "- **`df_1`**: \n",
    "    - мультимодальность: данные группируются вокруг значений: 0,1,2,3,4,5, \n",
    "    - имеет левостороннюю асимметрию: Хср. > Me, следовательно распределение имеют тенденцию, скорее, к увеличению соответствующих показателей (прогрессивности),\n",
    "    - размах данных от -0.02 до 5.02,\n",
    "    - наиболее репрезентативная часть данных (Q1-Q3): от 1 до 4;\n",
    "    - коф-т вариации > 0.33: высокая степень рассеивания, неоднородная совокупность;\n",
    "- **`df_2`**: \n",
    "    - унимодальность, \n",
    "    - симметричность (Хср.~Me),\n",
    "    - размах данных от -12 до 16.7,\n",
    "    - наиболее репрезентативная часть данных (Q1-Q3): от 0.13 до 4,86;\n",
    "    - коф-т вариации < -0.33: чрезвычайно высокая степень рассеивания, неоднородная совокупность. \n",
    "4. **`product` имеет различное ненормальное распределение в df_0 - df_2**:\n",
    "- **`df_0`**: \n",
    "    - возможная мултимодальность, \n",
    "    - симметричность (Хср.~Me),\n",
    "    - размах данных от 0 до 185,\n",
    "    - наиболее репрезентативная часть данных (Q1-Q3): от 56.5 до 128,6;\n",
    "    - коф-т вариации 0.47 > 0.33: высокая степень рассеивания, неоднородная совокупность; \n",
    "- **`df_1`**: \n",
    "    - мультимодальность: данные группируются вокруг значений: 0,25,75,100,125, \n",
    "    - имеет левостороннюю асимметрию: Хср. > Me, следовательно распределение имеют тенденцию, скорее, к увеличению соответствующих показателей (прогрессивности),\n",
    "    - размах данных от 0 до 138,\n",
    "    - наиболее репрезентативная часть данных (Q1-Q3): от 26.9 до 107.8;\n",
    "    - коф-т вариации 0.67 > 0.33: высокая степень рассеивания, неоднородная совокупность;\n",
    "- **`df_2`**: \n",
    "    - возможная мултимодальность, \n",
    "    - симметричность (Хср.~Me),\n",
    "    - размах данных от 0 до 190,\n",
    "    - наиболее репрезентативная часть данных (Q1-Q3): от 59.5 до 130,6;\n",
    "    - коэф-т вариации 0.47 > 0.33: высокая степень рассеивания, неоднородная совокупность.\n",
    "---\n",
    "**Итак**,\n",
    "1. **Распределение значений признаков по трем регионам, как правило, существенно отличаются, как по диапазону данных, так и по статистикам**. \n",
    "2. **Имеющиеся сходства позволяют заключить, что 1-е и 3-е месторождения по исследуемым признакам ближе друг к другу, чем каждый из них ко 2-му месторождению (в части `f1`, `f2`, `product`)**.\n",
    "3. **При этом 3-й регион имеет скважину с наибольшим объёмом запасов в скважине - 190 тыс.бар.; наиболее репрезентативная часть данных (Q1-Q3): от 59.5 до 130,6, содержит наибольшее интервальное значение; наименьший разброс в данных**"
   ]
  },
  {
   "cell_type": "code",
   "execution_count": 15,
   "metadata": {},
   "outputs": [
    {
     "data": {
      "image/png": "[encoded data removed]",
      "text/plain": [
       "<Figure size 1440x2160 with 12 Axes>"
      ]
     },
     "metadata": {
      "needs_background": "light"
     },
     "output_type": "display_data"
    }
   ],
   "source": [
    "plot_box(df_0.columns, df_0, df_1, df_2)"
   ]
  },
  {
   "cell_type": "markdown",
   "metadata": {},
   "source": [
    "**Обратим внимание, что в некоторых столбцах имеется немало выбросов. Так как модель линейной регрессии очень чувстиветльна к выбросам, целесообразно удалить их, если это существенно не уменьшит объем данных для обучения. Столбцы с выбросами**:\n",
    "1) df_0: `f2`\n",
    "2) df_1: `f1`\n",
    "3) df_2: `f0`, `f1`, `f2`"
   ]
  },
  {
   "cell_type": "markdown",
   "metadata": {},
   "source": [
    "### Устраняем аномалии в данных"
   ]
  },
  {
   "cell_type": "markdown",
   "metadata": {},
   "source": [
    "Постараемся избавиться от аномалий с помощью **метода межквартильного диапазона**:"
   ]
  },
  {
   "cell_type": "code",
   "execution_count": 16,
   "metadata": {},
   "outputs": [],
   "source": [
    "df_0_clean = df_0.copy()\n",
    "df_1_clean = df_1.copy()\n",
    "df_2_clean = df_2.copy()"
   ]
  },
  {
   "cell_type": "code",
   "execution_count": 17,
   "metadata": {},
   "outputs": [],
   "source": [
    "def iqr_transform(*dfs): # исследуем, какое количество данных будет удалено с помощью указанного метода\n",
    "    for df in dfs:\n",
    "        Q1 = df.quantile(q=.25)\n",
    "        Q3 = df.quantile(q=.75)\n",
    "        IQR = Q3 - Q1\n",
    "        df = df[~((df < (Q1-1.5*IQR)) | (df > (Q3+1.5*IQR))).any(axis=1)]\n",
    "        print(df.shape)"
   ]
  },
  {
   "cell_type": "code",
   "execution_count": 18,
   "metadata": {},
   "outputs": [
    {
     "name": "stdout",
     "output_type": "stream",
     "text": [
      "(99494, 4)\n",
      "(99363, 4)\n",
      "(98004, 4)\n"
     ]
    }
   ],
   "source": [
    "iqr_transform(df_0_clean, df_1_clean, df_2_clean)"
   ]
  },
  {
   "cell_type": "markdown",
   "metadata": {},
   "source": [
    "Видим, что, если применить метод IQR, будет удалено:\n",
    "- 0,5% данных из df_0;\n",
    "- 0,65% данных из df_1;\n",
    "- около 2 % из df_2.\n",
    "---\n",
    "В целом, в пределах нормы (не более 5% от всех данных), с учетом общего объема данных"
   ]
  },
  {
   "cell_type": "code",
   "execution_count": 19,
   "metadata": {},
   "outputs": [
    {
     "name": "stdout",
     "output_type": "stream",
     "text": [
      "(99494, 4)\n"
     ]
    }
   ],
   "source": [
    "Q1 = df_0_clean.quantile(q=.25)\n",
    "Q3 = df_0_clean.quantile(q=.75)\n",
    "IQR = Q3 - Q1\n",
    "df_0_clean = df_0_clean[~((df_0_clean < (Q1-1.5*IQR)) | (df_0_clean > (Q3+1.5*IQR))).any(axis=1)]\n",
    "print(df_0_clean.shape)"
   ]
  },
  {
   "cell_type": "code",
   "execution_count": 20,
   "metadata": {},
   "outputs": [
    {
     "name": "stdout",
     "output_type": "stream",
     "text": [
      "(99363, 4)\n"
     ]
    }
   ],
   "source": [
    "Q1 = df_1_clean.quantile(q=.25)\n",
    "Q3 = df_1_clean.quantile(q=.75)\n",
    "IQR = Q3 - Q1\n",
    "df_1_clean = df_1_clean[~((df_1_clean < (Q1-1.5*IQR)) | (df_1_clean > (Q3+1.5*IQR))).any(axis=1)]\n",
    "print(df_1_clean.shape)"
   ]
  },
  {
   "cell_type": "code",
   "execution_count": 21,
   "metadata": {},
   "outputs": [
    {
     "name": "stdout",
     "output_type": "stream",
     "text": [
      "(98004, 4)\n"
     ]
    }
   ],
   "source": [
    "Q1 = df_2_clean.quantile(q=.25)\n",
    "Q3 = df_2_clean.quantile(q=.75)\n",
    "IQR = Q3 - Q1\n",
    "df_2_clean = df_2_clean[~((df_2_clean < (Q1-1.5*IQR)) | (df_2_clean > (Q3+1.5*IQR))).any(axis=1)]\n",
    "print(df_2_clean.shape)"
   ]
  },
  {
   "cell_type": "markdown",
   "metadata": {},
   "source": [
    "**Посмотрим на диаграммы размах после очистки данных**"
   ]
  },
  {
   "cell_type": "code",
   "execution_count": 22,
   "metadata": {},
   "outputs": [
    {
     "data": {
      "image/png": "[encoded data removed]",
      "text/plain": [
       "<Figure size 1440x2160 with 12 Axes>"
      ]
     },
     "metadata": {
      "needs_background": "light"
     },
     "output_type": "display_data"
    }
   ],
   "source": [
    "plot_box(df_0_clean.columns, df_0_clean, df_1_clean, df_2_clean)"
   ]
  },
  {
   "cell_type": "markdown",
   "metadata": {},
   "source": [
    "**Выбросы удалены**"
   ]
  },
  {
   "cell_type": "markdown",
   "metadata": {},
   "source": [
    "### Корреляционный анализ"
   ]
  },
  {
   "cell_type": "code",
   "execution_count": 23,
   "metadata": {},
   "outputs": [],
   "source": [
    "def df_heatmap(*dfs): # исследуем, какое количество данных будет удалено с помощью указанного метода\n",
    "    count = 0\n",
    "    for df in dfs:\n",
    "        sns.set(font_scale=1.15)\n",
    "        plt.figure(figsize=(8,4))\n",
    "        plt.title('Корр. матрица: df_' + str(count), fontsize=15)\n",
    "        sns.heatmap(df.corr(),\n",
    "        cmap='RdBu_r', # задаём цветовую схему\n",
    "        annot=True, # рисуем значения внутри ячеек\n",
    "        vmin=-1, vmax=1), # указываем начало цветовых кодов от -1 до 1.\n",
    "        count += 1"
   ]
  },
  {
   "cell_type": "code",
   "execution_count": 24,
   "metadata": {},
   "outputs": [
    {
     "data": {
      "image/png": "[encoded data removed]",
      "text/plain": [
       "<Figure size 576x288 with 2 Axes>"
      ]
     },
     "metadata": {},
     "output_type": "display_data"
    },
    {
     "data": {
      "image/png": "[encoded data removed]",
      "text/plain": [
       "<Figure size 576x288 with 2 Axes>"
      ]
     },
     "metadata": {},
     "output_type": "display_data"
    },
    {
     "data": {
      "image/png": "[encoded data removed]",
      "text/plain": [
       "<Figure size 576x288 with 2 Axes>"
      ]
     },
     "metadata": {},
     "output_type": "display_data"
    }
   ],
   "source": [
    "df_heatmap(df_0_clean, df_1_clean, df_2_clean)"
   ]
  },
  {
   "cell_type": "markdown",
   "metadata": {},
   "source": [
    "**Видим:**\n",
    "- `df_0`: между признаками f0 и f1 наблюдается умеренная отрицательная линейная зависимость; также наблюдается умеренная положительная связь между f2 и целевым признаком;\n",
    "\n",
    "- `df_1`: между признаками f2 и целевым признаком наблюдается фактически функциональная линейная зависимость;\n",
    "\n",
    "- `df_2`: наблюдается умеренная положительная связь между f2 и целевым признаком;\n",
    "---\n",
    "\n",
    "Для обучения моделей может быть важным наличие корр. зависимости между столбцами (предикторами) в датафрейме. Известно, что мультиколлинеарность может стать причиной переобучаемости модели, что приведет к неверному результату. Кроме того, избыточные коэффициенты увеличивают сложность модели машинного обучения, а значит, время ее тренировки возрастает. \n",
    "\n",
    "---\n",
    "Учитывая это, дополнительно **посчитаем коэффициент инфляции дисперсии (VIF)**: по сути, множитель, который увеличивает дисперсию (увеличение дисперсии по сравнению с тем, какой бы она была в случае однофакторной регрессии)"
   ]
  },
  {
   "cell_type": "code",
   "execution_count": 25,
   "metadata": {},
   "outputs": [
    {
     "data": {
      "text/plain": [
       "53.906522     8423\n",
       "26.953261     8414\n",
       "84.038886     8380\n",
       "57.085625     8342\n",
       "3.179103      8289\n",
       "30.132364     8266\n",
       "80.859783     8263\n",
       "110.992147    8251\n",
       "134.766305    8244\n",
       "0.000000      8173\n",
       "137.945408    8169\n",
       "107.813044    8149\n",
       "Name: product, dtype: int64"
      ]
     },
     "execution_count": 25,
     "metadata": {},
     "output_type": "execute_result"
    }
   ],
   "source": [
    "df_1_clean['product'].value_counts()"
   ]
  },
  {
   "cell_type": "code",
   "execution_count": 26,
   "metadata": {},
   "outputs": [
    {
     "data": {
      "image/png": "[encoded data removed]",
      "text/plain": [
       "<Figure size 576x288 with 1 Axes>"
      ]
     },
     "metadata": {},
     "output_type": "display_data"
    }
   ],
   "source": [
    "df_1_clean.plot(kind='scatter', y='product' , x='f2', alpha=0.5, figsize=(8,4), c = 'r', s = 10)\n",
    "plt.title('Диаграмма рассеяния — объём запасов в скважине — f2', fontsize=15);"
   ]
  },
  {
   "cell_type": "code",
   "execution_count": 27,
   "metadata": {},
   "outputs": [
    {
     "data": {
      "text/html": [
       "<div>\n",
       "<style scoped>\n",
       "    .dataframe tbody tr th:only-of-type {\n",
       "        vertical-align: middle;\n",
       "    }\n",
       "\n",
       "    .dataframe tbody tr th {\n",
       "        vertical-align: top;\n",
       "    }\n",
       "\n",
       "    .dataframe thead th {\n",
       "        text-align: right;\n",
       "    }\n",
       "</style>\n",
       "<table border=\"1\" class=\"dataframe\">\n",
       "  <thead>\n",
       "    <tr style=\"text-align: right;\">\n",
       "      <th></th>\n",
       "      <th>VIF</th>\n",
       "      <th>variable</th>\n",
       "    </tr>\n",
       "  </thead>\n",
       "  <tbody>\n",
       "    <tr>\n",
       "      <th>0</th>\n",
       "      <td>2.648245</td>\n",
       "      <td>Intercept</td>\n",
       "    </tr>\n",
       "    <tr>\n",
       "      <th>1</th>\n",
       "      <td>1.241063</td>\n",
       "      <td>f0</td>\n",
       "    </tr>\n",
       "    <tr>\n",
       "      <th>2</th>\n",
       "      <td>1.241051</td>\n",
       "      <td>f1</td>\n",
       "    </tr>\n",
       "    <tr>\n",
       "      <th>3</th>\n",
       "      <td>1.000011</td>\n",
       "      <td>f2</td>\n",
       "    </tr>\n",
       "  </tbody>\n",
       "</table>\n",
       "</div>"
      ],
      "text/plain": [
       "        VIF   variable\n",
       "0  2.648245  Intercept\n",
       "1  1.241063         f0\n",
       "2  1.241051         f1\n",
       "3  1.000011         f2"
      ]
     },
     "execution_count": 27,
     "metadata": {},
     "output_type": "execute_result"
    }
   ],
   "source": [
    "from patsy import dmatrices\n",
    "from statsmodels.stats.outliers_influence import variance_inflation_factor\n",
    "\n",
    "#find design matrix for linear regression model using 'rating' as response variable \n",
    "y, X = dmatrices('product ~ f0+f1+f2', data=df_0_clean, return_type='dataframe')\n",
    "\n",
    "#calculate VIF for each explanatory variable\n",
    "vif = pd.DataFrame()\n",
    "vif['VIF'] = [variance_inflation_factor(X.values, i) for i in range(X.shape[1])]\n",
    "vif['variable'] = X.columns\n",
    "\n",
    "#view VIF for each explanatory variable \n",
    "vif"
   ]
  },
  {
   "cell_type": "code",
   "execution_count": 28,
   "metadata": {},
   "outputs": [
    {
     "data": {
      "text/html": [
       "<div>\n",
       "<style scoped>\n",
       "    .dataframe tbody tr th:only-of-type {\n",
       "        vertical-align: middle;\n",
       "    }\n",
       "\n",
       "    .dataframe tbody tr th {\n",
       "        vertical-align: top;\n",
       "    }\n",
       "\n",
       "    .dataframe thead th {\n",
       "        text-align: right;\n",
       "    }\n",
       "</style>\n",
       "<table border=\"1\" class=\"dataframe\">\n",
       "  <thead>\n",
       "    <tr style=\"text-align: right;\">\n",
       "      <th></th>\n",
       "      <th>VIF</th>\n",
       "      <th>variable</th>\n",
       "    </tr>\n",
       "  </thead>\n",
       "  <tbody>\n",
       "    <tr>\n",
       "      <th>0</th>\n",
       "      <td>4.158703</td>\n",
       "      <td>Intercept</td>\n",
       "    </tr>\n",
       "    <tr>\n",
       "      <th>1</th>\n",
       "      <td>1.033078</td>\n",
       "      <td>f0</td>\n",
       "    </tr>\n",
       "    <tr>\n",
       "      <th>2</th>\n",
       "      <td>1.033084</td>\n",
       "      <td>f1</td>\n",
       "    </tr>\n",
       "    <tr>\n",
       "      <th>3</th>\n",
       "      <td>1.000009</td>\n",
       "      <td>f2</td>\n",
       "    </tr>\n",
       "  </tbody>\n",
       "</table>\n",
       "</div>"
      ],
      "text/plain": [
       "        VIF   variable\n",
       "0  4.158703  Intercept\n",
       "1  1.033078         f0\n",
       "2  1.033084         f1\n",
       "3  1.000009         f2"
      ]
     },
     "execution_count": 28,
     "metadata": {},
     "output_type": "execute_result"
    }
   ],
   "source": [
    "y, X = dmatrices('product ~ f0+f1+f2', data=df_1_clean, return_type='dataframe')\n",
    "\n",
    "#calculate VIF for each explanatory variable\n",
    "vif = pd.DataFrame()\n",
    "vif['VIF'] = [variance_inflation_factor(X.values, i) for i in range(X.shape[1])]\n",
    "vif['variable'] = X.columns\n",
    "\n",
    "#view VIF for each explanatory variable \n",
    "vif"
   ]
  },
  {
   "cell_type": "code",
   "execution_count": 29,
   "metadata": {},
   "outputs": [
    {
     "data": {
      "text/html": [
       "<div>\n",
       "<style scoped>\n",
       "    .dataframe tbody tr th:only-of-type {\n",
       "        vertical-align: middle;\n",
       "    }\n",
       "\n",
       "    .dataframe tbody tr th {\n",
       "        vertical-align: top;\n",
       "    }\n",
       "\n",
       "    .dataframe thead th {\n",
       "        text-align: right;\n",
       "    }\n",
       "</style>\n",
       "<table border=\"1\" class=\"dataframe\">\n",
       "  <thead>\n",
       "    <tr style=\"text-align: right;\">\n",
       "      <th></th>\n",
       "      <th>VIF</th>\n",
       "      <th>variable</th>\n",
       "    </tr>\n",
       "  </thead>\n",
       "  <tbody>\n",
       "    <tr>\n",
       "      <th>0</th>\n",
       "      <td>1.541572</td>\n",
       "      <td>Intercept</td>\n",
       "    </tr>\n",
       "    <tr>\n",
       "      <th>1</th>\n",
       "      <td>1.000001</td>\n",
       "      <td>f0</td>\n",
       "    </tr>\n",
       "    <tr>\n",
       "      <th>2</th>\n",
       "      <td>1.000001</td>\n",
       "      <td>f1</td>\n",
       "    </tr>\n",
       "    <tr>\n",
       "      <th>3</th>\n",
       "      <td>1.000001</td>\n",
       "      <td>f2</td>\n",
       "    </tr>\n",
       "  </tbody>\n",
       "</table>\n",
       "</div>"
      ],
      "text/plain": [
       "        VIF   variable\n",
       "0  1.541572  Intercept\n",
       "1  1.000001         f0\n",
       "2  1.000001         f1\n",
       "3  1.000001         f2"
      ]
     },
     "execution_count": 29,
     "metadata": {},
     "output_type": "execute_result"
    }
   ],
   "source": [
    "y, X = dmatrices('product ~ f0+f1+f2', data=df_2_clean, return_type='dataframe')\n",
    "\n",
    "#calculate VIF for each explanatory variable\n",
    "vif = pd.DataFrame()\n",
    "vif['VIF'] = [variance_inflation_factor(X.values, i) for i in range(X.shape[1])]\n",
    "vif['variable'] = X.columns\n",
    "\n",
    "#view VIF for each explanatory variable \n",
    "vif"
   ]
  },
  {
   "cell_type": "markdown",
   "metadata": {},
   "source": [
    "Видим, что VIF ~ 1+, следовательно мультикол-ть в нашем наборе данных фактически отсутствует."
   ]
  },
  {
   "cell_type": "markdown",
   "metadata": {},
   "source": [
    "**Вывод:**\n",
    "\n",
    "**1. Природа данных**:\n",
    "- категориальные: id's; \n",
    "- количественные: остальные.\n",
    "\n",
    "**2. В результате предобработки данных**:\n",
    "- отсуствуют полные дубликаты;\n",
    "- типы данных во всех столбцах соответствуют их природе;\n",
    "- выявлено, что в датафрейме имеются неинформативные столбцы: `id`; удалены;\n",
    "- в ходе корреляционного анализа была выявлено: мультикол-ть в нашем наборе данных фактически отсутствует.\n",
    "\n",
    "**3. В ходе предобработки выявлено**:\n",
    "- распределение значений признаков по трем регионам, как правило, существенно отличаются, как по диапазону данных, так и по статистикам;\n",
    "- имеющиеся сходства позволяют заключить, что 1-е и 3-е месторождения по исследуемым признакам ближе друг к другу, чем каждый из них ко 2-му месторождению (в части `f1`, `f2`, `product`);\n",
    "- при этом 3-й регион имеет скважину с наибольшим объёмом запасов в скважине - 190 тыс.бар., наиболее репрезентативная часть данных (Q1-Q3): от 59.5 до 130,6 содержит наибольшее интервальное значение; наименьший разброс в данных.\n",
    "\n",
    "---\n",
    "В целом, данные прошли необходимую прдобработку и готовы для обучения моделей."
   ]
  },
  {
   "cell_type": "code",
   "execution_count": 30,
   "metadata": {},
   "outputs": [
    {
     "name": "stdout",
     "output_type": "stream",
     "text": [
      "Collecting pandas-profiling\n",
      "  Downloading pandas_profiling-3.6.6-py2.py3-none-any.whl (324 kB)\n",
      "\u001b[K     |████████████████████████████████| 324 kB 1.9 MB/s eta 0:00:01\n",
      "\u001b[?25hCollecting ydata-profiling\n",
      "  Downloading ydata_profiling-4.1.2-py2.py3-none-any.whl (345 kB)\n",
      "\u001b[K     |████████████████████████████████| 345 kB 43.3 MB/s eta 0:00:01\n",
      "\u001b[?25hCollecting htmlmin==0.1.12\n",
      "  Downloading htmlmin-0.1.12.tar.gz (19 kB)\n",
      "Requirement already satisfied: seaborn<0.13,>=0.10.1 in /opt/conda/lib/python3.9/site-packages (from ydata-profiling->pandas-profiling) (0.11.1)\n",
      "Requirement already satisfied: tqdm<4.65,>=4.48.2 in /opt/conda/lib/python3.9/site-packages (from ydata-profiling->pandas-profiling) (4.61.2)\n",
      "Requirement already satisfied: statsmodels<0.14,>=0.13.2 in /opt/conda/lib/python3.9/site-packages (from ydata-profiling->pandas-profiling) (0.13.2)\n",
      "Collecting typeguard<2.14,>=2.13.2\n",
      "  Downloading typeguard-2.13.3-py3-none-any.whl (17 kB)\n",
      "Collecting phik<0.13,>=0.11.1\n",
      "  Downloading phik-0.12.3-cp39-cp39-manylinux_2_17_x86_64.manylinux2014_x86_64.whl (679 kB)\n",
      "\u001b[K     |████████████████████████████████| 679 kB 91.6 MB/s eta 0:00:01\n",
      "\u001b[?25hCollecting multimethod<1.10,>=1.4\n",
      "  Downloading multimethod-1.9.1-py3-none-any.whl (10 kB)\n",
      "Requirement already satisfied: requests<2.29,>=2.24.0 in /opt/conda/lib/python3.9/site-packages (from ydata-profiling->pandas-profiling) (2.25.1)\n",
      "Requirement already satisfied: scipy<1.10,>=1.4.1 in /opt/conda/lib/python3.9/site-packages (from ydata-profiling->pandas-profiling) (1.9.1)\n",
      "Requirement already satisfied: PyYAML<6.1,>=5.0.0 in /opt/conda/lib/python3.9/site-packages (from ydata-profiling->pandas-profiling) (6.0)\n",
      "Requirement already satisfied: pydantic<1.11,>=1.8.1 in /opt/conda/lib/python3.9/site-packages (from ydata-profiling->pandas-profiling) (1.8.2)\n",
      "Requirement already satisfied: pandas!=1.4.0,<1.6,>1.1 in /opt/conda/lib/python3.9/site-packages (from ydata-profiling->pandas-profiling) (1.2.4)\n",
      "Collecting matplotlib<3.7,>=3.2\n",
      "  Downloading matplotlib-3.6.3-cp39-cp39-manylinux_2_17_x86_64.manylinux2014_x86_64.whl (11.8 MB)\n",
      "\u001b[K     |████████████████████████████████| 11.8 MB 60.4 MB/s eta 0:00:01\n",
      "\u001b[?25hCollecting visions[type_image_path]==0.7.5\n",
      "  Downloading visions-0.7.5-py3-none-any.whl (102 kB)\n",
      "\u001b[K     |████████████████████████████████| 102 kB 68.4 MB/s eta 0:00:01\n",
      "\u001b[?25hCollecting imagehash==4.3.1\n",
      "  Downloading ImageHash-4.3.1-py2.py3-none-any.whl (296 kB)\n",
      "\u001b[K     |████████████████████████████████| 296 kB 103.3 MB/s eta 0:00:01\n",
      "\u001b[?25hRequirement already satisfied: jinja2<3.2,>=2.11.1 in /opt/conda/lib/python3.9/site-packages (from ydata-profiling->pandas-profiling) (3.0.1)\n",
      "Requirement already satisfied: numpy<1.24,>=1.16.0 in /opt/conda/lib/python3.9/site-packages (from ydata-profiling->pandas-profiling) (1.21.1)\n",
      "Requirement already satisfied: pillow in /opt/conda/lib/python3.9/site-packages (from imagehash==4.3.1->ydata-profiling->pandas-profiling) (8.4.0)\n",
      "Collecting PyWavelets\n",
      "  Downloading PyWavelets-1.4.1-cp39-cp39-manylinux_2_17_x86_64.manylinux2014_x86_64.whl (6.9 MB)\n",
      "\u001b[K     |████████████████████████████████| 6.9 MB 77.4 MB/s eta 0:00:01\n",
      "\u001b[?25hCollecting tangled-up-in-unicode>=0.0.4\n",
      "  Downloading tangled_up_in_unicode-0.2.0-py3-none-any.whl (4.7 MB)\n",
      "\u001b[K     |████████████████████████████████| 4.7 MB 67.3 MB/s eta 0:00:01\n",
      "\u001b[?25hCollecting networkx>=2.4\n",
      "  Downloading networkx-3.1-py3-none-any.whl (2.1 MB)\n",
      "\u001b[K     |████████████████████████████████| 2.1 MB 74.4 MB/s eta 0:00:01\n",
      "\u001b[?25hRequirement already satisfied: attrs>=19.3.0 in /opt/conda/lib/python3.9/site-packages (from visions[type_image_path]==0.7.5->ydata-profiling->pandas-profiling) (21.2.0)\n",
      "Requirement already satisfied: MarkupSafe>=2.0 in /opt/conda/lib/python3.9/site-packages (from jinja2<3.2,>=2.11.1->ydata-profiling->pandas-profiling) (2.1.1)\n",
      "Requirement already satisfied: fonttools>=4.22.0 in /opt/conda/lib/python3.9/site-packages (from matplotlib<3.7,>=3.2->ydata-profiling->pandas-profiling) (4.39.3)\n",
      "Requirement already satisfied: pyparsing>=2.2.1 in /opt/conda/lib/python3.9/site-packages (from matplotlib<3.7,>=3.2->ydata-profiling->pandas-profiling) (2.4.7)\n",
      "Requirement already satisfied: kiwisolver>=1.0.1 in /opt/conda/lib/python3.9/site-packages (from matplotlib<3.7,>=3.2->ydata-profiling->pandas-profiling) (1.4.4)\n",
      "Requirement already satisfied: packaging>=20.0 in /opt/conda/lib/python3.9/site-packages (from matplotlib<3.7,>=3.2->ydata-profiling->pandas-profiling) (21.3)\n",
      "Requirement already satisfied: contourpy>=1.0.1 in /opt/conda/lib/python3.9/site-packages (from matplotlib<3.7,>=3.2->ydata-profiling->pandas-profiling) (1.0.7)\n",
      "Requirement already satisfied: cycler>=0.10 in /opt/conda/lib/python3.9/site-packages (from matplotlib<3.7,>=3.2->ydata-profiling->pandas-profiling) (0.11.0)\n",
      "Requirement already satisfied: python-dateutil>=2.7 in /opt/conda/lib/python3.9/site-packages (from matplotlib<3.7,>=3.2->ydata-profiling->pandas-profiling) (2.8.1)\n",
      "Requirement already satisfied: pytz>=2017.3 in /opt/conda/lib/python3.9/site-packages (from pandas!=1.4.0,<1.6,>1.1->ydata-profiling->pandas-profiling) (2021.1)\n",
      "Requirement already satisfied: joblib>=0.14.1 in /opt/conda/lib/python3.9/site-packages (from phik<0.13,>=0.11.1->ydata-profiling->pandas-profiling) (1.1.0)\n",
      "Requirement already satisfied: typing-extensions>=3.7.4.3 in /opt/conda/lib/python3.9/site-packages (from pydantic<1.11,>=1.8.1->ydata-profiling->pandas-profiling) (4.3.0)\n",
      "Requirement already satisfied: six>=1.5 in /opt/conda/lib/python3.9/site-packages (from python-dateutil>=2.7->matplotlib<3.7,>=3.2->ydata-profiling->pandas-profiling) (1.16.0)\n",
      "Requirement already satisfied: chardet<5,>=3.0.2 in /opt/conda/lib/python3.9/site-packages (from requests<2.29,>=2.24.0->ydata-profiling->pandas-profiling) (4.0.0)\n",
      "Requirement already satisfied: certifi>=2017.4.17 in /opt/conda/lib/python3.9/site-packages (from requests<2.29,>=2.24.0->ydata-profiling->pandas-profiling) (2022.6.15)\n",
      "Requirement already satisfied: idna<3,>=2.5 in /opt/conda/lib/python3.9/site-packages (from requests<2.29,>=2.24.0->ydata-profiling->pandas-profiling) (2.10)\n",
      "Requirement already satisfied: urllib3<1.27,>=1.21.1 in /opt/conda/lib/python3.9/site-packages (from requests<2.29,>=2.24.0->ydata-profiling->pandas-profiling) (1.26.6)\n",
      "Requirement already satisfied: patsy>=0.5.2 in /opt/conda/lib/python3.9/site-packages (from statsmodels<0.14,>=0.13.2->ydata-profiling->pandas-profiling) (0.5.2)\n",
      "Building wheels for collected packages: htmlmin\n",
      "  Building wheel for htmlmin (setup.py) ... \u001b[?25ldone\n",
      "\u001b[?25h  Created wheel for htmlmin: filename=htmlmin-0.1.12-py3-none-any.whl size=27085 sha256=74f9969dfabbce6b4d72701b428d02354fa2cdf936dfe13a25caf498331c8d86\n",
      "  Stored in directory: /home/jovyan/.cache/pip/wheels/1d/05/04/c6d7d3b66539d9e659ac6dfe81e2d0fd4c1a8316cc5a403300\n",
      "Successfully built htmlmin\n",
      "Installing collected packages: tangled-up-in-unicode, PyWavelets, networkx, multimethod, visions, matplotlib, imagehash, typeguard, phik, htmlmin, ydata-profiling, pandas-profiling\n",
      "  Attempting uninstall: matplotlib\n",
      "    Found existing installation: matplotlib 3.7.1\n",
      "    Uninstalling matplotlib-3.7.1:\n",
      "      Successfully uninstalled matplotlib-3.7.1\n",
      "Successfully installed PyWavelets-1.4.1 htmlmin-0.1.12 imagehash-4.3.1 matplotlib-3.6.3 multimethod-1.9.1 networkx-3.1 pandas-profiling-3.6.6 phik-0.12.3 tangled-up-in-unicode-0.2.0 typeguard-2.13.3 visions-0.7.5 ydata-profiling-4.1.2\n",
      "Enabling notebook extension jupyter-js-widgets/extension...\n",
      "      - Validating: \u001b[32mOK\u001b[0m\n"
     ]
    }
   ],
   "source": [
    "!pip install -U pandas-profiling\n",
    "!jupyter nbextension enable --py widgetsnbextension"
   ]
  },
  {
   "cell_type": "code",
   "execution_count": 31,
   "metadata": {},
   "outputs": [
    {
     "data": {
      "application/vnd.jupyter.widget-view+json": {
       "model_id": "db8720d3a35947c1b6d082c0b274138f",
       "version_major": 2,
       "version_minor": 0
      },
      "text/plain": [
       "Summarize dataset:   0%|          | 0/5 [00:00<?, ?it/s]"
      ]
     },
     "metadata": {},
     "output_type": "display_data"
    },
    {
     "data": {
      "application/vnd.jupyter.widget-view+json": {
       "model_id": "56e95b4929fa4aacbf226c0dfa69662f",
       "version_major": 2,
       "version_minor": 0
      },
      "text/plain": [
       "Generate report structure:   0%|          | 0/1 [00:00<?, ?it/s]"
      ]
     },
     "metadata": {},
     "output_type": "display_data"
    },
    {
     "data": {
      "application/vnd.jupyter.widget-view+json": {
       "model_id": "",
       "version_major": 2,
       "version_minor": 0
      },
      "text/plain": [
       "Render widgets:   0%|          | 0/1 [00:00<?, ?it/s]"
      ]
     },
     "metadata": {},
     "output_type": "display_data"
    },
    {
     "data": {
      "application/vnd.jupyter.widget-view+json": {
       "model_id": "2b89fe3839bb4a06b396c63595d069e7",
       "version_major": 2,
       "version_minor": 0
      },
      "text/plain": [
       "VBox(children=(Tab(children=(Tab(children=(GridBox(children=(VBox(children=(GridspecLayout(children=(HTML(valu…"
      ]
     },
     "metadata": {},
     "output_type": "display_data"
    }
   ],
   "source": [
    "from pandas_profiling import ProfileReport\n",
    "profile = ProfileReport(df_1_clean, title=\"Pandas Profiling Report\")\n",
    "profile.to_widgets()"
   ]
  },
  {
   "cell_type": "code",
   "execution_count": 32,
   "metadata": {},
   "outputs": [
    {
     "name": "stdout",
     "output_type": "stream",
     "text": [
      "Collecting sweetviz\n",
      "  Downloading sweetviz-2.1.4-py3-none-any.whl (15.1 MB)\n",
      "\u001b[K     |████████████████████████████████| 15.1 MB 1.3 MB/s eta 0:00:01\n",
      "\u001b[?25hRequirement already satisfied: tqdm>=4.43.0 in /opt/conda/lib/python3.9/site-packages (from sweetviz) (4.61.2)\n",
      "Requirement already satisfied: pandas!=1.0.0,!=1.0.1,!=1.0.2,>=0.25.3 in /opt/conda/lib/python3.9/site-packages (from sweetviz) (1.2.4)\n",
      "Requirement already satisfied: importlib-resources>=1.2.0 in /opt/conda/lib/python3.9/site-packages (from sweetviz) (5.12.0)\n",
      "Requirement already satisfied: jinja2>=2.11.1 in /opt/conda/lib/python3.9/site-packages (from sweetviz) (3.0.1)\n",
      "Requirement already satisfied: matplotlib>=3.1.3 in /opt/conda/lib/python3.9/site-packages (from sweetviz) (3.6.3)\n",
      "Requirement already satisfied: scipy>=1.3.2 in /opt/conda/lib/python3.9/site-packages (from sweetviz) (1.9.1)\n",
      "Requirement already satisfied: numpy>=1.16.0 in /opt/conda/lib/python3.9/site-packages (from sweetviz) (1.21.1)\n",
      "Requirement already satisfied: zipp>=3.1.0 in /opt/conda/lib/python3.9/site-packages (from importlib-resources>=1.2.0->sweetviz) (3.5.0)\n",
      "Requirement already satisfied: MarkupSafe>=2.0 in /opt/conda/lib/python3.9/site-packages (from jinja2>=2.11.1->sweetviz) (2.1.1)\n",
      "Requirement already satisfied: fonttools>=4.22.0 in /opt/conda/lib/python3.9/site-packages (from matplotlib>=3.1.3->sweetviz) (4.39.3)\n",
      "Requirement already satisfied: kiwisolver>=1.0.1 in /opt/conda/lib/python3.9/site-packages (from matplotlib>=3.1.3->sweetviz) (1.4.4)\n",
      "Requirement already satisfied: packaging>=20.0 in /opt/conda/lib/python3.9/site-packages (from matplotlib>=3.1.3->sweetviz) (21.3)\n",
      "Requirement already satisfied: contourpy>=1.0.1 in /opt/conda/lib/python3.9/site-packages (from matplotlib>=3.1.3->sweetviz) (1.0.7)\n",
      "Requirement already satisfied: pyparsing>=2.2.1 in /opt/conda/lib/python3.9/site-packages (from matplotlib>=3.1.3->sweetviz) (2.4.7)\n",
      "Requirement already satisfied: pillow>=6.2.0 in /opt/conda/lib/python3.9/site-packages (from matplotlib>=3.1.3->sweetviz) (8.4.0)\n",
      "Requirement already satisfied: cycler>=0.10 in /opt/conda/lib/python3.9/site-packages (from matplotlib>=3.1.3->sweetviz) (0.11.0)\n",
      "Requirement already satisfied: python-dateutil>=2.7 in /opt/conda/lib/python3.9/site-packages (from matplotlib>=3.1.3->sweetviz) (2.8.1)\n",
      "Requirement already satisfied: pytz>=2017.3 in /opt/conda/lib/python3.9/site-packages (from pandas!=1.0.0,!=1.0.1,!=1.0.2,>=0.25.3->sweetviz) (2021.1)\n",
      "Requirement already satisfied: six>=1.5 in /opt/conda/lib/python3.9/site-packages (from python-dateutil>=2.7->matplotlib>=3.1.3->sweetviz) (1.16.0)\n",
      "Installing collected packages: sweetviz\n",
      "Successfully installed sweetviz-2.1.4\n"
     ]
    }
   ],
   "source": [
    "!pip install sweetviz"
   ]
  },
  {
   "cell_type": "code",
   "execution_count": 33,
   "metadata": {
    "scrolled": true
   },
   "outputs": [
    {
     "data": {
      "application/vnd.jupyter.widget-view+json": {
       "model_id": "bdffa093a78b4de5ad0f1f0b37e3cb3c",
       "version_major": 2,
       "version_minor": 0
      },
      "text/plain": [
       "                                             |          | [  0%]   00:00 -> (? left)"
      ]
     },
     "metadata": {},
     "output_type": "display_data"
    },
    {
     "name": "stdout",
     "output_type": "stream",
     "text": [
      "Report SWEETVIZ_REPORT.html was generated! NOTEBOOK/COLAB USERS: the web browser MAY not pop up, regardless, the report IS saved in your notebook/colab files.\n"
     ]
    }
   ],
   "source": [
    "import sweetviz as sv\n",
    "\n",
    "my_report = sv.analyze(df_1_clean)\n",
    "my_report.show_html()"
   ]
  },
  {
   "cell_type": "code",
   "execution_count": 34,
   "metadata": {},
   "outputs": [
    {
     "data": {
      "application/vnd.jupyter.widget-view+json": {
       "model_id": "07c05ecf5be7464c8a61a72bb6f35a6a",
       "version_major": 2,
       "version_minor": 0
      },
      "text/plain": [
       "                                             |          | [  0%]   00:00 -> (? left)"
      ]
     },
     "metadata": {},
     "output_type": "display_data"
    },
    {
     "name": "stdout",
     "output_type": "stream",
     "text": [
      "Report SWEETVIZ_REPORT.html was generated! NOTEBOOK/COLAB USERS: the web browser MAY not pop up, regardless, the report IS saved in your notebook/colab files.\n"
     ]
    }
   ],
   "source": [
    "my_report = sv.compare(df_1_clean, df_1)\n",
    "my_report.show_html()"
   ]
  },
  {
   "cell_type": "markdown",
   "metadata": {},
   "source": [
    "## Обучение и проверка модели"
   ]
  },
  {
   "cell_type": "markdown",
   "metadata": {},
   "source": [
    "**Напишем собственную функцию `region_prediction`, с помощью которой:**\n",
    "1) разделим датафрейм на features and target;\n",
    "\n",
    "2) разделим features на обучающую и валидационную выборки в соотношении 75:25;\n",
    "\n",
    "3) c помощью класса Pipeline:\n",
    "- объединим операции масштабирования признаков с созданием модели лин. рег-ии;\n",
    "- обучим модель;\n",
    "- сделаем предсказания на валидационной выборке;\n",
    "\n",
    "4) посчитаем метрику RMSE;\n",
    "\n",
    "5) сохраним в отдельных переменных предсказания, средний запас предсказанного сырья, средний запас фактического сырья и RMSE модели."
   ]
  },
  {
   "cell_type": "code",
   "execution_count": 35,
   "metadata": {},
   "outputs": [],
   "source": [
    "RANDOM_SEED = 42 # предварительно создадим переменную со значением \"42\" для последующего случайного характера разделения данных"
   ]
  },
  {
   "cell_type": "code",
   "execution_count": 36,
   "metadata": {},
   "outputs": [],
   "source": [
    "def region_prediction(df):\n",
    "   \n",
    "    X = df.drop([\"product\"], axis=1)\n",
    "    y = df[\"product\"]\n",
    "    X_train, X_valid, y_train, y_valid = train_test_split(X, y, test_size=0.25, random_state=RANDOM_SEED)\n",
    "    \n",
    "    pipe = make_pipeline(StandardScaler(),LinearRegression()) \n",
    "    pipe.fit(X_train, y_train) # обучение\n",
    "    predictions = pipe.predict(X_valid)\n",
    "    \n",
    "    rmse = mean_squared_error(y_valid, predictions)**0.5\n",
    "    \n",
    "    crude_mean = df['product'].mean()\n",
    "    crude_mean_pred = predictions.mean()\n",
    "    \n",
    "    return predictions, crude_mean, crude_mean_pred, rmse, y_valid.reset_index(drop=True)"
   ]
  },
  {
   "cell_type": "code",
   "execution_count": 37,
   "metadata": {},
   "outputs": [
    {
     "name": "stdout",
     "output_type": "stream",
     "text": [
      "Region 0\n",
      "средний запас предсказанного сырья 92.35 тыс. баррелей\n",
      "Средний запас фактического сырья = 92.50 т. баррелей\n",
      "RMSE модели 37.82\n"
     ]
    }
   ],
   "source": [
    "print('Region 0')\n",
    "predictions_0, crude_mean_0, crude_mean_pred_0, rmse_0, y_valid_0 = region_prediction(df_0_clean)\n",
    "print('средний запас предсказанного сырья {:.2f} тыс. баррелей'.format(crude_mean_pred_0))\n",
    "print('Средний запас фактического сырья = {:.2f} т. баррелей'.format(crude_mean_0))\n",
    "\n",
    "print('RMSE модели {:.2f}'.format(rmse_0))"
   ]
  },
  {
   "cell_type": "code",
   "execution_count": 38,
   "metadata": {},
   "outputs": [
    {
     "name": "stdout",
     "output_type": "stream",
     "text": [
      "Region 1\n",
      "средний запас предсказанного сырья 68.96 тыс. баррелей\n",
      "Средний запас фактического сырья = 68.81 т. баррелей\n",
      "RMSE модели 0.89\n"
     ]
    }
   ],
   "source": [
    "print('Region 1')\n",
    "predictions_1, crude_mean_1, crude_mean_pred_1, rmse_1, y_valid_1 = region_prediction(df_1_clean)\n",
    "print('средний запас предсказанного сырья {:.2f} тыс. баррелей'.format(crude_mean_pred_1))\n",
    "print('Средний запас фактического сырья = {:.2f} т. баррелей'.format(crude_mean_1))\n",
    "\n",
    "print('RMSE модели {:.2f}'.format(rmse_1))"
   ]
  },
  {
   "cell_type": "code",
   "execution_count": 39,
   "metadata": {},
   "outputs": [
    {
     "name": "stdout",
     "output_type": "stream",
     "text": [
      "Region 2\n",
      "средний запас предсказанного сырья 95.06 тыс. баррелей\n",
      "Средний запас фактического сырья = 94.79 т. баррелей\n",
      "RMSE модели 39.76\n"
     ]
    }
   ],
   "source": [
    "print('Region 2')\n",
    "predictions_2, crude_mean_2, crude_mean_pred_2, rmse_2, y_valid_2 = region_prediction(df_2_clean)\n",
    "print('средний запас предсказанного сырья {:.2f} тыс. баррелей'.format(crude_mean_pred_2))\n",
    "print('Средний запас фактического сырья = {:.2f} т. баррелей'.format(crude_mean_2))\n",
    "\n",
    "print('RMSE модели {:.2f}'.format(rmse_2))"
   ]
  },
  {
   "cell_type": "markdown",
   "metadata": {},
   "source": [
    "**Вывод:**\n",
    "\n",
    "*RMSE_1 < RMSE_0 < RMSE_2*\n",
    "\n",
    "1. Видим, что лучшая метрика RMSE = 0.89 (тыс. бар.) у модели линейной регрессии, построенной по данным региона № 1. \n",
    "\n",
    "2. Точность моделей, построенных по данным регионов № 0,2 составляет соответственно 37.82 и 39.76 тыс. бар., весьма существенные погрешности.\n",
    "\n",
    "3. Однако средний объем нефти в регионе 1 почти на 30% меньше средних объемов в регионах 0,2. Возможно этот фактор повлияет на расчет средней прибыли от добычи нефти в регионе.\n",
    "\n",
    "---\n",
    "Очевидно, что модель для региона 1 дает гораздо более предсказуемые результаты."
   ]
  },
  {
   "cell_type": "markdown",
   "metadata": {},
   "source": [
    "## Подготовка к расчёту прибыли"
   ]
  },
  {
   "cell_type": "markdown",
   "metadata": {},
   "source": [
    "### Ключевые значения для расчётов"
   ]
  },
  {
   "cell_type": "code",
   "execution_count": 40,
   "metadata": {},
   "outputs": [],
   "source": [
    "BUDGET = 10_000_000_000 # бюджет на разработку скважин в регионе\n",
    "REVENUE_OF_THE_UNIT = 450000 # доход с каждой единицы продукта (1000 баррелей)\n",
    "OIL_WELLS = 500 # точек для исследования\n",
    "BEST_OIL_WELLS = 200 # количество лучших точек\n",
    "PROFITABILITY = 0.025 # вероятностный порог безубыточности"
   ]
  },
  {
   "cell_type": "markdown",
   "metadata": {},
   "source": [
    "**Достаточный объём сырья для безубыточной разработки новой скважины - это, по сути, минимальный объем добычи нефти из одной точки, который гарантировано даст прибыль, по крайней мере, равную 0 рублей**.\n",
    "Для расчета разделим общий бюджет на (1) количество лучших скважин, которые планируем разрабатывать, (2) доход с 1000 баррелей -- получим количество баррелей (тыс.), которые необходимо извлечь для достижения безубыточности. "
   ]
  },
  {
   "cell_type": "markdown",
   "metadata": {},
   "source": [
    "### Расчет достаточного объёма сырья для безубыточной разработки новой скважины"
   ]
  },
  {
   "cell_type": "code",
   "execution_count": 41,
   "metadata": {},
   "outputs": [
    {
     "name": "stdout",
     "output_type": "stream",
     "text": [
      "Достаточный объём сырья для безубыточной разработки новой скважины: 111.111 тысяч баррелей\n"
     ]
    }
   ],
   "source": [
    "sufficient_level = BUDGET / BEST_OIL_WELLS / REVENUE_OF_THE_UNIT \n",
    "print(f'Достаточный объём сырья для безубыточной разработки новой скважины: {round(sufficient_level,3)} тысяч баррелей')"
   ]
  },
  {
   "cell_type": "markdown",
   "metadata": {},
   "source": [
    "### Сравнение полученного объёма сырья со средним запасом в каждом регионе"
   ]
  },
  {
   "cell_type": "code",
   "execution_count": 42,
   "metadata": {},
   "outputs": [
    {
     "name": "stdout",
     "output_type": "stream",
     "text": [
      "Средний запас фактического сырья в Регионе 0 = 92.50 тысяч баррелей\n",
      "Средний запас фактического сырья в Регионе 1 = 68.81 тысяч баррелей\n",
      "Средний запас фактического сырья в Регионе 2 = 94.79 тысяч баррелей\n"
     ]
    }
   ],
   "source": [
    "print('Средний запас фактического сырья в Регионе 0 = {:.2f} тысяч баррелей'.format(crude_mean_0))\n",
    "print('Средний запас фактического сырья в Регионе 1 = {:.2f} тысяч баррелей'.format(crude_mean_1))\n",
    "print('Средний запас фактического сырья в Регионе 2 = {:.2f} тысяч баррелей'.format(crude_mean_2))"
   ]
  },
  {
   "cell_type": "markdown",
   "metadata": {},
   "source": [
    "**Видим, что средний объем запасов в каждом регионе меньше достаточного объема для разработки новой скважины**\n",
    "\n",
    "---\n",
    "Однако выше мы отметили, что в данных очень большой разброс. С помощью квантилей посмотрим, сможем ли мы найти хотя бы 200 безубыточных точек в каждом регионе."
   ]
  },
  {
   "cell_type": "code",
   "execution_count": 43,
   "metadata": {},
   "outputs": [
    {
     "name": "stdout",
     "output_type": "stream",
     "text": [
      "35% скважин в 0 регионе содержат больше сырья, чем  113.1 тыс.бар.\n",
      "17% скважин в 1 регионе содержат больше сырья, чем  111.0 тыс.бар.\n",
      "35% скважин во 2 регионе содержат больше сырья, чем  115.36 тыс.бар.\n"
     ]
    }
   ],
   "source": [
    "print(\"35% скважин в 0 регионе содержат больше сырья, чем \", round(df_0_clean[\"product\"].quantile(0.65),2), 'тыс.бар.')\n",
    "print(\"17% скважин в 1 регионе содержат больше сырья, чем \", round(df_1_clean[\"product\"].quantile(0.83),1), 'тыс.бар.')\n",
    "print(\"35% скважин во 2 регионе содержат больше сырья, чем \", round(df_2_clean[\"product\"].quantile(0.65),2), 'тыс.бар.')"
   ]
  },
  {
   "cell_type": "code",
   "execution_count": 44,
   "metadata": {},
   "outputs": [
    {
     "name": "stdout",
     "output_type": "stream",
     "text": [
      "Количество точек с достаточным объемом нефти в 0 регионе: 34823\n",
      "Количество точек с достаточным объемом нефти в 1 регионе: 16413\n",
      "Количество точек с достаточным объемом нефти в 2 регионе: 34302\n"
     ]
    }
   ],
   "source": [
    "print(\"Количество точек с достаточным объемом нефти в 0 регионе:\", df_0_clean.query('product > product.quantile(0.65)').shape[0])\n",
    "print(\"Количество точек с достаточным объемом нефти в 1 регионе:\", df_1_clean.query('product > product.quantile(0.83)').shape[0])\n",
    "print(\"Количество точек с достаточным объемом нефти в 2 регионе:\", df_2_clean.query('product > product.quantile(0.65)').shape[0])"
   ]
  },
  {
   "cell_type": "markdown",
   "metadata": {},
   "source": [
    "**Вывод:**\n",
    "\n",
    "1. Достаточный объём сырья для безубыточной разработки новой скважины составляет 111.111 тысяч баррелей.\n",
    "\n",
    "2. Средний объем запасов в каждом регионе, вследствие большого разброса в данных, меньше достаточного объема для разработки новой скважины.\n",
    "\n",
    "3. Однако данных в любом случае достаточно для проведения дальнейшего статистического анализа - есть из чего выбрать:\n",
    "- количество точек с достаточным объемом нефти в 0 регионе: 34823\n",
    "- количество точек с достаточным объемом нефти в 0 регионе: 16413\n",
    "- количество точек с достаточным объемом нефти в 0 регионе: 34302"
   ]
  },
  {
   "cell_type": "markdown",
   "metadata": {},
   "source": [
    "## Расчёт прибыли и рисков "
   ]
  },
  {
   "cell_type": "markdown",
   "metadata": {},
   "source": [
    "### Функция для расчёта прибыли по выбранным скважинам и предсказаниям модели"
   ]
  },
  {
   "cell_type": "code",
   "execution_count": 45,
   "metadata": {},
   "outputs": [],
   "source": [
    "def revenue(target, predictions): # на вход - предсказания и истинные значения целевого признака\n",
    "    predictions_sorted = pd.Series(predictions).sort_values(ascending=False) # отсортируем предсказания по убыванию\n",
    "    selected = target[predictions_sorted.index][:BEST_OIL_WELLS] \n",
    "    # доход с каждой единицы продукта (1000 баррелей) * сумму целевого значения сырья, соответствующего предсказаниям - бюджет\n",
    "    return (REVENUE_OF_THE_UNIT * sum(selected) - BUDGET) / 10e6"
   ]
  },
  {
   "cell_type": "code",
   "execution_count": 46,
   "metadata": {},
   "outputs": [
    {
     "name": "stdout",
     "output_type": "stream",
     "text": [
      "Прибыль с 200 лучших скважин в Регионе 0: 325.24 млн. руб.\n",
      "Прибыль с 200 лучших скважин в Регионе 1: 241.51 млн. руб.\n",
      "Прибыль с 200 лучших скважин в Регионе 2: 246.4 млн. руб.\n"
     ]
    }
   ],
   "source": [
    "print(f'Прибыль с 200 лучших скважин в Регионе 0: {round(revenue(y_valid_0, predictions_0), 2)} млн. руб.')\n",
    "print(f'Прибыль с 200 лучших скважин в Регионе 1: {round(revenue(y_valid_1, predictions_1), 2)} млн. руб.')\n",
    "print(f'Прибыль с 200 лучших скважин в Регионе 2: {round(revenue(y_valid_2, predictions_2), 2)} млн. руб.')"
   ]
  },
  {
   "cell_type": "markdown",
   "metadata": {},
   "source": [
    "### Расчет рисков и прибыли для каждого региона"
   ]
  },
  {
   "cell_type": "markdown",
   "metadata": {},
   "source": [
    "**Применим технику Bootstrap с 1000 выборок для 500 точек, из которых с помощью ранее написанной функции `revenue` будем каждый раз выбирать 200 лучших для разработки:**\n",
    "\n",
    "1) для оценки среднего значения прибыли;\n",
    "\n",
    "2) для построения доверительного интервала, покрывающего оцениваемый параметр - среднее значение прибыли с заданной вероятностью 95%;\n",
    "\n",
    "3) для оценки рисков убытков\n",
    "\n",
    "---\n",
    "Напишем для этого собственную функцию `confidence_interval_region`, принимающей на вход значения целевого признака и предсказания"
   ]
  },
  {
   "cell_type": "code",
   "execution_count": 47,
   "metadata": {},
   "outputs": [],
   "source": [
    "state = np.random.RandomState(12345)\n",
    "def confidence_interval_region(target, predictions):\n",
    "    values = []\n",
    "    lower = []\n",
    "    for i in tqdm(range(1000)):\n",
    "        target_subsample = target.sample(n=OIL_WELLS, replace=True, random_state=state)\n",
    "        predictions_subsample = pd.Series(predictions)[target_subsample.index] \n",
    "        values.append(revenue(target_subsample, predictions_subsample))\n",
    "\n",
    "    values = pd.Series(values)\n",
    "    mean = values.mean()\n",
    "    risk_of_loss = sum(values < 0) / len(values) * 100\n",
    "    lower = values.quantile(0.25)\n",
    "    upper = values.quantile(0.975)\n",
    "    return mean, risk_of_loss, lower, upper"
   ]
  },
  {
   "cell_type": "code",
   "execution_count": 48,
   "metadata": {},
   "outputs": [
    {
     "name": "stderr",
     "output_type": "stream",
     "text": [
      "100%|██████████| 1000/1000 [00:01<00:00, 657.25it/s]"
     ]
    },
    {
     "name": "stdout",
     "output_type": "stream",
     "text": [
      "Средняя прибыль - 41.99 млн.руб.\n",
      "95%-й доверительный интервал 24.14 - 98.35 млн.руб.\n",
      "Риск убытков - 5.90 %\n"
     ]
    },
    {
     "name": "stderr",
     "output_type": "stream",
     "text": [
      "\n"
     ]
    }
   ],
   "source": [
    "mean_0, risk_of_loss_0, lower_0, upper_0 = confidence_interval_region(y_valid_0, predictions_0)\n",
    "print('Средняя прибыль - {:.2f} млн.руб.'.format(mean_0))\n",
    "print('95%-й доверительный интервал {:.2f} - {:.2f} млн.руб.'.format(lower_0, upper_0))\n",
    "print('Риск убытков - {:.2f} %'.format(risk_of_loss_0))"
   ]
  },
  {
   "cell_type": "code",
   "execution_count": 49,
   "metadata": {},
   "outputs": [
    {
     "name": "stderr",
     "output_type": "stream",
     "text": [
      "100%|██████████| 1000/1000 [00:01<00:00, 635.79it/s]"
     ]
    },
    {
     "name": "stdout",
     "output_type": "stream",
     "text": [
      "Средняя прибыль - 51.24 млн.руб.\n",
      "95%-й доверительный интервал 36.05 - 93.50 млн.руб.\n",
      "Риск убытков - 1.10 %\n"
     ]
    },
    {
     "name": "stderr",
     "output_type": "stream",
     "text": [
      "\n"
     ]
    }
   ],
   "source": [
    "mean_1, risk_of_loss_1, lower_1, upper_1 = confidence_interval_region(y_valid_1, predictions_1)\n",
    "print('Средняя прибыль - {:.2f} млн.руб.'.format(mean_1))\n",
    "print('95%-й доверительный интервал {:.2f} - {:.2f} млн.руб.'.format(lower_1, upper_1))\n",
    "print('Риск убытков - {:.2f} %'.format(risk_of_loss_1))"
   ]
  },
  {
   "cell_type": "code",
   "execution_count": 50,
   "metadata": {},
   "outputs": [
    {
     "name": "stderr",
     "output_type": "stream",
     "text": [
      "100%|██████████| 1000/1000 [00:01<00:00, 624.54it/s]"
     ]
    },
    {
     "name": "stdout",
     "output_type": "stream",
     "text": [
      "Средняя прибыль - 35.62 млн.руб.\n",
      "95%-й доверительный интервал 16.19 - 90.18 млн.руб.\n",
      "Риск убытков - 9.70 %\n"
     ]
    },
    {
     "name": "stderr",
     "output_type": "stream",
     "text": [
      "\n"
     ]
    }
   ],
   "source": [
    "mean_2, risk_of_loss_2, lower_2, upper_2 = confidence_interval_region(y_valid_2, predictions_2)\n",
    "print('Средняя прибыль - {:.2f} млн.руб.'.format(mean_2))\n",
    "print('95%-й доверительный интервал {:.2f} - {:.2f} млн.руб.'.format(lower_2, upper_2))\n",
    "print('Риск убытков - {:.2f} %'.format(risk_of_loss_2))"
   ]
  },
  {
   "cell_type": "code",
   "execution_count": 51,
   "metadata": {},
   "outputs": [
    {
     "data": {
      "text/html": [
       "<div>\n",
       "<style scoped>\n",
       "    .dataframe tbody tr th:only-of-type {\n",
       "        vertical-align: middle;\n",
       "    }\n",
       "\n",
       "    .dataframe tbody tr th {\n",
       "        vertical-align: top;\n",
       "    }\n",
       "\n",
       "    .dataframe thead th {\n",
       "        text-align: right;\n",
       "    }\n",
       "</style>\n",
       "<table border=\"1\" class=\"dataframe\">\n",
       "  <thead>\n",
       "    <tr style=\"text-align: right;\">\n",
       "      <th></th>\n",
       "      <th>Regions</th>\n",
       "      <th>average_profit</th>\n",
       "      <th>risk_of_loss, %</th>\n",
       "      <th>confidence_interval_lower</th>\n",
       "      <th>confidence_interval_upper</th>\n",
       "    </tr>\n",
       "  </thead>\n",
       "  <tbody>\n",
       "    <tr>\n",
       "      <th>0</th>\n",
       "      <td>Region_0</td>\n",
       "      <td>41.99</td>\n",
       "      <td>5.90</td>\n",
       "      <td>24.14</td>\n",
       "      <td>98.35</td>\n",
       "    </tr>\n",
       "    <tr>\n",
       "      <th>1</th>\n",
       "      <td>Region_1</td>\n",
       "      <td>51.24</td>\n",
       "      <td>1.10</td>\n",
       "      <td>36.05</td>\n",
       "      <td>93.50</td>\n",
       "    </tr>\n",
       "    <tr>\n",
       "      <th>2</th>\n",
       "      <td>Region_2</td>\n",
       "      <td>35.62</td>\n",
       "      <td>9.70</td>\n",
       "      <td>16.19</td>\n",
       "      <td>90.18</td>\n",
       "    </tr>\n",
       "  </tbody>\n",
       "</table>\n",
       "</div>"
      ],
      "text/plain": [
       "    Regions  average_profit  risk_of_loss, %  confidence_interval_lower  \\\n",
       "0  Region_0           41.99             5.90                      24.14   \n",
       "1  Region_1           51.24             1.10                      36.05   \n",
       "2  Region_2           35.62             9.70                      16.19   \n",
       "\n",
       "   confidence_interval_upper  \n",
       "0                      98.35  \n",
       "1                      93.50  \n",
       "2                      90.18  "
      ]
     },
     "execution_count": 51,
     "metadata": {},
     "output_type": "execute_result"
    }
   ],
   "source": [
    "results = pd.DataFrame({'Regions' : ['Region_0', 'Region_1','Region_2'], \n",
    "                       'average_profit' : [mean_0, mean_1, mean_2],\n",
    "                       'risk_of_loss, %' : [risk_of_loss_0, risk_of_loss_1, risk_of_loss_2],\n",
    "                        'confidence_interval_lower' : [lower_0, lower_1, lower_2],\n",
    "                        'confidence_interval_upper' : [upper_0, upper_1, upper_2]\n",
    "                       })\n",
    "pd.options.display.float_format = '{:.2f}'.format\n",
    "results # выведем сводную таблицу по регионам"
   ]
  },
  {
   "cell_type": "markdown",
   "metadata": {},
   "source": [
    "**Вывод:**\n",
    "\n",
    "1. Видим, что наиболее предсказуемая **модель для региона 1**, несмотря на на то, что средний объем нефти в регионе 1 почти на 30% меньше средних объемов в регионах 0,2, **показала лучшие и единственно допустимые по условиям задачи результаты** - риск убытков = 1.1 % < 2.5 % (критичекое значение вероятности убытков), в других регионах данная метрика превышает указанное критическое значение.\n",
    "\n",
    "2. Метрика \"средняя прибыль\" также имеет наибольшее значение в Регионе 1= 51.24 млн. рублей, при этом указанное значение лежит с вероятностью 95 % в пределах интервала с наименьшим диапазоном: от 36.05 млн. руб. до 93.5 млн. руб., с наибольшей нижней границей и незначительно отличающейся (от интервалов для оценки прибыли по другим регионам) верхней границей . \n",
    "\n",
    "---\n",
    "**Исходя из всего вышесказанного, Регион 1 является наиболее перспективным. Добыча нефти в этом регионе связана с наименьшим риском и предполагает получение наибольшой средней прибыли, значения которой могут варьироваться с заданной 95%-й вероятностью в наименьшем диапазоне прибыльных значений.**"
   ]
  },
  {
   "cell_type": "markdown",
   "metadata": {},
   "source": [
    "## Общий вывод"
   ]
  },
  {
   "cell_type": "markdown",
   "metadata": {},
   "source": [
    "**1. Природа данных**:\n",
    "- категориальные: id's; \n",
    "- количественные: остальные.\n",
    "\n",
    "**2. В результате предобработки данных установлено**:\n",
    "- отсуствуют полные дубликаты;\n",
    "- типы данных во всех столбцах соответствуют их природе;\n",
    "- выявлено, что в датафрейме имеются неинформативные столбцы: `id`; удалены;\n",
    "- в ходе корреляционного анализа была выявлено: мультикол-ть в нашем наборе данных фактически отсутствует.\n",
    "\n",
    "**3. В ходе предобработки выявлено**:\n",
    "- распределение значений признаков по трем регионам, как правило, существенно отличаются, как по диапазону данных, так и по статистикам;\n",
    "- имеющиеся сходства позволяют заключить, что 0-е и 2-е месторождения по исследуемым признакам ближе друг к другу, чем каждый из них ко 2-му месторождению (в части `f1`, `f2`, `product`).\n",
    "\n",
    "**4. Результаты обучения модели линейной регрессии на данных по 3-м регионам:**\n",
    "\n",
    "*RMSE_1 < RMSE_0 < RMSE_2*\n",
    "\n",
    "- лучшая метрика RMSE = 0.89 (тыс. бар.) у модели линейной регрессии, построенной по данным региона № 1. \n",
    "\n",
    "- точность моделей, построенных по данным регионов № 0,2 составляет соответственно 37.82 и 39.76 тыс. бар., весьма существенные погрешности\n",
    "\n",
    "- при этом средний объем нефти в регионе 1 почти на 30% меньше средних объемов в регионах 0,2.\n",
    "\n",
    "**5. Подготовительные расчеты показали:**\n",
    "\n",
    "- достаточный объём сырья для безубыточной разработки новой скважины составляет 111.111 тысяч баррелей.\n",
    "\n",
    "- средний объем запасов в каждом регионе, вследствие большого разброса в данных, меньше достаточного объема для разработки новой скважины;\n",
    "\n",
    "- однако данных в любом случае достаточно для проведения дальнейшего статистического анализа - есть из чего выбрать:\n",
    "    - количество точек с достаточным объемом нефти в 0 регионе: 34823\n",
    "    - количество точек с достаточным объемом нефти в 0 регионе: 16413\n",
    "    - количество точек с достаточным объемом нефти в 0 регионе: 34302\n",
    "\n",
    "**6. Результаты расчетов рисков и прибыли для каждого региона с помощью техники Bootstrap показали:**\n",
    "\n",
    "- наиболее предсказуемая **модель для региона 1**, несмотря на на то, что средний объем нефти в регионе 1 почти на 30% меньше средних объемов в регионах 0,2, **показала лучшие и единственно допустимые по условиям задачи результаты - риск убытков = 1.1 % < 2.5 % (критичекое значение вероятности убытков)**, в других регионах данная метрика превышает указанное критическое значение.\n",
    "\n",
    "- **метрика \"средняя прибыль\" также имеет наибольшее значение в Регионе 1= 51.24 млн. рублей, при этом указанное значение лежит с вероятностью 95 % в пределах интервала с наименьшим диапазоном: от 36.05 млн. руб. до 93.5 млн. руб., с наибольшей нижней границей и незначительно отличающейся (от интервалов для оценки прибыли по другим регионам) верхней границе**.\n",
    "\n",
    "---\n",
    "**Исходя из всего вышесказанного, Регион 1 является наиболее перспективным. Добыча нефти в этом регионе связана с наименьшим риском и предполагает получение наибольшой (и наиболее предсказуем с заданной 95%-й вероятностью) средней прибыли.**"
   ]
  }
 ],
 "metadata": {
  "ExecuteTimeLog": [
   {
    "duration": 19538,
    "start_time": "2023-04-08T16:14:34.119Z"
   },
   {
    "duration": 2020,
    "start_time": "2023-04-08T16:14:53.659Z"
   },
   {
    "duration": 87,
    "start_time": "2023-04-08T16:16:34.508Z"
   },
   {
    "duration": 373,
    "start_time": "2023-04-08T16:16:41.088Z"
   },
   {
    "duration": 143,
    "start_time": "2023-04-08T16:16:56.821Z"
   },
   {
    "duration": 10,
    "start_time": "2023-04-08T16:29:28.782Z"
   },
   {
    "duration": 137,
    "start_time": "2023-04-08T16:29:36.540Z"
   },
   {
    "duration": 1185,
    "start_time": "2023-04-08T16:29:41.260Z"
   },
   {
    "duration": 7,
    "start_time": "2023-04-08T16:29:42.448Z"
   },
   {
    "duration": 276,
    "start_time": "2023-04-08T16:29:42.457Z"
   },
   {
    "duration": 15,
    "start_time": "2023-04-08T16:33:04.404Z"
   },
   {
    "duration": 10,
    "start_time": "2023-04-08T16:33:43.375Z"
   },
   {
    "duration": 15,
    "start_time": "2023-04-08T16:33:59.967Z"
   },
   {
    "duration": 16,
    "start_time": "2023-04-08T16:34:16.626Z"
   },
   {
    "duration": 10,
    "start_time": "2023-04-08T16:35:43.544Z"
   },
   {
    "duration": 6,
    "start_time": "2023-04-08T16:37:17.990Z"
   },
   {
    "duration": 3916,
    "start_time": "2023-04-08T16:37:18.440Z"
   },
   {
    "duration": 226,
    "start_time": "2023-04-08T16:37:50.493Z"
   },
   {
    "duration": 13,
    "start_time": "2023-04-08T16:41:44.277Z"
   },
   {
    "duration": 305,
    "start_time": "2023-04-08T16:42:53.741Z"
   },
   {
    "duration": 3,
    "start_time": "2023-04-08T16:52:46.052Z"
   },
   {
    "duration": 10,
    "start_time": "2023-04-08T16:52:59.566Z"
   },
   {
    "duration": 10,
    "start_time": "2023-04-08T16:53:10.120Z"
   },
   {
    "duration": 3,
    "start_time": "2023-04-08T16:53:15.403Z"
   },
   {
    "duration": 3,
    "start_time": "2023-04-08T16:53:52.625Z"
   },
   {
    "duration": 10,
    "start_time": "2023-04-08T16:53:53.069Z"
   },
   {
    "duration": 3,
    "start_time": "2023-04-08T16:53:59.417Z"
   },
   {
    "duration": 9,
    "start_time": "2023-04-08T16:53:59.957Z"
   },
   {
    "duration": 10,
    "start_time": "2023-04-08T16:54:18.788Z"
   },
   {
    "duration": 3,
    "start_time": "2023-04-08T16:56:30.163Z"
   },
   {
    "duration": 13,
    "start_time": "2023-04-08T16:56:30.931Z"
   },
   {
    "duration": 3,
    "start_time": "2023-04-08T16:56:38.567Z"
   },
   {
    "duration": 13,
    "start_time": "2023-04-08T16:56:39.218Z"
   },
   {
    "duration": 3,
    "start_time": "2023-04-08T16:56:44.716Z"
   },
   {
    "duration": 10,
    "start_time": "2023-04-08T16:56:45.197Z"
   },
   {
    "duration": 4,
    "start_time": "2023-04-08T16:57:01.877Z"
   },
   {
    "duration": 19,
    "start_time": "2023-04-08T16:57:02.397Z"
   },
   {
    "duration": 19,
    "start_time": "2023-04-08T16:57:18.925Z"
   },
   {
    "duration": 4,
    "start_time": "2023-04-08T16:57:22.529Z"
   },
   {
    "duration": 22,
    "start_time": "2023-04-08T16:57:22.765Z"
   },
   {
    "duration": 84,
    "start_time": "2023-04-08T16:57:28.925Z"
   },
   {
    "duration": 20,
    "start_time": "2023-04-08T16:57:32.048Z"
   },
   {
    "duration": 21,
    "start_time": "2023-04-08T17:00:30.288Z"
   },
   {
    "duration": 3,
    "start_time": "2023-04-08T17:00:35.532Z"
   },
   {
    "duration": 20,
    "start_time": "2023-04-08T17:00:35.812Z"
   },
   {
    "duration": 2,
    "start_time": "2023-04-08T17:01:13.296Z"
   },
   {
    "duration": 32,
    "start_time": "2023-04-08T17:01:14.007Z"
   },
   {
    "duration": 4,
    "start_time": "2023-04-08T17:02:22.649Z"
   },
   {
    "duration": 37,
    "start_time": "2023-04-08T17:02:23.602Z"
   },
   {
    "duration": 3,
    "start_time": "2023-04-08T17:02:52.952Z"
   },
   {
    "duration": 16,
    "start_time": "2023-04-08T17:02:53.427Z"
   },
   {
    "duration": 3,
    "start_time": "2023-04-08T17:03:32.626Z"
   },
   {
    "duration": 37,
    "start_time": "2023-04-08T17:03:32.904Z"
   },
   {
    "duration": 11,
    "start_time": "2023-04-08T17:03:49.096Z"
   },
   {
    "duration": 3,
    "start_time": "2023-04-08T17:06:05.864Z"
   },
   {
    "duration": 12,
    "start_time": "2023-04-08T17:06:06.172Z"
   },
   {
    "duration": 3,
    "start_time": "2023-04-08T17:06:20.117Z"
   },
   {
    "duration": 26,
    "start_time": "2023-04-08T17:06:20.347Z"
   },
   {
    "duration": 4,
    "start_time": "2023-04-08T17:06:28.129Z"
   },
   {
    "duration": 26,
    "start_time": "2023-04-08T17:06:28.334Z"
   },
   {
    "duration": 3,
    "start_time": "2023-04-08T17:07:13.674Z"
   },
   {
    "duration": 24,
    "start_time": "2023-04-08T17:07:13.904Z"
   },
   {
    "duration": 3,
    "start_time": "2023-04-08T17:07:26.619Z"
   },
   {
    "duration": 25,
    "start_time": "2023-04-08T17:07:27.512Z"
   },
   {
    "duration": 4,
    "start_time": "2023-04-08T17:13:20.268Z"
   },
   {
    "duration": 65,
    "start_time": "2023-04-08T17:13:20.784Z"
   },
   {
    "duration": 4,
    "start_time": "2023-04-08T17:14:05.472Z"
   },
   {
    "duration": 99,
    "start_time": "2023-04-08T17:14:06.117Z"
   },
   {
    "duration": 5,
    "start_time": "2023-04-08T17:15:07.160Z"
   },
   {
    "duration": 170,
    "start_time": "2023-04-08T17:15:08.251Z"
   },
   {
    "duration": 5,
    "start_time": "2023-04-08T17:15:38.565Z"
   },
   {
    "duration": 165,
    "start_time": "2023-04-08T17:15:39.003Z"
   },
   {
    "duration": 8,
    "start_time": "2023-04-08T17:16:35.640Z"
   },
   {
    "duration": 175,
    "start_time": "2023-04-08T17:16:36.189Z"
   },
   {
    "duration": 5,
    "start_time": "2023-04-08T17:17:02.446Z"
   },
   {
    "duration": 179,
    "start_time": "2023-04-08T17:17:03.064Z"
   },
   {
    "duration": 6,
    "start_time": "2023-04-08T17:19:11.705Z"
   },
   {
    "duration": 171,
    "start_time": "2023-04-08T17:19:12.614Z"
   },
   {
    "duration": 6,
    "start_time": "2023-04-08T17:20:01.319Z"
   },
   {
    "duration": 168,
    "start_time": "2023-04-08T17:20:01.532Z"
   },
   {
    "duration": 6,
    "start_time": "2023-04-08T17:20:07.390Z"
   },
   {
    "duration": 211,
    "start_time": "2023-04-08T17:20:08.656Z"
   },
   {
    "duration": 5,
    "start_time": "2023-04-08T17:20:16.304Z"
   },
   {
    "duration": 173,
    "start_time": "2023-04-08T17:20:16.618Z"
   },
   {
    "duration": 5,
    "start_time": "2023-04-08T17:21:37.870Z"
   },
   {
    "duration": 189,
    "start_time": "2023-04-08T17:21:38.270Z"
   },
   {
    "duration": 6,
    "start_time": "2023-04-08T17:21:47.517Z"
   },
   {
    "duration": 166,
    "start_time": "2023-04-08T17:21:47.787Z"
   },
   {
    "duration": 5,
    "start_time": "2023-04-08T17:22:22.946Z"
   },
   {
    "duration": 182,
    "start_time": "2023-04-08T17:22:23.502Z"
   },
   {
    "duration": 6,
    "start_time": "2023-04-08T17:22:35.936Z"
   },
   {
    "duration": 169,
    "start_time": "2023-04-08T17:22:36.349Z"
   },
   {
    "duration": 5,
    "start_time": "2023-04-08T17:22:51.286Z"
   },
   {
    "duration": 160,
    "start_time": "2023-04-08T17:22:51.469Z"
   },
   {
    "duration": 4,
    "start_time": "2023-04-08T17:22:51.630Z"
   },
   {
    "duration": 6,
    "start_time": "2023-04-08T17:24:55.344Z"
   },
   {
    "duration": 201,
    "start_time": "2023-04-08T17:24:55.727Z"
   },
   {
    "duration": 7,
    "start_time": "2023-04-08T17:28:53.714Z"
   },
   {
    "duration": 69,
    "start_time": "2023-04-08T17:28:56.246Z"
   },
   {
    "duration": 8809,
    "start_time": "2023-04-08T17:29:43.603Z"
   },
   {
    "duration": 2005,
    "start_time": "2023-04-08T17:29:52.414Z"
   },
   {
    "duration": 378,
    "start_time": "2023-04-08T17:29:54.421Z"
   },
   {
    "duration": 9,
    "start_time": "2023-04-08T17:29:54.802Z"
   },
   {
    "duration": 357,
    "start_time": "2023-04-08T17:29:54.813Z"
   },
   {
    "duration": 6,
    "start_time": "2023-04-08T17:29:55.183Z"
   },
   {
    "duration": 167,
    "start_time": "2023-04-08T17:29:55.190Z"
   },
   {
    "duration": 6,
    "start_time": "2023-04-08T17:30:46.183Z"
   },
   {
    "duration": 501,
    "start_time": "2023-04-08T17:30:46.487Z"
   },
   {
    "duration": 4,
    "start_time": "2023-04-08T17:31:38.060Z"
   },
   {
    "duration": 113,
    "start_time": "2023-04-08T17:31:38.439Z"
   },
   {
    "duration": 5,
    "start_time": "2023-04-08T17:33:03.043Z"
   },
   {
    "duration": 413,
    "start_time": "2023-04-08T17:33:05.819Z"
   },
   {
    "duration": 4,
    "start_time": "2023-04-08T17:33:42.652Z"
   },
   {
    "duration": 112,
    "start_time": "2023-04-08T17:33:42.856Z"
   },
   {
    "duration": 5,
    "start_time": "2023-04-08T17:33:50.442Z"
   },
   {
    "duration": 334,
    "start_time": "2023-04-08T17:33:50.824Z"
   },
   {
    "duration": 6,
    "start_time": "2023-04-08T17:34:07.785Z"
   },
   {
    "duration": 366,
    "start_time": "2023-04-08T17:34:08.356Z"
   },
   {
    "duration": 14,
    "start_time": "2023-04-08T17:35:15.504Z"
   },
   {
    "duration": 20,
    "start_time": "2023-04-08T17:35:30.655Z"
   },
   {
    "duration": 8772,
    "start_time": "2023-04-08T17:38:04.821Z"
   },
   {
    "duration": 2018,
    "start_time": "2023-04-08T17:38:13.595Z"
   },
   {
    "duration": 387,
    "start_time": "2023-04-08T17:38:15.616Z"
   },
   {
    "duration": 6,
    "start_time": "2023-04-08T17:38:16.005Z"
   },
   {
    "duration": 314,
    "start_time": "2023-04-08T17:38:16.013Z"
   },
   {
    "duration": 3,
    "start_time": "2023-04-08T17:38:16.328Z"
   },
   {
    "duration": 116,
    "start_time": "2023-04-08T17:38:16.332Z"
   },
   {
    "duration": 5,
    "start_time": "2023-04-08T17:38:16.449Z"
   },
   {
    "duration": 356,
    "start_time": "2023-04-08T17:38:16.456Z"
   },
   {
    "duration": 8313,
    "start_time": "2023-04-08T17:38:43.914Z"
   },
   {
    "duration": 2015,
    "start_time": "2023-04-08T17:38:52.229Z"
   },
   {
    "duration": 379,
    "start_time": "2023-04-08T17:38:54.245Z"
   },
   {
    "duration": 7,
    "start_time": "2023-04-08T17:38:54.627Z"
   },
   {
    "duration": 358,
    "start_time": "2023-04-08T17:38:54.635Z"
   },
   {
    "duration": 3,
    "start_time": "2023-04-08T17:38:54.995Z"
   },
   {
    "duration": 116,
    "start_time": "2023-04-08T17:38:55.000Z"
   },
   {
    "duration": 5,
    "start_time": "2023-04-08T17:38:55.118Z"
   },
   {
    "duration": 342,
    "start_time": "2023-04-08T17:38:55.124Z"
   },
   {
    "duration": 5,
    "start_time": "2023-04-08T17:38:55.482Z"
   },
   {
    "duration": 5,
    "start_time": "2023-04-08T17:39:49.328Z"
   },
   {
    "duration": 35,
    "start_time": "2023-04-08T17:39:51.044Z"
   },
   {
    "duration": 3662,
    "start_time": "2023-04-08T17:41:43.182Z"
   },
   {
    "duration": 3712,
    "start_time": "2023-04-08T17:42:59.978Z"
   },
   {
    "duration": 3469,
    "start_time": "2023-04-08T17:43:12.645Z"
   },
   {
    "duration": 8,
    "start_time": "2023-04-08T17:43:51.795Z"
   },
   {
    "duration": 451,
    "start_time": "2023-04-08T17:44:09.150Z"
   },
   {
    "duration": 347,
    "start_time": "2023-04-08T17:44:35.865Z"
   },
   {
    "duration": 386,
    "start_time": "2023-04-08T17:44:41.500Z"
   },
   {
    "duration": 261,
    "start_time": "2023-04-08T17:44:47.605Z"
   },
   {
    "duration": 6,
    "start_time": "2023-04-08T17:59:00.286Z"
   },
   {
    "duration": 120,
    "start_time": "2023-04-08T17:59:01.176Z"
   },
   {
    "duration": 5,
    "start_time": "2023-04-08T18:00:16.662Z"
   },
   {
    "duration": 1878,
    "start_time": "2023-04-08T18:00:17.066Z"
   },
   {
    "duration": 5,
    "start_time": "2023-04-08T18:00:27.845Z"
   },
   {
    "duration": 8502,
    "start_time": "2023-04-08T18:00:28.180Z"
   },
   {
    "duration": 6,
    "start_time": "2023-04-08T18:03:22.657Z"
   },
   {
    "duration": 3796,
    "start_time": "2023-04-08T18:03:23.437Z"
   },
   {
    "duration": 6,
    "start_time": "2023-04-08T18:05:40.678Z"
   },
   {
    "duration": 2060,
    "start_time": "2023-04-08T18:05:41.244Z"
   },
   {
    "duration": 6,
    "start_time": "2023-04-08T18:07:38.642Z"
   },
   {
    "duration": 8894,
    "start_time": "2023-04-08T18:07:39.262Z"
   },
   {
    "duration": 8,
    "start_time": "2023-04-08T18:09:39.796Z"
   },
   {
    "duration": 8042,
    "start_time": "2023-04-08T18:09:40.293Z"
   },
   {
    "duration": 6,
    "start_time": "2023-04-08T18:12:42.521Z"
   },
   {
    "duration": 3762,
    "start_time": "2023-04-08T18:12:43.103Z"
   },
   {
    "duration": 6,
    "start_time": "2023-04-08T18:15:23.263Z"
   },
   {
    "duration": 9185,
    "start_time": "2023-04-08T18:15:23.787Z"
   },
   {
    "duration": 5,
    "start_time": "2023-04-08T18:16:47.705Z"
   },
   {
    "duration": 8487,
    "start_time": "2023-04-08T18:16:48.196Z"
   },
   {
    "duration": 5,
    "start_time": "2023-04-08T18:18:54.208Z"
   },
   {
    "duration": 4534,
    "start_time": "2023-04-08T18:18:54.925Z"
   },
   {
    "duration": 6,
    "start_time": "2023-04-08T18:19:31.643Z"
   },
   {
    "duration": 5,
    "start_time": "2023-04-08T18:19:57.984Z"
   },
   {
    "duration": 4289,
    "start_time": "2023-04-08T18:19:58.501Z"
   },
   {
    "duration": 6,
    "start_time": "2023-04-08T18:20:16.738Z"
   },
   {
    "duration": 9232,
    "start_time": "2023-04-08T18:20:17.073Z"
   },
   {
    "duration": 5,
    "start_time": "2023-04-08T18:22:40.597Z"
   },
   {
    "duration": 4171,
    "start_time": "2023-04-08T18:22:41.212Z"
   },
   {
    "duration": 5,
    "start_time": "2023-04-08T18:23:00.415Z"
   },
   {
    "duration": 8269,
    "start_time": "2023-04-08T18:23:00.675Z"
   },
   {
    "duration": 5,
    "start_time": "2023-04-08T18:25:47.488Z"
   },
   {
    "duration": 8758,
    "start_time": "2023-04-08T18:25:47.932Z"
   },
   {
    "duration": 5,
    "start_time": "2023-04-08T18:27:13.331Z"
   },
   {
    "duration": 4151,
    "start_time": "2023-04-08T18:27:13.652Z"
   },
   {
    "duration": 5,
    "start_time": "2023-04-08T18:27:31.562Z"
   },
   {
    "duration": 8454,
    "start_time": "2023-04-08T18:27:31.860Z"
   },
   {
    "duration": 86,
    "start_time": "2023-04-08T18:28:33.031Z"
   },
   {
    "duration": 8720,
    "start_time": "2023-04-08T18:28:34.370Z"
   },
   {
    "duration": 5,
    "start_time": "2023-04-08T18:28:50.103Z"
   },
   {
    "duration": 8735,
    "start_time": "2023-04-08T18:28:50.659Z"
   },
   {
    "duration": 6,
    "start_time": "2023-04-08T18:30:12.756Z"
   },
   {
    "duration": 8516,
    "start_time": "2023-04-08T18:30:19.950Z"
   },
   {
    "duration": 6,
    "start_time": "2023-04-08T18:31:00.250Z"
   },
   {
    "duration": 8520,
    "start_time": "2023-04-08T18:31:00.458Z"
   },
   {
    "duration": 5,
    "start_time": "2023-04-08T18:33:30.365Z"
   },
   {
    "duration": 9565,
    "start_time": "2023-04-08T18:33:32.636Z"
   },
   {
    "duration": 6,
    "start_time": "2023-04-08T18:38:19.831Z"
   },
   {
    "duration": 1413,
    "start_time": "2023-04-08T18:38:21.151Z"
   },
   {
    "duration": 5,
    "start_time": "2023-04-08T18:40:51.830Z"
   },
   {
    "duration": 1558,
    "start_time": "2023-04-08T18:40:52.261Z"
   },
   {
    "duration": 4,
    "start_time": "2023-04-08T18:41:04.863Z"
   },
   {
    "duration": 1518,
    "start_time": "2023-04-08T18:41:05.286Z"
   },
   {
    "duration": 5,
    "start_time": "2023-04-08T18:42:26.081Z"
   },
   {
    "duration": 1727,
    "start_time": "2023-04-08T18:42:26.499Z"
   },
   {
    "duration": 7794,
    "start_time": "2023-04-08T18:58:31.836Z"
   },
   {
    "duration": 15,
    "start_time": "2023-04-08T19:00:41.048Z"
   },
   {
    "duration": 502,
    "start_time": "2023-04-08T19:00:47.144Z"
   },
   {
    "duration": 698,
    "start_time": "2023-04-08T19:03:08.502Z"
   },
   {
    "duration": 514,
    "start_time": "2023-04-08T19:03:56.067Z"
   },
   {
    "duration": 802,
    "start_time": "2023-04-08T19:04:41.772Z"
   },
   {
    "duration": 7976,
    "start_time": "2023-04-08T19:05:57.244Z"
   },
   {
    "duration": 428,
    "start_time": "2023-04-08T19:06:19.721Z"
   },
   {
    "duration": 21951,
    "start_time": "2023-04-09T08:21:19.771Z"
   },
   {
    "duration": 2345,
    "start_time": "2023-04-09T08:21:41.724Z"
   },
   {
    "duration": 1683,
    "start_time": "2023-04-09T08:21:44.072Z"
   },
   {
    "duration": 8,
    "start_time": "2023-04-09T08:21:45.757Z"
   },
   {
    "duration": 6,
    "start_time": "2023-04-09T08:24:06.653Z"
   },
   {
    "duration": 338,
    "start_time": "2023-04-09T08:24:07.816Z"
   },
   {
    "duration": 3,
    "start_time": "2023-04-09T08:29:09.834Z"
   },
   {
    "duration": 135,
    "start_time": "2023-04-09T08:29:10.614Z"
   },
   {
    "duration": 899,
    "start_time": "2023-04-09T08:36:52.586Z"
   },
   {
    "duration": 1580,
    "start_time": "2023-04-09T08:39:45.561Z"
   },
   {
    "duration": 1602,
    "start_time": "2023-04-09T08:40:01.348Z"
   },
   {
    "duration": 1689,
    "start_time": "2023-04-09T08:40:53.470Z"
   },
   {
    "duration": 119,
    "start_time": "2023-04-09T08:41:01.954Z"
   },
   {
    "duration": 1584,
    "start_time": "2023-04-09T08:41:12.814Z"
   },
   {
    "duration": 1743,
    "start_time": "2023-04-09T08:41:40.789Z"
   },
   {
    "duration": 1707,
    "start_time": "2023-04-09T08:41:53.599Z"
   },
   {
    "duration": 2526,
    "start_time": "2023-04-09T08:42:20.207Z"
   },
   {
    "duration": 2603,
    "start_time": "2023-04-09T08:42:49.693Z"
   },
   {
    "duration": 2659,
    "start_time": "2023-04-09T08:43:36.966Z"
   },
   {
    "duration": 2540,
    "start_time": "2023-04-09T08:44:32.005Z"
   },
   {
    "duration": 7,
    "start_time": "2023-04-09T08:51:51.383Z"
   },
   {
    "duration": 401,
    "start_time": "2023-04-09T08:51:51.809Z"
   },
   {
    "duration": 193,
    "start_time": "2023-04-09T08:52:50.867Z"
   },
   {
    "duration": 27,
    "start_time": "2023-04-09T08:53:21.672Z"
   },
   {
    "duration": 17,
    "start_time": "2023-04-09T08:53:28.805Z"
   },
   {
    "duration": 14,
    "start_time": "2023-04-09T08:54:13.262Z"
   },
   {
    "duration": 28,
    "start_time": "2023-04-09T08:56:58.928Z"
   },
   {
    "duration": 6,
    "start_time": "2023-04-09T09:00:13.582Z"
   },
   {
    "duration": 4,
    "start_time": "2023-04-09T09:00:14.091Z"
   },
   {
    "duration": 8948,
    "start_time": "2023-04-09T09:00:14.553Z"
   },
   {
    "duration": 1716,
    "start_time": "2023-04-09T09:00:23.503Z"
   },
   {
    "duration": 433,
    "start_time": "2023-04-09T09:34:33.801Z"
   },
   {
    "duration": 638,
    "start_time": "2023-04-09T09:34:50.963Z"
   },
   {
    "duration": 1800,
    "start_time": "2023-04-09T09:35:01.012Z"
   },
   {
    "duration": 365,
    "start_time": "2023-04-09T09:35:29.871Z"
   },
   {
    "duration": 437,
    "start_time": "2023-04-09T09:35:50.818Z"
   },
   {
    "duration": 504,
    "start_time": "2023-04-09T09:35:55.598Z"
   },
   {
    "duration": 378,
    "start_time": "2023-04-09T09:36:00.267Z"
   },
   {
    "duration": 492,
    "start_time": "2023-04-09T09:36:18.653Z"
   },
   {
    "duration": 307,
    "start_time": "2023-04-09T09:40:05.617Z"
   },
   {
    "duration": 11,
    "start_time": "2023-04-09T10:29:43.853Z"
   },
   {
    "duration": 3,
    "start_time": "2023-04-09T10:33:57.885Z"
   },
   {
    "duration": 155,
    "start_time": "2023-04-09T10:33:59.586Z"
   },
   {
    "duration": 36,
    "start_time": "2023-04-09T10:34:27.997Z"
   },
   {
    "duration": 39,
    "start_time": "2023-04-09T10:35:40.069Z"
   },
   {
    "duration": 41,
    "start_time": "2023-04-09T10:35:47.945Z"
   },
   {
    "duration": 4,
    "start_time": "2023-04-09T10:36:36.132Z"
   },
   {
    "duration": 100,
    "start_time": "2023-04-09T10:36:37.248Z"
   },
   {
    "duration": 3,
    "start_time": "2023-04-09T10:36:57.719Z"
   },
   {
    "duration": 74,
    "start_time": "2023-04-09T10:36:58.513Z"
   },
   {
    "duration": 4,
    "start_time": "2023-04-09T10:40:05.444Z"
   },
   {
    "duration": 70,
    "start_time": "2023-04-09T10:40:06.106Z"
   },
   {
    "duration": 3,
    "start_time": "2023-04-09T10:42:18.845Z"
   },
   {
    "duration": 137,
    "start_time": "2023-04-09T10:42:19.439Z"
   },
   {
    "duration": 13,
    "start_time": "2023-04-09T10:44:21.219Z"
   },
   {
    "duration": 5,
    "start_time": "2023-04-09T10:45:55.903Z"
   },
   {
    "duration": 69,
    "start_time": "2023-04-09T10:45:56.726Z"
   },
   {
    "duration": 1649,
    "start_time": "2023-04-09T10:46:34.205Z"
   },
   {
    "duration": 1703,
    "start_time": "2023-04-09T10:47:15.708Z"
   },
   {
    "duration": 3,
    "start_time": "2023-04-09T10:49:04.657Z"
   },
   {
    "duration": 4,
    "start_time": "2023-04-09T10:50:11.051Z"
   },
   {
    "duration": 43,
    "start_time": "2023-04-09T10:50:11.477Z"
   },
   {
    "duration": 8,
    "start_time": "2023-04-09T10:50:28.302Z"
   },
   {
    "duration": 69,
    "start_time": "2023-04-09T10:50:28.905Z"
   },
   {
    "duration": 4,
    "start_time": "2023-04-09T10:50:33.670Z"
   },
   {
    "duration": 4,
    "start_time": "2023-04-09T10:50:40.113Z"
   },
   {
    "duration": 13,
    "start_time": "2023-04-09T10:52:27.368Z"
   },
   {
    "duration": 30,
    "start_time": "2023-04-09T10:52:46.922Z"
   },
   {
    "duration": 30,
    "start_time": "2023-04-09T10:53:12.575Z"
   },
   {
    "duration": 36,
    "start_time": "2023-04-09T10:53:32.479Z"
   },
   {
    "duration": 1885,
    "start_time": "2023-04-09T10:53:35.383Z"
   },
   {
    "duration": 5,
    "start_time": "2023-04-09T10:55:02.751Z"
   },
   {
    "duration": 4,
    "start_time": "2023-04-09T10:55:03.256Z"
   },
   {
    "duration": 79,
    "start_time": "2023-04-09T10:55:03.816Z"
   },
   {
    "duration": 5,
    "start_time": "2023-04-09T11:02:33.113Z"
   },
   {
    "duration": 25,
    "start_time": "2023-04-09T11:02:34.205Z"
   },
   {
    "duration": 5,
    "start_time": "2023-04-09T11:03:06.570Z"
   },
   {
    "duration": 1605,
    "start_time": "2023-04-09T11:03:09.125Z"
   },
   {
    "duration": 4,
    "start_time": "2023-04-09T11:06:37.423Z"
   },
   {
    "duration": 1551,
    "start_time": "2023-04-09T11:06:37.672Z"
   },
   {
    "duration": 65,
    "start_time": "2023-04-09T11:07:32.214Z"
   },
   {
    "duration": 1472,
    "start_time": "2023-04-09T11:07:32.647Z"
   },
   {
    "duration": 119,
    "start_time": "2023-04-09T11:08:26.258Z"
   },
   {
    "duration": 1670,
    "start_time": "2023-04-09T11:08:26.751Z"
   },
   {
    "duration": 4,
    "start_time": "2023-04-09T11:08:45.817Z"
   },
   {
    "duration": 1358,
    "start_time": "2023-04-09T11:08:46.105Z"
   },
   {
    "duration": 161,
    "start_time": "2023-04-09T11:09:04.177Z"
   },
   {
    "duration": 1361,
    "start_time": "2023-04-09T11:09:05.229Z"
   },
   {
    "duration": 8,
    "start_time": "2023-04-09T11:11:04.048Z"
   },
   {
    "duration": 1509,
    "start_time": "2023-04-09T11:11:04.279Z"
   },
   {
    "duration": 5,
    "start_time": "2023-04-09T11:11:27.704Z"
   },
   {
    "duration": 1675,
    "start_time": "2023-04-09T11:11:28.250Z"
   },
   {
    "duration": 18,
    "start_time": "2023-04-09T11:24:37.300Z"
   },
   {
    "duration": 6,
    "start_time": "2023-04-09T11:24:50.747Z"
   },
   {
    "duration": 10604,
    "start_time": "2023-04-09T11:25:45.895Z"
   },
   {
    "duration": 2301,
    "start_time": "2023-04-09T11:25:56.502Z"
   },
   {
    "duration": 1498,
    "start_time": "2023-04-09T11:25:58.806Z"
   },
   {
    "duration": 10,
    "start_time": "2023-04-09T11:26:00.306Z"
   },
   {
    "duration": 366,
    "start_time": "2023-04-09T11:26:00.319Z"
   },
   {
    "duration": 7,
    "start_time": "2023-04-09T11:26:00.687Z"
   },
   {
    "duration": 540,
    "start_time": "2023-04-09T11:26:00.696Z"
   },
   {
    "duration": 47,
    "start_time": "2023-04-09T11:26:01.237Z"
   },
   {
    "duration": 9,
    "start_time": "2023-04-09T11:26:01.286Z"
   },
   {
    "duration": 17,
    "start_time": "2023-04-09T11:26:01.299Z"
   },
   {
    "duration": 37,
    "start_time": "2023-04-09T11:26:01.318Z"
   },
   {
    "duration": 9232,
    "start_time": "2023-04-09T11:26:01.357Z"
   },
   {
    "duration": 129,
    "start_time": "2023-04-09T11:26:10.592Z"
   },
   {
    "duration": 32,
    "start_time": "2023-04-09T11:26:10.724Z"
   },
   {
    "duration": 1715,
    "start_time": "2023-04-09T11:26:10.757Z"
   },
   {
    "duration": 10,
    "start_time": "2023-04-09T11:26:12.474Z"
   },
   {
    "duration": 6,
    "start_time": "2023-04-09T11:26:12.486Z"
   },
   {
    "duration": 71,
    "start_time": "2023-04-09T11:26:12.493Z"
   },
   {
    "duration": 41,
    "start_time": "2023-04-09T11:26:12.566Z"
   },
   {
    "duration": 23,
    "start_time": "2023-04-09T11:26:12.608Z"
   },
   {
    "duration": 56,
    "start_time": "2023-04-09T11:26:12.632Z"
   },
   {
    "duration": 1654,
    "start_time": "2023-04-09T11:26:12.694Z"
   },
   {
    "duration": 5,
    "start_time": "2023-04-09T11:26:14.350Z"
   },
   {
    "duration": 1336,
    "start_time": "2023-04-09T11:26:14.356Z"
   },
   {
    "duration": 7,
    "start_time": "2023-04-09T11:26:15.694Z"
   },
   {
    "duration": 4,
    "start_time": "2023-04-09T12:31:35.218Z"
   },
   {
    "duration": 8,
    "start_time": "2023-04-09T12:31:38.597Z"
   },
   {
    "duration": 192,
    "start_time": "2023-04-09T12:31:39.854Z"
   },
   {
    "duration": 6257,
    "start_time": "2023-04-09T12:33:20.917Z"
   },
   {
    "duration": 7,
    "start_time": "2023-04-09T12:33:27.394Z"
   },
   {
    "duration": 226,
    "start_time": "2023-04-09T12:33:28.566Z"
   },
   {
    "duration": 6,
    "start_time": "2023-04-09T12:33:48.566Z"
   },
   {
    "duration": 83,
    "start_time": "2023-04-09T12:33:48.836Z"
   },
   {
    "duration": 4,
    "start_time": "2023-04-09T12:34:43.201Z"
   },
   {
    "duration": 45,
    "start_time": "2023-04-09T12:34:43.751Z"
   },
   {
    "duration": 6,
    "start_time": "2023-04-09T12:35:03.893Z"
   },
   {
    "duration": 39,
    "start_time": "2023-04-09T12:35:04.096Z"
   },
   {
    "duration": 7,
    "start_time": "2023-04-09T12:37:47.202Z"
   },
   {
    "duration": 46,
    "start_time": "2023-04-09T12:37:47.659Z"
   },
   {
    "duration": 98,
    "start_time": "2023-04-09T12:37:49.984Z"
   },
   {
    "duration": 71,
    "start_time": "2023-04-09T12:37:51.018Z"
   },
   {
    "duration": 6800,
    "start_time": "2023-04-09T12:54:57.576Z"
   },
   {
    "duration": 2051,
    "start_time": "2023-04-09T12:55:04.378Z"
   },
   {
    "duration": 389,
    "start_time": "2023-04-09T12:55:06.431Z"
   },
   {
    "duration": 6,
    "start_time": "2023-04-09T12:55:06.822Z"
   },
   {
    "duration": 325,
    "start_time": "2023-04-09T12:55:06.831Z"
   },
   {
    "duration": 5,
    "start_time": "2023-04-09T12:55:07.157Z"
   },
   {
    "duration": 428,
    "start_time": "2023-04-09T12:55:07.183Z"
   },
   {
    "duration": 33,
    "start_time": "2023-04-09T12:55:07.613Z"
   },
   {
    "duration": 6,
    "start_time": "2023-04-09T12:55:07.647Z"
   },
   {
    "duration": 17,
    "start_time": "2023-04-09T12:55:07.655Z"
   },
   {
    "duration": 4,
    "start_time": "2023-04-09T12:55:07.684Z"
   },
   {
    "duration": 8855,
    "start_time": "2023-04-09T12:55:07.690Z"
   },
   {
    "duration": 119,
    "start_time": "2023-04-09T12:55:16.546Z"
   },
   {
    "duration": 41,
    "start_time": "2023-04-09T12:55:16.666Z"
   },
   {
    "duration": 1545,
    "start_time": "2023-04-09T12:55:16.708Z"
   },
   {
    "duration": 5,
    "start_time": "2023-04-09T12:55:18.255Z"
   },
   {
    "duration": 30,
    "start_time": "2023-04-09T12:55:18.262Z"
   },
   {
    "duration": 88,
    "start_time": "2023-04-09T12:55:18.293Z"
   },
   {
    "duration": 23,
    "start_time": "2023-04-09T12:55:18.384Z"
   },
   {
    "duration": 24,
    "start_time": "2023-04-09T12:55:18.408Z"
   },
   {
    "duration": 25,
    "start_time": "2023-04-09T12:55:18.434Z"
   },
   {
    "duration": 1667,
    "start_time": "2023-04-09T12:55:18.484Z"
   },
   {
    "duration": 4,
    "start_time": "2023-04-09T12:55:20.152Z"
   },
   {
    "duration": 1290,
    "start_time": "2023-04-09T12:55:20.159Z"
   },
   {
    "duration": 2,
    "start_time": "2023-04-09T12:55:21.451Z"
   },
   {
    "duration": 6,
    "start_time": "2023-04-09T12:55:21.455Z"
   },
   {
    "duration": 23,
    "start_time": "2023-04-09T12:55:21.462Z"
   },
   {
    "duration": 103,
    "start_time": "2023-04-09T12:55:21.488Z"
   },
   {
    "duration": 192,
    "start_time": "2023-04-09T12:55:21.594Z"
   },
   {
    "duration": 196,
    "start_time": "2023-04-09T12:55:21.789Z"
   },
   {
    "duration": 533,
    "start_time": "2023-04-09T13:01:10.093Z"
   },
   {
    "duration": 476,
    "start_time": "2023-04-09T13:02:00.510Z"
   },
   {
    "duration": 530,
    "start_time": "2023-04-09T13:05:17.952Z"
   },
   {
    "duration": 350,
    "start_time": "2023-04-09T13:05:20.740Z"
   },
   {
    "duration": 16852,
    "start_time": "2023-04-10T07:36:10.314Z"
   },
   {
    "duration": 1910,
    "start_time": "2023-04-10T07:36:27.169Z"
   },
   {
    "duration": 1463,
    "start_time": "2023-04-10T07:36:29.081Z"
   },
   {
    "duration": 6,
    "start_time": "2023-04-10T07:36:30.546Z"
   },
   {
    "duration": 348,
    "start_time": "2023-04-10T07:36:30.554Z"
   },
   {
    "duration": 4,
    "start_time": "2023-04-10T07:36:30.903Z"
   },
   {
    "duration": 462,
    "start_time": "2023-04-10T07:36:30.908Z"
   },
   {
    "duration": 34,
    "start_time": "2023-04-10T07:36:31.372Z"
   },
   {
    "duration": 28,
    "start_time": "2023-04-10T07:36:31.407Z"
   },
   {
    "duration": 42,
    "start_time": "2023-04-10T07:36:31.438Z"
   },
   {
    "duration": 48,
    "start_time": "2023-04-10T07:36:31.481Z"
   },
   {
    "duration": 8749,
    "start_time": "2023-04-10T07:36:31.531Z"
   },
   {
    "duration": 101,
    "start_time": "2023-04-10T07:36:40.281Z"
   },
   {
    "duration": 21,
    "start_time": "2023-04-10T07:36:40.384Z"
   },
   {
    "duration": 1392,
    "start_time": "2023-04-10T07:36:40.407Z"
   },
   {
    "duration": 5,
    "start_time": "2023-04-10T07:36:41.800Z"
   },
   {
    "duration": 23,
    "start_time": "2023-04-10T07:36:41.806Z"
   },
   {
    "duration": 76,
    "start_time": "2023-04-10T07:36:41.830Z"
   },
   {
    "duration": 24,
    "start_time": "2023-04-10T07:36:41.907Z"
   },
   {
    "duration": 34,
    "start_time": "2023-04-10T07:36:41.932Z"
   },
   {
    "duration": 23,
    "start_time": "2023-04-10T07:36:41.967Z"
   },
   {
    "duration": 1470,
    "start_time": "2023-04-10T07:36:41.991Z"
   },
   {
    "duration": 4,
    "start_time": "2023-04-10T07:36:43.463Z"
   },
   {
    "duration": 1200,
    "start_time": "2023-04-10T07:36:43.468Z"
   },
   {
    "duration": 389,
    "start_time": "2023-04-10T07:36:44.669Z"
   },
   {
    "duration": 590,
    "start_time": "2023-04-10T07:36:45.059Z"
   },
   {
    "duration": 497,
    "start_time": "2023-04-10T07:36:45.655Z"
   },
   {
    "duration": 2,
    "start_time": "2023-04-10T07:36:46.248Z"
   },
   {
    "duration": 5,
    "start_time": "2023-04-10T07:36:46.252Z"
   },
   {
    "duration": 99,
    "start_time": "2023-04-10T07:36:46.258Z"
   },
   {
    "duration": 106,
    "start_time": "2023-04-10T07:36:46.448Z"
   },
   {
    "duration": 193,
    "start_time": "2023-04-10T07:36:46.556Z"
   },
   {
    "duration": 4,
    "start_time": "2023-04-10T07:36:46.751Z"
   },
   {
    "duration": 3,
    "start_time": "2023-04-10T07:37:05.447Z"
   },
   {
    "duration": 4,
    "start_time": "2023-04-10T07:37:08.962Z"
   },
   {
    "duration": 5,
    "start_time": "2023-04-10T07:40:40.938Z"
   },
   {
    "duration": 4,
    "start_time": "2023-04-10T07:48:40.307Z"
   },
   {
    "duration": 3,
    "start_time": "2023-04-10T07:50:03.649Z"
   },
   {
    "duration": 3,
    "start_time": "2023-04-10T07:50:20.253Z"
   },
   {
    "duration": 4,
    "start_time": "2023-04-10T07:51:34.252Z"
   },
   {
    "duration": 189,
    "start_time": "2023-04-10T07:58:13.143Z"
   },
   {
    "duration": 13,
    "start_time": "2023-04-10T07:58:26.505Z"
   },
   {
    "duration": 13,
    "start_time": "2023-04-10T07:58:40.428Z"
   },
   {
    "duration": 12,
    "start_time": "2023-04-10T07:58:48.861Z"
   },
   {
    "duration": 13,
    "start_time": "2023-04-10T07:58:57.437Z"
   },
   {
    "duration": 13,
    "start_time": "2023-04-10T07:59:03.500Z"
   },
   {
    "duration": 11,
    "start_time": "2023-04-10T07:59:11.112Z"
   },
   {
    "duration": 15,
    "start_time": "2023-04-10T07:59:14.552Z"
   },
   {
    "duration": 12,
    "start_time": "2023-04-10T07:59:18.741Z"
   },
   {
    "duration": 12,
    "start_time": "2023-04-10T07:59:22.741Z"
   },
   {
    "duration": 12,
    "start_time": "2023-04-10T07:59:28.773Z"
   },
   {
    "duration": 12,
    "start_time": "2023-04-10T07:59:33.612Z"
   },
   {
    "duration": 12,
    "start_time": "2023-04-10T07:59:38.078Z"
   },
   {
    "duration": 12,
    "start_time": "2023-04-10T07:59:45.252Z"
   },
   {
    "duration": 77,
    "start_time": "2023-04-10T08:00:38.501Z"
   },
   {
    "duration": 13,
    "start_time": "2023-04-10T08:00:58.212Z"
   },
   {
    "duration": 12,
    "start_time": "2023-04-10T08:01:35.806Z"
   },
   {
    "duration": 12,
    "start_time": "2023-04-10T08:01:51.998Z"
   },
   {
    "duration": 13,
    "start_time": "2023-04-10T08:02:11.507Z"
   },
   {
    "duration": 13,
    "start_time": "2023-04-10T08:02:15.976Z"
   },
   {
    "duration": 13,
    "start_time": "2023-04-10T08:02:19.917Z"
   },
   {
    "duration": 13,
    "start_time": "2023-04-10T08:02:23.275Z"
   },
   {
    "duration": 13,
    "start_time": "2023-04-10T08:02:27.098Z"
   },
   {
    "duration": 14,
    "start_time": "2023-04-10T08:02:30.500Z"
   },
   {
    "duration": 14,
    "start_time": "2023-04-10T08:02:35.006Z"
   },
   {
    "duration": 14,
    "start_time": "2023-04-10T08:02:45.431Z"
   },
   {
    "duration": 12,
    "start_time": "2023-04-10T08:03:17.769Z"
   },
   {
    "duration": 3,
    "start_time": "2023-04-10T08:09:17.735Z"
   },
   {
    "duration": 4,
    "start_time": "2023-04-10T08:19:26.865Z"
   },
   {
    "duration": 4,
    "start_time": "2023-04-10T08:35:57.050Z"
   },
   {
    "duration": 7,
    "start_time": "2023-04-10T08:39:35.248Z"
   },
   {
    "duration": 123,
    "start_time": "2023-04-10T08:41:56.711Z"
   },
   {
    "duration": 30,
    "start_time": "2023-04-10T08:42:35.950Z"
   },
   {
    "duration": 16,
    "start_time": "2023-04-10T08:42:56.594Z"
   },
   {
    "duration": 1023,
    "start_time": "2023-04-10T08:44:12.177Z"
   },
   {
    "duration": 16,
    "start_time": "2023-04-10T08:44:24.506Z"
   },
   {
    "duration": 9,
    "start_time": "2023-04-10T08:44:46.596Z"
   },
   {
    "duration": 12,
    "start_time": "2023-04-10T08:44:54.397Z"
   },
   {
    "duration": 25,
    "start_time": "2023-04-10T08:45:43.897Z"
   },
   {
    "duration": 13,
    "start_time": "2023-04-10T08:46:26.769Z"
   },
   {
    "duration": 18207,
    "start_time": "2023-04-12T04:15:03.860Z"
   },
   {
    "duration": 1965,
    "start_time": "2023-04-12T04:15:22.070Z"
   },
   {
    "duration": 1546,
    "start_time": "2023-04-12T04:15:24.037Z"
   },
   {
    "duration": 6,
    "start_time": "2023-04-12T04:15:25.587Z"
   },
   {
    "duration": 533,
    "start_time": "2023-04-12T04:15:25.596Z"
   },
   {
    "duration": 7,
    "start_time": "2023-04-12T04:15:26.142Z"
   },
   {
    "duration": 747,
    "start_time": "2023-04-12T04:15:26.151Z"
   },
   {
    "duration": 58,
    "start_time": "2023-04-12T04:15:26.901Z"
   },
   {
    "duration": 7,
    "start_time": "2023-04-12T04:15:26.962Z"
   },
   {
    "duration": 16,
    "start_time": "2023-04-12T04:15:26.974Z"
   },
   {
    "duration": 9,
    "start_time": "2023-04-12T04:15:26.993Z"
   },
   {
    "duration": 9111,
    "start_time": "2023-04-12T04:15:27.004Z"
   },
   {
    "duration": 139,
    "start_time": "2023-04-12T04:15:36.118Z"
   },
   {
    "duration": 28,
    "start_time": "2023-04-12T04:15:36.259Z"
   },
   {
    "duration": 1720,
    "start_time": "2023-04-12T04:15:36.289Z"
   },
   {
    "duration": 5,
    "start_time": "2023-04-12T04:15:38.011Z"
   },
   {
    "duration": 15,
    "start_time": "2023-04-12T04:15:38.018Z"
   },
   {
    "duration": 88,
    "start_time": "2023-04-12T04:15:38.035Z"
   },
   {
    "duration": 28,
    "start_time": "2023-04-12T04:15:38.125Z"
   },
   {
    "duration": 29,
    "start_time": "2023-04-12T04:15:38.156Z"
   },
   {
    "duration": 57,
    "start_time": "2023-04-12T04:15:38.187Z"
   },
   {
    "duration": 1851,
    "start_time": "2023-04-12T04:15:38.246Z"
   },
   {
    "duration": 5,
    "start_time": "2023-04-12T04:15:40.099Z"
   },
   {
    "duration": 1384,
    "start_time": "2023-04-12T04:15:40.107Z"
   },
   {
    "duration": 361,
    "start_time": "2023-04-12T04:15:41.493Z"
   },
   {
    "duration": 406,
    "start_time": "2023-04-12T04:15:41.940Z"
   },
   {
    "duration": 493,
    "start_time": "2023-04-12T04:15:42.348Z"
   },
   {
    "duration": 3,
    "start_time": "2023-04-12T04:15:42.847Z"
   },
   {
    "duration": 542,
    "start_time": "2023-04-12T04:15:42.852Z"
   },
   {
    "duration": 250,
    "start_time": "2023-04-12T04:15:43.397Z"
   },
   {
    "duration": 212,
    "start_time": "2023-04-12T04:15:43.650Z"
   },
   {
    "duration": 199,
    "start_time": "2023-04-12T04:15:43.864Z"
   },
   {
    "duration": 3,
    "start_time": "2023-04-12T04:15:44.065Z"
   },
   {
    "duration": 178,
    "start_time": "2023-04-12T04:15:44.070Z"
   },
   {
    "duration": 10,
    "start_time": "2023-04-12T04:15:44.250Z"
   },
   {
    "duration": 35,
    "start_time": "2023-04-12T04:15:44.262Z"
   },
   {
    "duration": 25,
    "start_time": "2023-04-12T04:15:44.299Z"
   },
   {
    "duration": 33,
    "start_time": "2023-04-12T04:20:53.694Z"
   },
   {
    "duration": 4,
    "start_time": "2023-04-12T04:22:32.363Z"
   },
   {
    "duration": 167,
    "start_time": "2023-04-12T04:22:41.499Z"
   },
   {
    "duration": 10,
    "start_time": "2023-04-12T04:22:45.659Z"
   },
   {
    "duration": 672,
    "start_time": "2023-04-12T04:31:35.161Z"
   },
   {
    "duration": 177,
    "start_time": "2023-04-12T04:43:07.541Z"
   },
   {
    "duration": 5,
    "start_time": "2023-04-12T04:43:37.825Z"
   },
   {
    "duration": 11,
    "start_time": "2023-04-12T04:53:52.825Z"
   },
   {
    "duration": 4,
    "start_time": "2023-04-12T04:53:58.941Z"
   },
   {
    "duration": 14,
    "start_time": "2023-04-12T04:53:59.945Z"
   },
   {
    "duration": 5,
    "start_time": "2023-04-12T04:54:46.580Z"
   },
   {
    "duration": 36,
    "start_time": "2023-04-12T04:54:47.078Z"
   },
   {
    "duration": 4,
    "start_time": "2023-04-12T04:58:20.607Z"
   },
   {
    "duration": 12,
    "start_time": "2023-04-12T04:58:21.475Z"
   },
   {
    "duration": 4,
    "start_time": "2023-04-12T04:59:07.190Z"
   },
   {
    "duration": 26,
    "start_time": "2023-04-12T04:59:07.714Z"
   },
   {
    "duration": 4,
    "start_time": "2023-04-12T05:00:37.824Z"
   },
   {
    "duration": 39,
    "start_time": "2023-04-12T05:00:39.030Z"
   },
   {
    "duration": 4,
    "start_time": "2023-04-12T05:01:02.060Z"
   },
   {
    "duration": 21,
    "start_time": "2023-04-12T05:01:02.592Z"
   },
   {
    "duration": 3,
    "start_time": "2023-04-12T05:01:21.629Z"
   },
   {
    "duration": 13,
    "start_time": "2023-04-12T05:01:21.890Z"
   },
   {
    "duration": 5,
    "start_time": "2023-04-12T05:01:54.997Z"
   },
   {
    "duration": 10,
    "start_time": "2023-04-12T05:01:55.469Z"
   },
   {
    "duration": 4,
    "start_time": "2023-04-12T05:02:08.514Z"
   },
   {
    "duration": 24,
    "start_time": "2023-04-12T05:02:09.025Z"
   },
   {
    "duration": 13,
    "start_time": "2023-04-12T05:03:27.477Z"
   },
   {
    "duration": 5,
    "start_time": "2023-04-12T05:03:44.725Z"
   },
   {
    "duration": 14,
    "start_time": "2023-04-12T05:03:58.289Z"
   },
   {
    "duration": 6,
    "start_time": "2023-04-12T05:04:04.630Z"
   },
   {
    "duration": 5,
    "start_time": "2023-04-12T05:09:37.371Z"
   },
   {
    "duration": 76,
    "start_time": "2023-04-12T05:09:38.065Z"
   },
   {
    "duration": 37,
    "start_time": "2023-04-12T05:09:48.412Z"
   },
   {
    "duration": 49,
    "start_time": "2023-04-12T05:09:57.236Z"
   },
   {
    "duration": 4,
    "start_time": "2023-04-12T05:10:27.749Z"
   },
   {
    "duration": 16,
    "start_time": "2023-04-12T05:10:32.417Z"
   },
   {
    "duration": 4,
    "start_time": "2023-04-12T05:10:45.053Z"
   },
   {
    "duration": 14,
    "start_time": "2023-04-12T05:10:45.322Z"
   },
   {
    "duration": 4,
    "start_time": "2023-04-12T05:14:01.184Z"
   },
   {
    "duration": 10,
    "start_time": "2023-04-12T05:14:01.655Z"
   },
   {
    "duration": 11,
    "start_time": "2023-04-12T05:21:09.445Z"
   },
   {
    "duration": 10,
    "start_time": "2023-04-12T05:21:50.312Z"
   },
   {
    "duration": 4,
    "start_time": "2023-04-12T05:22:29.180Z"
   },
   {
    "duration": 12,
    "start_time": "2023-04-12T05:22:53.534Z"
   },
   {
    "duration": 5,
    "start_time": "2023-04-12T05:23:09.023Z"
   },
   {
    "duration": 3,
    "start_time": "2023-04-12T05:23:27.526Z"
   },
   {
    "duration": 18,
    "start_time": "2023-04-12T05:23:44.218Z"
   },
   {
    "duration": 22,
    "start_time": "2023-04-12T05:24:29.259Z"
   },
   {
    "duration": 3,
    "start_time": "2023-04-12T05:30:04.446Z"
   },
   {
    "duration": 10,
    "start_time": "2023-04-12T05:30:04.827Z"
   },
   {
    "duration": 19,
    "start_time": "2023-04-12T05:30:15.168Z"
   },
   {
    "duration": 4,
    "start_time": "2023-04-12T05:30:44.543Z"
   },
   {
    "duration": 6,
    "start_time": "2023-04-12T05:37:11.314Z"
   },
   {
    "duration": 12,
    "start_time": "2023-04-12T05:46:40.812Z"
   },
   {
    "duration": 4,
    "start_time": "2023-04-12T05:46:55.357Z"
   },
   {
    "duration": 5,
    "start_time": "2023-04-12T05:46:59.264Z"
   },
   {
    "duration": 8,
    "start_time": "2023-04-12T05:47:21.291Z"
   },
   {
    "duration": 5,
    "start_time": "2023-04-12T05:47:41.486Z"
   },
   {
    "duration": 6,
    "start_time": "2023-04-12T05:48:27.378Z"
   },
   {
    "duration": 7,
    "start_time": "2023-04-12T05:48:36.363Z"
   },
   {
    "duration": 7,
    "start_time": "2023-04-12T05:49:02.710Z"
   },
   {
    "duration": 111,
    "start_time": "2023-04-12T05:52:30.138Z"
   },
   {
    "duration": 85,
    "start_time": "2023-04-12T05:54:33.344Z"
   },
   {
    "duration": 11,
    "start_time": "2023-04-12T05:54:59.385Z"
   },
   {
    "duration": 5,
    "start_time": "2023-04-12T05:55:47.632Z"
   },
   {
    "duration": 30,
    "start_time": "2023-04-12T05:55:49.113Z"
   },
   {
    "duration": 4,
    "start_time": "2023-04-12T05:58:30.317Z"
   },
   {
    "duration": 26,
    "start_time": "2023-04-12T05:58:30.843Z"
   },
   {
    "duration": 5,
    "start_time": "2023-04-12T05:58:33.081Z"
   },
   {
    "duration": 28,
    "start_time": "2023-04-12T05:58:33.895Z"
   },
   {
    "duration": 35,
    "start_time": "2023-04-12T06:00:17.683Z"
   },
   {
    "duration": 4,
    "start_time": "2023-04-12T06:02:23.979Z"
   },
   {
    "duration": 4,
    "start_time": "2023-04-12T06:02:30.164Z"
   },
   {
    "duration": 4,
    "start_time": "2023-04-12T06:09:16.194Z"
   },
   {
    "duration": 16,
    "start_time": "2023-04-12T06:09:22.497Z"
   },
   {
    "duration": 5,
    "start_time": "2023-04-12T06:09:34.074Z"
   },
   {
    "duration": 23,
    "start_time": "2023-04-12T06:09:36.084Z"
   },
   {
    "duration": 3,
    "start_time": "2023-04-12T06:12:53.038Z"
   },
   {
    "duration": 21,
    "start_time": "2023-04-12T06:12:53.483Z"
   },
   {
    "duration": 11,
    "start_time": "2023-04-12T06:14:19.384Z"
   },
   {
    "duration": 4,
    "start_time": "2023-04-12T06:14:27.878Z"
   },
   {
    "duration": 4,
    "start_time": "2023-04-12T06:15:17.726Z"
   },
   {
    "duration": 1618,
    "start_time": "2023-04-12T06:15:21.764Z"
   },
   {
    "duration": 1693,
    "start_time": "2023-04-12T06:17:00.972Z"
   },
   {
    "duration": 5,
    "start_time": "2023-04-12T06:17:28.446Z"
   },
   {
    "duration": 5,
    "start_time": "2023-04-12T06:17:30.034Z"
   },
   {
    "duration": 1532,
    "start_time": "2023-04-12T06:17:30.965Z"
   },
   {
    "duration": 1540,
    "start_time": "2023-04-12T06:18:02.792Z"
   },
   {
    "duration": 1505,
    "start_time": "2023-04-12T06:18:13.914Z"
   },
   {
    "duration": 5,
    "start_time": "2023-04-12T06:19:19.512Z"
   },
   {
    "duration": 5,
    "start_time": "2023-04-12T06:19:20.382Z"
   },
   {
    "duration": 1584,
    "start_time": "2023-04-12T06:19:20.560Z"
   },
   {
    "duration": 8,
    "start_time": "2023-04-12T06:19:42.112Z"
   },
   {
    "duration": 5,
    "start_time": "2023-04-12T06:19:42.414Z"
   },
   {
    "duration": 1589,
    "start_time": "2023-04-12T06:19:43.052Z"
   },
   {
    "duration": 1742,
    "start_time": "2023-04-12T06:19:44.644Z"
   },
   {
    "duration": 1636,
    "start_time": "2023-04-12T06:19:46.388Z"
   },
   {
    "duration": 6,
    "start_time": "2023-04-12T06:20:26.329Z"
   },
   {
    "duration": 5,
    "start_time": "2023-04-12T06:20:26.712Z"
   },
   {
    "duration": 1539,
    "start_time": "2023-04-12T06:20:27.053Z"
   },
   {
    "duration": 1536,
    "start_time": "2023-04-12T06:20:28.594Z"
   },
   {
    "duration": 1685,
    "start_time": "2023-04-12T06:20:30.140Z"
   },
   {
    "duration": 4,
    "start_time": "2023-04-12T06:20:51.022Z"
   },
   {
    "duration": 6,
    "start_time": "2023-04-12T06:20:55.403Z"
   },
   {
    "duration": 4,
    "start_time": "2023-04-12T06:20:56.340Z"
   },
   {
    "duration": 1621,
    "start_time": "2023-04-12T06:20:56.957Z"
   },
   {
    "duration": 1676,
    "start_time": "2023-04-12T06:20:58.581Z"
   },
   {
    "duration": 1837,
    "start_time": "2023-04-12T06:21:00.260Z"
   },
   {
    "duration": 4,
    "start_time": "2023-04-12T06:30:06.290Z"
   },
   {
    "duration": 5,
    "start_time": "2023-04-12T06:30:06.596Z"
   },
   {
    "duration": 1579,
    "start_time": "2023-04-12T06:30:07.394Z"
   },
   {
    "duration": 1548,
    "start_time": "2023-04-12T06:30:11.128Z"
   },
   {
    "duration": 1638,
    "start_time": "2023-04-12T06:30:12.678Z"
   },
   {
    "duration": 6,
    "start_time": "2023-04-12T06:34:17.187Z"
   },
   {
    "duration": 3291,
    "start_time": "2023-04-12T06:34:23.157Z"
   },
   {
    "duration": 1706,
    "start_time": "2023-04-12T06:34:54.749Z"
   },
   {
    "duration": 1596,
    "start_time": "2023-04-12T06:35:01.227Z"
   },
   {
    "duration": 1867,
    "start_time": "2023-04-12T06:35:50.175Z"
   },
   {
    "duration": 8,
    "start_time": "2023-04-12T06:40:03.539Z"
   },
   {
    "duration": 1994,
    "start_time": "2023-04-12T06:40:03.893Z"
   },
   {
    "duration": 2245,
    "start_time": "2023-04-12T06:40:05.895Z"
   },
   {
    "duration": 6,
    "start_time": "2023-04-12T06:40:44.730Z"
   },
   {
    "duration": 1733,
    "start_time": "2023-04-12T06:40:45.065Z"
   },
   {
    "duration": 1793,
    "start_time": "2023-04-12T06:40:46.800Z"
   },
   {
    "duration": 1657,
    "start_time": "2023-04-12T06:40:58.860Z"
   },
   {
    "duration": 4,
    "start_time": "2023-04-12T06:41:22.586Z"
   },
   {
    "duration": 14,
    "start_time": "2023-04-12T06:41:28.328Z"
   },
   {
    "duration": 149,
    "start_time": "2023-04-12T06:42:36.278Z"
   },
   {
    "duration": 27,
    "start_time": "2023-04-12T06:44:27.719Z"
   },
   {
    "duration": 538,
    "start_time": "2023-04-12T06:46:57.485Z"
   },
   {
    "duration": 12,
    "start_time": "2023-04-12T06:47:57.992Z"
   },
   {
    "duration": 12,
    "start_time": "2023-04-12T06:49:32.994Z"
   },
   {
    "duration": 14,
    "start_time": "2023-04-12T06:49:45.677Z"
   },
   {
    "duration": 7863,
    "start_time": "2023-04-12T06:51:24.266Z"
   },
   {
    "duration": 2182,
    "start_time": "2023-04-12T06:51:32.132Z"
   },
   {
    "duration": 478,
    "start_time": "2023-04-12T06:51:34.317Z"
   },
   {
    "duration": 6,
    "start_time": "2023-04-12T06:51:34.797Z"
   },
   {
    "duration": 450,
    "start_time": "2023-04-12T06:51:34.806Z"
   },
   {
    "duration": 13,
    "start_time": "2023-04-12T06:51:35.266Z"
   },
   {
    "duration": 780,
    "start_time": "2023-04-12T06:51:35.283Z"
   },
   {
    "duration": 50,
    "start_time": "2023-04-12T06:51:36.065Z"
   },
   {
    "duration": 79,
    "start_time": "2023-04-12T06:51:36.117Z"
   },
   {
    "duration": 91,
    "start_time": "2023-04-12T06:51:36.199Z"
   },
   {
    "duration": 88,
    "start_time": "2023-04-12T06:51:36.292Z"
   },
   {
    "duration": 10647,
    "start_time": "2023-04-12T06:51:36.384Z"
   },
   {
    "duration": 170,
    "start_time": "2023-04-12T06:51:47.033Z"
   },
   {
    "duration": 43,
    "start_time": "2023-04-12T06:51:47.206Z"
   },
   {
    "duration": 1962,
    "start_time": "2023-04-12T06:51:47.251Z"
   },
   {
    "duration": 6,
    "start_time": "2023-04-12T06:51:49.215Z"
   },
   {
    "duration": 30,
    "start_time": "2023-04-12T06:51:49.223Z"
   },
   {
    "duration": 179,
    "start_time": "2023-04-12T06:51:49.265Z"
   },
   {
    "duration": 38,
    "start_time": "2023-04-12T06:51:49.447Z"
   },
   {
    "duration": 41,
    "start_time": "2023-04-12T06:51:49.487Z"
   },
   {
    "duration": 48,
    "start_time": "2023-04-12T06:51:49.530Z"
   },
   {
    "duration": 2028,
    "start_time": "2023-04-12T06:51:49.581Z"
   },
   {
    "duration": 5,
    "start_time": "2023-04-12T06:51:51.611Z"
   },
   {
    "duration": 1664,
    "start_time": "2023-04-12T06:51:51.618Z"
   },
   {
    "duration": 504,
    "start_time": "2023-04-12T06:51:53.285Z"
   },
   {
    "duration": 599,
    "start_time": "2023-04-12T06:51:53.845Z"
   },
   {
    "duration": 443,
    "start_time": "2023-04-12T06:51:54.446Z"
   },
   {
    "duration": 3,
    "start_time": "2023-04-12T06:51:54.957Z"
   },
   {
    "duration": 35,
    "start_time": "2023-04-12T06:51:54.962Z"
   },
   {
    "duration": 154,
    "start_time": "2023-04-12T06:51:54.999Z"
   },
   {
    "duration": 159,
    "start_time": "2023-04-12T06:51:55.155Z"
   },
   {
    "duration": 141,
    "start_time": "2023-04-12T06:51:55.317Z"
   },
   {
    "duration": 101,
    "start_time": "2023-04-12T06:51:55.460Z"
   },
   {
    "duration": 31,
    "start_time": "2023-04-12T06:51:55.563Z"
   },
   {
    "duration": 17,
    "start_time": "2023-04-12T06:51:55.597Z"
   },
   {
    "duration": 41,
    "start_time": "2023-04-12T06:51:55.616Z"
   },
   {
    "duration": 52,
    "start_time": "2023-04-12T06:51:55.667Z"
   },
   {
    "duration": 3,
    "start_time": "2023-04-12T06:51:55.721Z"
   },
   {
    "duration": 53,
    "start_time": "2023-04-12T06:51:55.725Z"
   },
   {
    "duration": 12,
    "start_time": "2023-04-12T06:51:55.780Z"
   },
   {
    "duration": 36,
    "start_time": "2023-04-12T06:51:55.796Z"
   },
   {
    "duration": 16,
    "start_time": "2023-04-12T06:51:55.835Z"
   },
   {
    "duration": 1990,
    "start_time": "2023-04-12T06:51:55.853Z"
   },
   {
    "duration": 1820,
    "start_time": "2023-04-12T06:51:57.846Z"
   },
   {
    "duration": 1863,
    "start_time": "2023-04-12T06:51:59.673Z"
   },
   {
    "duration": 19,
    "start_time": "2023-04-12T06:52:01.538Z"
   },
   {
    "duration": 7805,
    "start_time": "2023-04-12T06:53:09.310Z"
   },
   {
    "duration": 2211,
    "start_time": "2023-04-12T06:53:17.117Z"
   },
   {
    "duration": 467,
    "start_time": "2023-04-12T06:53:19.330Z"
   },
   {
    "duration": 8,
    "start_time": "2023-04-12T06:53:19.799Z"
   },
   {
    "duration": 404,
    "start_time": "2023-04-12T06:53:19.810Z"
   },
   {
    "duration": 4,
    "start_time": "2023-04-12T06:53:20.216Z"
   },
   {
    "duration": 756,
    "start_time": "2023-04-12T06:53:20.222Z"
   },
   {
    "duration": 38,
    "start_time": "2023-04-12T06:53:20.983Z"
   },
   {
    "duration": 20,
    "start_time": "2023-04-12T06:53:21.023Z"
   },
   {
    "duration": 66,
    "start_time": "2023-04-12T06:53:21.046Z"
   },
   {
    "duration": 81,
    "start_time": "2023-04-12T06:53:21.114Z"
   },
   {
    "duration": 10564,
    "start_time": "2023-04-12T06:53:21.198Z"
   },
   {
    "duration": 144,
    "start_time": "2023-04-12T06:53:31.771Z"
   },
   {
    "duration": 45,
    "start_time": "2023-04-12T06:53:31.919Z"
   },
   {
    "duration": 1891,
    "start_time": "2023-04-12T06:53:31.969Z"
   },
   {
    "duration": 6,
    "start_time": "2023-04-12T06:53:33.863Z"
   },
   {
    "duration": 41,
    "start_time": "2023-04-12T06:53:33.871Z"
   },
   {
    "duration": 109,
    "start_time": "2023-04-12T06:53:33.914Z"
   },
   {
    "duration": 49,
    "start_time": "2023-04-12T06:53:34.025Z"
   },
   {
    "duration": 46,
    "start_time": "2023-04-12T06:53:34.076Z"
   },
   {
    "duration": 35,
    "start_time": "2023-04-12T06:53:34.125Z"
   },
   {
    "duration": 2256,
    "start_time": "2023-04-12T06:53:34.162Z"
   },
   {
    "duration": 6,
    "start_time": "2023-04-12T06:53:36.421Z"
   },
   {
    "duration": 1688,
    "start_time": "2023-04-12T06:53:36.448Z"
   },
   {
    "duration": 506,
    "start_time": "2023-04-12T06:53:38.141Z"
   },
   {
    "duration": 929,
    "start_time": "2023-04-12T06:53:38.655Z"
   },
   {
    "duration": 975,
    "start_time": "2023-04-12T06:53:39.595Z"
   },
   {
    "duration": 5,
    "start_time": "2023-04-12T06:53:40.581Z"
   },
   {
    "duration": 19,
    "start_time": "2023-04-12T06:53:40.590Z"
   },
   {
    "duration": 233,
    "start_time": "2023-04-12T06:53:40.611Z"
   },
   {
    "duration": 198,
    "start_time": "2023-04-12T06:53:40.846Z"
   },
   {
    "duration": 133,
    "start_time": "2023-04-12T06:53:41.052Z"
   },
   {
    "duration": 89,
    "start_time": "2023-04-12T06:53:41.188Z"
   },
   {
    "duration": 59,
    "start_time": "2023-04-12T06:53:41.285Z"
   },
   {
    "duration": 34,
    "start_time": "2023-04-12T06:53:41.349Z"
   },
   {
    "duration": 25,
    "start_time": "2023-04-12T06:53:41.386Z"
   },
   {
    "duration": 33,
    "start_time": "2023-04-12T06:53:41.414Z"
   },
   {
    "duration": 39,
    "start_time": "2023-04-12T06:53:41.449Z"
   },
   {
    "duration": 10,
    "start_time": "2023-04-12T06:53:41.491Z"
   },
   {
    "duration": 29,
    "start_time": "2023-04-12T06:53:41.503Z"
   },
   {
    "duration": 79,
    "start_time": "2023-04-12T06:53:41.538Z"
   },
   {
    "duration": 18,
    "start_time": "2023-04-12T06:53:41.621Z"
   },
   {
    "duration": 1970,
    "start_time": "2023-04-12T06:53:41.641Z"
   },
   {
    "duration": 1734,
    "start_time": "2023-04-12T06:53:43.613Z"
   },
   {
    "duration": 1909,
    "start_time": "2023-04-12T06:53:45.348Z"
   },
   {
    "duration": 23,
    "start_time": "2023-04-12T06:53:47.259Z"
   },
   {
    "duration": 5,
    "start_time": "2023-04-12T09:17:35.413Z"
   },
   {
    "duration": 4,
    "start_time": "2023-04-12T09:24:50.817Z"
   },
   {
    "duration": 21,
    "start_time": "2023-04-12T09:24:55.874Z"
   },
   {
    "duration": 5,
    "start_time": "2023-04-12T09:48:50.822Z"
   },
   {
    "duration": 1616,
    "start_time": "2023-04-12T09:48:52.114Z"
   },
   {
    "duration": 1624,
    "start_time": "2023-04-12T09:48:53.732Z"
   },
   {
    "duration": 1683,
    "start_time": "2023-04-12T09:48:55.359Z"
   },
   {
    "duration": 19,
    "start_time": "2023-04-12T09:48:57.044Z"
   },
   {
    "duration": 12,
    "start_time": "2023-04-12T09:49:53.356Z"
   },
   {
    "duration": 6872,
    "start_time": "2023-04-12T10:20:23.612Z"
   },
   {
    "duration": 1934,
    "start_time": "2023-04-12T10:20:30.487Z"
   },
   {
    "duration": 392,
    "start_time": "2023-04-12T10:20:32.423Z"
   },
   {
    "duration": 7,
    "start_time": "2023-04-12T10:20:32.818Z"
   },
   {
    "duration": 350,
    "start_time": "2023-04-12T10:20:32.827Z"
   },
   {
    "duration": 5,
    "start_time": "2023-04-12T10:20:33.179Z"
   },
   {
    "duration": 601,
    "start_time": "2023-04-12T10:20:33.186Z"
   },
   {
    "duration": 53,
    "start_time": "2023-04-12T10:20:33.789Z"
   },
   {
    "duration": 29,
    "start_time": "2023-04-12T10:20:33.844Z"
   },
   {
    "duration": 43,
    "start_time": "2023-04-12T10:20:33.875Z"
   },
   {
    "duration": 9,
    "start_time": "2023-04-12T10:20:33.920Z"
   },
   {
    "duration": 9002,
    "start_time": "2023-04-12T10:20:33.931Z"
   },
   {
    "duration": 134,
    "start_time": "2023-04-12T10:20:42.941Z"
   },
   {
    "duration": 28,
    "start_time": "2023-04-12T10:20:43.076Z"
   },
   {
    "duration": 1665,
    "start_time": "2023-04-12T10:20:43.106Z"
   },
   {
    "duration": 6,
    "start_time": "2023-04-12T10:20:44.772Z"
   },
   {
    "duration": 22,
    "start_time": "2023-04-12T10:20:44.780Z"
   },
   {
    "duration": 121,
    "start_time": "2023-04-12T10:20:44.804Z"
   },
   {
    "duration": 31,
    "start_time": "2023-04-12T10:20:44.927Z"
   },
   {
    "duration": 27,
    "start_time": "2023-04-12T10:20:44.960Z"
   },
   {
    "duration": 52,
    "start_time": "2023-04-12T10:20:44.989Z"
   },
   {
    "duration": 2035,
    "start_time": "2023-04-12T10:20:45.044Z"
   },
   {
    "duration": 5,
    "start_time": "2023-04-12T10:20:47.082Z"
   },
   {
    "duration": 1379,
    "start_time": "2023-04-12T10:20:47.089Z"
   },
   {
    "duration": 576,
    "start_time": "2023-04-12T10:20:48.470Z"
   },
   {
    "duration": 498,
    "start_time": "2023-04-12T10:20:49.048Z"
   },
   {
    "duration": 494,
    "start_time": "2023-04-12T10:20:49.551Z"
   },
   {
    "duration": 93,
    "start_time": "2023-04-12T10:20:50.049Z"
   },
   {
    "duration": 15,
    "start_time": "2023-04-12T10:20:50.144Z"
   },
   {
    "duration": 81,
    "start_time": "2023-04-12T10:20:50.161Z"
   },
   {
    "duration": 131,
    "start_time": "2023-04-12T10:20:50.244Z"
   },
   {
    "duration": 190,
    "start_time": "2023-04-12T10:20:50.377Z"
   },
   {
    "duration": 4,
    "start_time": "2023-04-12T10:20:50.643Z"
   },
   {
    "duration": 94,
    "start_time": "2023-04-12T10:20:50.649Z"
   },
   {
    "duration": 32,
    "start_time": "2023-04-12T10:20:50.745Z"
   },
   {
    "duration": 104,
    "start_time": "2023-04-12T10:20:50.779Z"
   },
   {
    "duration": 27,
    "start_time": "2023-04-12T10:20:50.885Z"
   },
   {
    "duration": 4,
    "start_time": "2023-04-12T10:20:50.914Z"
   },
   {
    "duration": 71,
    "start_time": "2023-04-12T10:20:50.920Z"
   },
   {
    "duration": 22,
    "start_time": "2023-04-12T10:20:50.992Z"
   },
   {
    "duration": 1533,
    "start_time": "2023-04-12T10:20:51.016Z"
   },
   {
    "duration": 1503,
    "start_time": "2023-04-12T10:20:52.552Z"
   },
   {
    "duration": 1452,
    "start_time": "2023-04-12T10:20:54.056Z"
   },
   {
    "duration": 10,
    "start_time": "2023-04-12T10:20:55.510Z"
   },
   {
    "duration": 15722,
    "start_time": "2023-04-12T14:27:31.983Z"
   },
   {
    "duration": 2541,
    "start_time": "2023-04-12T14:27:47.707Z"
   },
   {
    "duration": 1053,
    "start_time": "2023-04-12T14:27:50.250Z"
   },
   {
    "duration": 6,
    "start_time": "2023-04-12T14:27:51.304Z"
   },
   {
    "duration": 337,
    "start_time": "2023-04-12T14:27:51.312Z"
   },
   {
    "duration": 5,
    "start_time": "2023-04-12T14:27:51.650Z"
   },
   {
    "duration": 544,
    "start_time": "2023-04-12T14:27:51.657Z"
   },
   {
    "duration": 36,
    "start_time": "2023-04-12T14:27:52.203Z"
   },
   {
    "duration": 6,
    "start_time": "2023-04-12T14:27:52.241Z"
   },
   {
    "duration": 8,
    "start_time": "2023-04-12T14:27:52.248Z"
   },
   {
    "duration": 5,
    "start_time": "2023-04-12T14:27:52.284Z"
   },
   {
    "duration": 9146,
    "start_time": "2023-04-12T14:27:52.291Z"
   },
   {
    "duration": 116,
    "start_time": "2023-04-12T14:28:01.439Z"
   },
   {
    "duration": 36,
    "start_time": "2023-04-12T14:28:01.558Z"
   },
   {
    "duration": 1571,
    "start_time": "2023-04-12T14:28:01.596Z"
   },
   {
    "duration": 6,
    "start_time": "2023-04-12T14:28:03.169Z"
   },
   {
    "duration": 4,
    "start_time": "2023-04-12T14:28:03.185Z"
   },
   {
    "duration": 71,
    "start_time": "2023-04-12T14:28:03.191Z"
   },
   {
    "duration": 39,
    "start_time": "2023-04-12T14:28:03.264Z"
   },
   {
    "duration": 25,
    "start_time": "2023-04-12T14:28:03.305Z"
   },
   {
    "duration": 26,
    "start_time": "2023-04-12T14:28:03.332Z"
   },
   {
    "duration": 1728,
    "start_time": "2023-04-12T14:28:03.359Z"
   },
   {
    "duration": 6,
    "start_time": "2023-04-12T14:28:05.088Z"
   },
   {
    "duration": 1270,
    "start_time": "2023-04-12T14:28:05.096Z"
   },
   {
    "duration": 419,
    "start_time": "2023-04-12T14:28:06.368Z"
   },
   {
    "duration": 998,
    "start_time": "2023-04-12T14:28:06.789Z"
   },
   {
    "duration": 701,
    "start_time": "2023-04-12T14:28:07.789Z"
   },
   {
    "duration": 3,
    "start_time": "2023-04-12T14:28:08.492Z"
   },
   {
    "duration": 95,
    "start_time": "2023-04-12T14:28:08.496Z"
   },
   {
    "duration": 193,
    "start_time": "2023-04-12T14:28:08.593Z"
   },
   {
    "duration": 195,
    "start_time": "2023-04-12T14:28:08.789Z"
   },
   {
    "duration": 352,
    "start_time": "2023-04-12T14:28:08.987Z"
   },
   {
    "duration": 227,
    "start_time": "2023-04-12T14:28:09.387Z"
   },
   {
    "duration": 14,
    "start_time": "2023-04-12T14:28:09.616Z"
   },
   {
    "duration": 12,
    "start_time": "2023-04-12T14:28:09.632Z"
   },
   {
    "duration": 17,
    "start_time": "2023-04-12T14:28:09.645Z"
   },
   {
    "duration": 24,
    "start_time": "2023-04-12T14:28:09.663Z"
   },
   {
    "duration": 4,
    "start_time": "2023-04-12T14:28:09.688Z"
   },
   {
    "duration": 30,
    "start_time": "2023-04-12T14:28:09.693Z"
   },
   {
    "duration": 5,
    "start_time": "2023-04-12T14:28:09.724Z"
   },
   {
    "duration": 1481,
    "start_time": "2023-04-12T14:28:09.733Z"
   },
   {
    "duration": 1425,
    "start_time": "2023-04-12T14:28:11.216Z"
   },
   {
    "duration": 1450,
    "start_time": "2023-04-12T14:28:12.642Z"
   },
   {
    "duration": 10,
    "start_time": "2023-04-12T14:28:14.093Z"
   },
   {
    "duration": 82,
    "start_time": "2023-04-12T15:11:08.405Z"
   },
   {
    "duration": 22540,
    "start_time": "2023-04-12T15:11:18.601Z"
   },
   {
    "duration": 2413,
    "start_time": "2023-04-12T15:11:41.143Z"
   },
   {
    "duration": 1463,
    "start_time": "2023-04-12T15:11:43.559Z"
   },
   {
    "duration": 7,
    "start_time": "2023-04-12T15:11:45.024Z"
   },
   {
    "duration": 512,
    "start_time": "2023-04-12T15:11:45.033Z"
   },
   {
    "duration": 6,
    "start_time": "2023-04-12T15:11:45.546Z"
   },
   {
    "duration": 698,
    "start_time": "2023-04-12T15:11:45.554Z"
   },
   {
    "duration": 49,
    "start_time": "2023-04-12T15:11:46.253Z"
   },
   {
    "duration": 7,
    "start_time": "2023-04-12T15:11:46.306Z"
   },
   {
    "duration": 7,
    "start_time": "2023-04-12T15:11:46.315Z"
   },
   {
    "duration": 8,
    "start_time": "2023-04-12T15:11:46.324Z"
   },
   {
    "duration": 10100,
    "start_time": "2023-04-12T15:11:46.334Z"
   },
   {
    "duration": 159,
    "start_time": "2023-04-12T15:11:56.436Z"
   },
   {
    "duration": 40,
    "start_time": "2023-04-12T15:11:56.598Z"
   },
   {
    "duration": 2259,
    "start_time": "2023-04-12T15:11:56.641Z"
   },
   {
    "duration": 6,
    "start_time": "2023-04-12T15:11:58.902Z"
   },
   {
    "duration": 20,
    "start_time": "2023-04-12T15:11:58.911Z"
   },
   {
    "duration": 104,
    "start_time": "2023-04-12T15:11:58.934Z"
   },
   {
    "duration": 28,
    "start_time": "2023-04-12T15:11:59.041Z"
   },
   {
    "duration": 43,
    "start_time": "2023-04-12T15:11:59.071Z"
   },
   {
    "duration": 29,
    "start_time": "2023-04-12T15:11:59.117Z"
   },
   {
    "duration": 2183,
    "start_time": "2023-04-12T15:11:59.148Z"
   },
   {
    "duration": 4,
    "start_time": "2023-04-12T15:12:01.333Z"
   },
   {
    "duration": 129,
    "start_time": "2023-04-12T15:12:01.339Z"
   },
   {
    "duration": 10,
    "start_time": "2023-04-12T15:12:12.619Z"
   },
   {
    "duration": 12,
    "start_time": "2023-04-12T15:12:49.665Z"
   },
   {
    "duration": 16,
    "start_time": "2023-04-12T15:16:37.364Z"
   },
   {
    "duration": 83,
    "start_time": "2023-04-12T15:16:44.186Z"
   },
   {
    "duration": 18,
    "start_time": "2023-04-12T15:17:04.170Z"
   },
   {
    "duration": 21,
    "start_time": "2023-04-12T15:17:14.384Z"
   },
   {
    "duration": 16,
    "start_time": "2023-04-12T15:17:54.103Z"
   },
   {
    "duration": 8,
    "start_time": "2023-04-12T15:18:03.163Z"
   },
   {
    "duration": 8,
    "start_time": "2023-04-12T15:19:43.720Z"
   },
   {
    "duration": 16,
    "start_time": "2023-04-12T15:20:29.379Z"
   },
   {
    "duration": 14,
    "start_time": "2023-04-12T15:20:34.309Z"
   },
   {
    "duration": 7,
    "start_time": "2023-04-12T15:20:37.570Z"
   },
   {
    "duration": 496,
    "start_time": "2023-04-12T15:22:38.673Z"
   },
   {
    "duration": 461,
    "start_time": "2023-04-12T15:23:21.148Z"
   },
   {
    "duration": 7,
    "start_time": "2023-04-12T15:29:21.502Z"
   },
   {
    "duration": 482,
    "start_time": "2023-04-12T15:33:09.741Z"
   },
   {
    "duration": 439,
    "start_time": "2023-04-12T15:33:34.816Z"
   },
   {
    "duration": 488,
    "start_time": "2023-04-12T15:33:43.329Z"
   },
   {
    "duration": 8,
    "start_time": "2023-04-12T15:34:31.306Z"
   },
   {
    "duration": 7,
    "start_time": "2023-04-12T15:34:55.448Z"
   },
   {
    "duration": 15,
    "start_time": "2023-04-12T15:35:24.005Z"
   },
   {
    "duration": 19,
    "start_time": "2023-04-12T15:35:27.446Z"
   },
   {
    "duration": 11,
    "start_time": "2023-04-12T15:35:35.565Z"
   },
   {
    "duration": 7,
    "start_time": "2023-04-12T15:35:57.555Z"
   },
   {
    "duration": 45,
    "start_time": "2023-04-12T15:44:39.809Z"
   },
   {
    "duration": 75,
    "start_time": "2023-04-12T15:44:50.563Z"
   },
   {
    "duration": 23465,
    "start_time": "2023-04-12T15:45:25.925Z"
   },
   {
    "duration": 23,
    "start_time": "2023-04-12T15:45:49.394Z"
   },
   {
    "duration": 13,
    "start_time": "2023-04-12T15:46:02.370Z"
   },
   {
    "duration": 25022,
    "start_time": "2023-04-12T15:46:28.478Z"
   },
   {
    "duration": 5,
    "start_time": "2023-04-12T15:53:50.783Z"
   },
   {
    "duration": 5,
    "start_time": "2023-04-12T15:53:54.039Z"
   },
   {
    "duration": 109,
    "start_time": "2023-04-12T15:53:57.129Z"
   },
   {
    "duration": 6827,
    "start_time": "2023-04-12T17:35:29.812Z"
   },
   {
    "duration": 14,
    "start_time": "2023-04-12T17:36:35.149Z"
   },
   {
    "duration": 10075,
    "start_time": "2023-04-12T17:41:37.730Z"
   },
   {
    "duration": 2418,
    "start_time": "2023-04-12T17:41:47.813Z"
   },
   {
    "duration": 465,
    "start_time": "2023-04-12T17:41:50.233Z"
   },
   {
    "duration": 14,
    "start_time": "2023-04-12T17:41:50.703Z"
   },
   {
    "duration": 377,
    "start_time": "2023-04-12T17:41:50.720Z"
   },
   {
    "duration": 9,
    "start_time": "2023-04-12T17:41:51.099Z"
   },
   {
    "duration": 524,
    "start_time": "2023-04-12T17:41:51.109Z"
   },
   {
    "duration": 37,
    "start_time": "2023-04-12T17:41:51.634Z"
   },
   {
    "duration": 12,
    "start_time": "2023-04-12T17:41:51.695Z"
   },
   {
    "duration": 7,
    "start_time": "2023-04-12T17:41:51.710Z"
   },
   {
    "duration": 6,
    "start_time": "2023-04-12T17:41:51.719Z"
   },
   {
    "duration": 10022,
    "start_time": "2023-04-12T17:41:51.727Z"
   },
   {
    "duration": 127,
    "start_time": "2023-04-12T17:42:01.752Z"
   },
   {
    "duration": 41,
    "start_time": "2023-04-12T17:42:01.881Z"
   },
   {
    "duration": 1820,
    "start_time": "2023-04-12T17:42:01.924Z"
   },
   {
    "duration": 5,
    "start_time": "2023-04-12T17:42:03.746Z"
   },
   {
    "duration": 4,
    "start_time": "2023-04-12T17:42:03.753Z"
   },
   {
    "duration": 90,
    "start_time": "2023-04-12T17:42:03.759Z"
   },
   {
    "duration": 38,
    "start_time": "2023-04-12T17:42:03.851Z"
   },
   {
    "duration": 35,
    "start_time": "2023-04-12T17:42:03.896Z"
   },
   {
    "duration": 31,
    "start_time": "2023-04-12T17:42:03.934Z"
   },
   {
    "duration": 1945,
    "start_time": "2023-04-12T17:42:03.968Z"
   },
   {
    "duration": 4,
    "start_time": "2023-04-12T17:42:05.915Z"
   },
   {
    "duration": 1407,
    "start_time": "2023-04-12T17:42:05.921Z"
   },
   {
    "duration": 7,
    "start_time": "2023-04-12T17:42:07.330Z"
   },
   {
    "duration": 666,
    "start_time": "2023-04-12T17:42:07.339Z"
   },
   {
    "duration": 778,
    "start_time": "2023-04-12T17:42:08.011Z"
   },
   {
    "duration": 792,
    "start_time": "2023-04-12T17:42:08.797Z"
   },
   {
    "duration": 792,
    "start_time": "2023-04-12T17:42:09.603Z"
   },
   {
    "duration": 8806,
    "start_time": "2023-04-12T17:42:10.397Z"
   },
   {
    "duration": 126,
    "start_time": "2023-04-12T17:43:20.724Z"
   },
   {
    "duration": 5860,
    "start_time": "2023-04-12T17:44:15.526Z"
   },
   {
    "duration": 5801,
    "start_time": "2023-04-12T17:44:47.082Z"
   },
   {
    "duration": 5665,
    "start_time": "2023-04-12T17:45:08.055Z"
   },
   {
    "duration": 5858,
    "start_time": "2023-04-12T17:45:30.976Z"
   },
   {
    "duration": 6016,
    "start_time": "2023-04-12T17:45:58.465Z"
   },
   {
    "duration": 21576,
    "start_time": "2023-04-12T17:46:47.508Z"
   },
   {
    "duration": 45,
    "start_time": "2023-04-12T17:47:14.931Z"
   },
   {
    "duration": 482,
    "start_time": "2023-04-12T17:47:20.970Z"
   },
   {
    "duration": 15,
    "start_time": "2023-04-12T17:47:25.213Z"
   },
   {
    "duration": 908,
    "start_time": "2023-04-12T17:48:22.650Z"
   },
   {
    "duration": 626,
    "start_time": "2023-04-12T17:48:39.881Z"
   },
   {
    "duration": 647,
    "start_time": "2023-04-12T17:48:47.483Z"
   },
   {
    "duration": 60,
    "start_time": "2023-04-12T17:49:16.983Z"
   },
   {
    "duration": 1309,
    "start_time": "2023-04-12T17:49:21.414Z"
   },
   {
    "duration": 179,
    "start_time": "2023-04-12T17:49:34.083Z"
   },
   {
    "duration": 2589,
    "start_time": "2023-04-12T17:50:07.420Z"
   },
   {
    "duration": 9371,
    "start_time": "2023-04-12T17:51:32.543Z"
   },
   {
    "duration": 4,
    "start_time": "2023-04-12T17:52:00.855Z"
   },
   {
    "duration": 15,
    "start_time": "2023-04-12T17:52:03.718Z"
   },
   {
    "duration": 25,
    "start_time": "2023-04-12T17:52:40.940Z"
   },
   {
    "duration": 21,
    "start_time": "2023-04-12T17:53:07.512Z"
   },
   {
    "duration": 146,
    "start_time": "2023-04-12T17:54:01.977Z"
   },
   {
    "duration": 906,
    "start_time": "2023-04-12T17:54:11.096Z"
   },
   {
    "duration": 127,
    "start_time": "2023-04-12T17:55:53.006Z"
   },
   {
    "duration": 774,
    "start_time": "2023-04-12T17:56:00.137Z"
   },
   {
    "duration": 9493,
    "start_time": "2023-04-12T17:56:51.681Z"
   },
   {
    "duration": 3,
    "start_time": "2023-04-12T17:57:12.005Z"
   },
   {
    "duration": 144,
    "start_time": "2023-04-12T17:57:13.156Z"
   },
   {
    "duration": 676,
    "start_time": "2023-04-12T17:57:14.211Z"
   },
   {
    "duration": 9499,
    "start_time": "2023-04-12T17:57:56.703Z"
   },
   {
    "duration": 2209,
    "start_time": "2023-04-12T17:58:06.204Z"
   },
   {
    "duration": 410,
    "start_time": "2023-04-12T17:58:08.415Z"
   },
   {
    "duration": 6,
    "start_time": "2023-04-12T17:58:08.827Z"
   },
   {
    "duration": 310,
    "start_time": "2023-04-12T17:58:08.835Z"
   },
   {
    "duration": 5,
    "start_time": "2023-04-12T17:58:09.146Z"
   },
   {
    "duration": 507,
    "start_time": "2023-04-12T17:58:09.153Z"
   },
   {
    "duration": 56,
    "start_time": "2023-04-12T17:58:09.662Z"
   },
   {
    "duration": 69,
    "start_time": "2023-04-12T17:58:09.719Z"
   },
   {
    "duration": 11,
    "start_time": "2023-04-12T17:58:09.791Z"
   },
   {
    "duration": 9,
    "start_time": "2023-04-12T17:58:09.803Z"
   },
   {
    "duration": 8896,
    "start_time": "2023-04-12T17:58:09.813Z"
   },
   {
    "duration": 110,
    "start_time": "2023-04-12T17:58:18.711Z"
   },
   {
    "duration": 24,
    "start_time": "2023-04-12T17:58:18.822Z"
   },
   {
    "duration": 1626,
    "start_time": "2023-04-12T17:58:18.847Z"
   },
   {
    "duration": 21,
    "start_time": "2023-04-12T17:58:20.475Z"
   },
   {
    "duration": 3,
    "start_time": "2023-04-12T17:58:20.498Z"
   },
   {
    "duration": 85,
    "start_time": "2023-04-12T17:58:20.502Z"
   },
   {
    "duration": 28,
    "start_time": "2023-04-12T17:58:20.597Z"
   },
   {
    "duration": 26,
    "start_time": "2023-04-12T17:58:20.626Z"
   },
   {
    "duration": 43,
    "start_time": "2023-04-12T17:58:20.653Z"
   },
   {
    "duration": 1697,
    "start_time": "2023-04-12T17:58:20.698Z"
   },
   {
    "duration": 4,
    "start_time": "2023-04-12T17:58:22.397Z"
   },
   {
    "duration": 1334,
    "start_time": "2023-04-12T17:58:22.402Z"
   },
   {
    "duration": 7,
    "start_time": "2023-04-12T17:58:23.737Z"
   },
   {
    "duration": 709,
    "start_time": "2023-04-12T17:58:23.746Z"
   },
   {
    "duration": 538,
    "start_time": "2023-04-12T17:58:24.457Z"
   },
   {
    "duration": 691,
    "start_time": "2023-04-12T17:58:25.002Z"
   },
   {
    "duration": 701,
    "start_time": "2023-04-12T17:58:25.695Z"
   },
   {
    "duration": 12119,
    "start_time": "2023-04-12T17:58:26.401Z"
   },
   {
    "duration": 448,
    "start_time": "2023-04-12T17:58:38.522Z"
   },
   {
    "duration": 140,
    "start_time": "2023-04-12T17:58:38.972Z"
   },
   {
    "duration": 804,
    "start_time": "2023-04-12T17:58:39.114Z"
   },
   {
    "duration": 53,
    "start_time": "2023-04-12T18:01:47.926Z"
   },
   {
    "duration": 8990,
    "start_time": "2023-04-12T18:04:33.385Z"
   },
   {
    "duration": 2156,
    "start_time": "2023-04-12T18:04:42.377Z"
   },
   {
    "duration": 389,
    "start_time": "2023-04-12T18:04:44.535Z"
   },
   {
    "duration": 6,
    "start_time": "2023-04-12T18:04:44.926Z"
   },
   {
    "duration": 300,
    "start_time": "2023-04-12T18:04:44.934Z"
   },
   {
    "duration": 4,
    "start_time": "2023-04-12T18:04:45.236Z"
   },
   {
    "duration": 419,
    "start_time": "2023-04-12T18:04:45.242Z"
   },
   {
    "duration": 45,
    "start_time": "2023-04-12T18:04:45.662Z"
   },
   {
    "duration": 10,
    "start_time": "2023-04-12T18:04:45.709Z"
   },
   {
    "duration": 10,
    "start_time": "2023-04-12T18:04:45.721Z"
   },
   {
    "duration": 7,
    "start_time": "2023-04-12T18:04:45.733Z"
   },
   {
    "duration": 9039,
    "start_time": "2023-04-12T18:04:45.742Z"
   },
   {
    "duration": 119,
    "start_time": "2023-04-12T18:04:54.782Z"
   },
   {
    "duration": 24,
    "start_time": "2023-04-12T18:04:54.903Z"
   },
   {
    "duration": 1640,
    "start_time": "2023-04-12T18:04:54.929Z"
   },
   {
    "duration": 5,
    "start_time": "2023-04-12T18:04:56.571Z"
   },
   {
    "duration": 4,
    "start_time": "2023-04-12T18:04:56.584Z"
   },
   {
    "duration": 71,
    "start_time": "2023-04-12T18:04:56.590Z"
   },
   {
    "duration": 44,
    "start_time": "2023-04-12T18:04:56.663Z"
   },
   {
    "duration": 27,
    "start_time": "2023-04-12T18:04:56.709Z"
   },
   {
    "duration": 27,
    "start_time": "2023-04-12T18:04:56.738Z"
   },
   {
    "duration": 1760,
    "start_time": "2023-04-12T18:04:56.786Z"
   },
   {
    "duration": 4,
    "start_time": "2023-04-12T18:04:58.548Z"
   },
   {
    "duration": 1382,
    "start_time": "2023-04-12T18:04:58.554Z"
   },
   {
    "duration": 8,
    "start_time": "2023-04-12T18:04:59.938Z"
   },
   {
    "duration": 631,
    "start_time": "2023-04-12T18:04:59.947Z"
   },
   {
    "duration": 510,
    "start_time": "2023-04-12T18:05:00.580Z"
   },
   {
    "duration": 596,
    "start_time": "2023-04-12T18:05:01.096Z"
   },
   {
    "duration": 698,
    "start_time": "2023-04-12T18:05:01.694Z"
   },
   {
    "duration": 11301,
    "start_time": "2023-04-12T18:05:02.394Z"
   },
   {
    "duration": 434,
    "start_time": "2023-04-12T18:05:13.697Z"
   },
   {
    "duration": 147,
    "start_time": "2023-04-12T18:05:14.134Z"
   },
   {
    "duration": 805,
    "start_time": "2023-04-12T18:05:14.282Z"
   },
   {
    "duration": 702,
    "start_time": "2023-04-12T18:05:15.088Z"
   },
   {
    "duration": 0,
    "start_time": "2023-04-12T18:05:15.792Z"
   },
   {
    "duration": 0,
    "start_time": "2023-04-12T18:05:15.793Z"
   },
   {
    "duration": 0,
    "start_time": "2023-04-12T18:05:15.794Z"
   },
   {
    "duration": 0,
    "start_time": "2023-04-12T18:05:15.795Z"
   },
   {
    "duration": 0,
    "start_time": "2023-04-12T18:05:15.796Z"
   },
   {
    "duration": 0,
    "start_time": "2023-04-12T18:05:15.797Z"
   },
   {
    "duration": 0,
    "start_time": "2023-04-12T18:05:15.798Z"
   },
   {
    "duration": 0,
    "start_time": "2023-04-12T18:05:15.799Z"
   },
   {
    "duration": 1,
    "start_time": "2023-04-12T18:05:15.800Z"
   },
   {
    "duration": 0,
    "start_time": "2023-04-12T18:05:15.802Z"
   },
   {
    "duration": 0,
    "start_time": "2023-04-12T18:05:15.802Z"
   },
   {
    "duration": 0,
    "start_time": "2023-04-12T18:05:15.804Z"
   },
   {
    "duration": 0,
    "start_time": "2023-04-12T18:05:15.805Z"
   },
   {
    "duration": 0,
    "start_time": "2023-04-12T18:05:15.806Z"
   },
   {
    "duration": 0,
    "start_time": "2023-04-12T18:05:15.808Z"
   },
   {
    "duration": 0,
    "start_time": "2023-04-12T18:05:15.809Z"
   },
   {
    "duration": 0,
    "start_time": "2023-04-12T18:05:15.810Z"
   },
   {
    "duration": 18,
    "start_time": "2023-04-12T18:06:58.177Z"
   },
   {
    "duration": 3495,
    "start_time": "2023-04-12T18:07:10.994Z"
   },
   {
    "duration": 9275,
    "start_time": "2023-04-12T18:07:28.234Z"
   },
   {
    "duration": 2361,
    "start_time": "2023-04-12T18:07:37.512Z"
   },
   {
    "duration": 414,
    "start_time": "2023-04-12T18:07:39.876Z"
   },
   {
    "duration": 6,
    "start_time": "2023-04-12T18:07:40.293Z"
   },
   {
    "duration": 364,
    "start_time": "2023-04-12T18:07:40.301Z"
   },
   {
    "duration": 19,
    "start_time": "2023-04-12T18:07:40.667Z"
   },
   {
    "duration": 497,
    "start_time": "2023-04-12T18:07:40.688Z"
   },
   {
    "duration": 47,
    "start_time": "2023-04-12T18:07:41.187Z"
   },
   {
    "duration": 9,
    "start_time": "2023-04-12T18:07:41.237Z"
   },
   {
    "duration": 5,
    "start_time": "2023-04-12T18:07:41.249Z"
   },
   {
    "duration": 29,
    "start_time": "2023-04-12T18:07:41.256Z"
   },
   {
    "duration": 9005,
    "start_time": "2023-04-12T18:07:41.288Z"
   },
   {
    "duration": 122,
    "start_time": "2023-04-12T18:07:50.295Z"
   },
   {
    "duration": 26,
    "start_time": "2023-04-12T18:07:50.419Z"
   },
   {
    "duration": 1643,
    "start_time": "2023-04-12T18:07:50.447Z"
   },
   {
    "duration": 6,
    "start_time": "2023-04-12T18:07:52.092Z"
   },
   {
    "duration": 8,
    "start_time": "2023-04-12T18:07:52.099Z"
   },
   {
    "duration": 78,
    "start_time": "2023-04-12T18:07:52.109Z"
   },
   {
    "duration": 25,
    "start_time": "2023-04-12T18:07:52.188Z"
   },
   {
    "duration": 24,
    "start_time": "2023-04-12T18:07:52.214Z"
   },
   {
    "duration": 50,
    "start_time": "2023-04-12T18:07:52.239Z"
   },
   {
    "duration": 1716,
    "start_time": "2023-04-12T18:07:52.291Z"
   },
   {
    "duration": 6,
    "start_time": "2023-04-12T18:07:54.009Z"
   },
   {
    "duration": 1380,
    "start_time": "2023-04-12T18:07:54.017Z"
   },
   {
    "duration": 6,
    "start_time": "2023-04-12T18:07:55.399Z"
   },
   {
    "duration": 582,
    "start_time": "2023-04-12T18:07:55.407Z"
   },
   {
    "duration": 501,
    "start_time": "2023-04-12T18:07:55.990Z"
   },
   {
    "duration": 592,
    "start_time": "2023-04-12T18:07:56.496Z"
   },
   {
    "duration": 602,
    "start_time": "2023-04-12T18:07:57.090Z"
   },
   {
    "duration": 6944,
    "start_time": "2023-04-12T18:07:57.694Z"
   },
   {
    "duration": 19283,
    "start_time": "2023-04-12T18:08:04.640Z"
   },
   {
    "duration": 41,
    "start_time": "2023-04-12T18:12:31.874Z"
   },
   {
    "duration": 55,
    "start_time": "2023-04-12T18:12:38.092Z"
   },
   {
    "duration": 5825,
    "start_time": "2023-04-12T18:12:42.964Z"
   },
   {
    "duration": 6090,
    "start_time": "2023-04-12T18:13:19.185Z"
   },
   {
    "duration": 105,
    "start_time": "2023-04-12T18:15:02.853Z"
   },
   {
    "duration": 5574,
    "start_time": "2023-04-12T18:16:14.764Z"
   },
   {
    "duration": 4,
    "start_time": "2023-04-12T18:16:24.243Z"
   },
   {
    "duration": 4,
    "start_time": "2023-04-12T18:16:27.197Z"
   },
   {
    "duration": 6061,
    "start_time": "2023-04-12T18:21:55.253Z"
   },
   {
    "duration": 8174,
    "start_time": "2023-04-12T18:32:56.298Z"
   },
   {
    "duration": 9936,
    "start_time": "2023-04-12T18:44:55.632Z"
   },
   {
    "duration": 2232,
    "start_time": "2023-04-12T18:45:05.570Z"
   },
   {
    "duration": 400,
    "start_time": "2023-04-12T18:45:07.805Z"
   },
   {
    "duration": 6,
    "start_time": "2023-04-12T18:45:08.208Z"
   },
   {
    "duration": 339,
    "start_time": "2023-04-12T18:45:08.216Z"
   },
   {
    "duration": 5,
    "start_time": "2023-04-12T18:45:08.557Z"
   },
   {
    "duration": 449,
    "start_time": "2023-04-12T18:45:08.564Z"
   },
   {
    "duration": 33,
    "start_time": "2023-04-12T18:45:09.014Z"
   },
   {
    "duration": 5,
    "start_time": "2023-04-12T18:45:09.048Z"
   },
   {
    "duration": 7,
    "start_time": "2023-04-12T18:45:09.055Z"
   },
   {
    "duration": 28,
    "start_time": "2023-04-12T18:45:09.063Z"
   },
   {
    "duration": 9016,
    "start_time": "2023-04-12T18:45:09.093Z"
   },
   {
    "duration": 121,
    "start_time": "2023-04-12T18:45:18.111Z"
   },
   {
    "duration": 29,
    "start_time": "2023-04-12T18:45:18.235Z"
   },
   {
    "duration": 1576,
    "start_time": "2023-04-12T18:45:18.266Z"
   },
   {
    "duration": 5,
    "start_time": "2023-04-12T18:45:19.844Z"
   },
   {
    "duration": 14,
    "start_time": "2023-04-12T18:45:19.851Z"
   },
   {
    "duration": 97,
    "start_time": "2023-04-12T18:45:19.867Z"
   },
   {
    "duration": 32,
    "start_time": "2023-04-12T18:45:19.966Z"
   },
   {
    "duration": 24,
    "start_time": "2023-04-12T18:45:20.000Z"
   },
   {
    "duration": 26,
    "start_time": "2023-04-12T18:45:20.025Z"
   },
   {
    "duration": 1771,
    "start_time": "2023-04-12T18:45:20.053Z"
   },
   {
    "duration": 4,
    "start_time": "2023-04-12T18:45:21.826Z"
   },
   {
    "duration": 1384,
    "start_time": "2023-04-12T18:45:21.832Z"
   },
   {
    "duration": 6,
    "start_time": "2023-04-12T18:45:23.218Z"
   },
   {
    "duration": 539,
    "start_time": "2023-04-12T18:45:23.225Z"
   },
   {
    "duration": 522,
    "start_time": "2023-04-12T18:45:23.766Z"
   },
   {
    "duration": 703,
    "start_time": "2023-04-12T18:45:24.290Z"
   },
   {
    "duration": 599,
    "start_time": "2023-04-12T18:45:24.994Z"
   },
   {
    "duration": 6918,
    "start_time": "2023-04-12T18:45:25.595Z"
   },
   {
    "duration": 21000,
    "start_time": "2023-04-12T18:45:32.515Z"
   },
   {
    "duration": 2519,
    "start_time": "2023-04-12T18:45:53.517Z"
   },
   {
    "duration": 6305,
    "start_time": "2023-04-12T18:45:56.038Z"
   },
   {
    "duration": 7260,
    "start_time": "2023-04-12T18:46:02.345Z"
   },
   {
    "duration": 5,
    "start_time": "2023-04-12T18:46:09.607Z"
   },
   {
    "duration": 6,
    "start_time": "2023-04-12T18:46:09.614Z"
   },
   {
    "duration": 83,
    "start_time": "2023-04-12T18:46:09.621Z"
   },
   {
    "duration": 201,
    "start_time": "2023-04-12T18:46:09.707Z"
   },
   {
    "duration": 204,
    "start_time": "2023-04-12T18:46:09.911Z"
   },
   {
    "duration": 73,
    "start_time": "2023-04-12T18:46:10.117Z"
   },
   {
    "duration": 89,
    "start_time": "2023-04-12T18:46:10.198Z"
   },
   {
    "duration": 6,
    "start_time": "2023-04-12T18:46:10.289Z"
   },
   {
    "duration": 13,
    "start_time": "2023-04-12T18:46:10.303Z"
   },
   {
    "duration": 24,
    "start_time": "2023-04-12T18:46:10.318Z"
   },
   {
    "duration": 4,
    "start_time": "2023-04-12T18:46:10.344Z"
   },
   {
    "duration": 62,
    "start_time": "2023-04-12T18:46:10.349Z"
   },
   {
    "duration": 7,
    "start_time": "2023-04-12T18:46:10.415Z"
   },
   {
    "duration": 1537,
    "start_time": "2023-04-12T18:46:10.424Z"
   },
   {
    "duration": 1582,
    "start_time": "2023-04-12T18:46:11.962Z"
   },
   {
    "duration": 1609,
    "start_time": "2023-04-12T18:46:13.546Z"
   },
   {
    "duration": 9,
    "start_time": "2023-04-12T18:46:15.156Z"
   },
   {
    "duration": 18119,
    "start_time": "2023-04-13T04:38:56.175Z"
   },
   {
    "duration": 1956,
    "start_time": "2023-04-13T04:39:14.296Z"
   },
   {
    "duration": 1418,
    "start_time": "2023-04-13T04:39:16.254Z"
   },
   {
    "duration": 6,
    "start_time": "2023-04-13T04:39:17.675Z"
   },
   {
    "duration": 291,
    "start_time": "2023-04-13T04:39:17.682Z"
   },
   {
    "duration": 5,
    "start_time": "2023-04-13T04:39:17.974Z"
   },
   {
    "duration": 414,
    "start_time": "2023-04-13T04:39:17.981Z"
   },
   {
    "duration": 44,
    "start_time": "2023-04-13T04:39:18.397Z"
   },
   {
    "duration": 5,
    "start_time": "2023-04-13T04:39:18.442Z"
   },
   {
    "duration": 15,
    "start_time": "2023-04-13T04:39:18.449Z"
   },
   {
    "duration": 9,
    "start_time": "2023-04-13T04:39:18.465Z"
   },
   {
    "duration": 8434,
    "start_time": "2023-04-13T04:39:18.475Z"
   },
   {
    "duration": 111,
    "start_time": "2023-04-13T04:39:26.911Z"
   },
   {
    "duration": 23,
    "start_time": "2023-04-13T04:39:27.036Z"
   },
   {
    "duration": 1549,
    "start_time": "2023-04-13T04:39:27.061Z"
   },
   {
    "duration": 4,
    "start_time": "2023-04-13T04:39:28.612Z"
   },
   {
    "duration": 16,
    "start_time": "2023-04-13T04:39:28.618Z"
   },
   {
    "duration": 65,
    "start_time": "2023-04-13T04:39:28.636Z"
   },
   {
    "duration": 23,
    "start_time": "2023-04-13T04:39:28.703Z"
   },
   {
    "duration": 23,
    "start_time": "2023-04-13T04:39:28.735Z"
   },
   {
    "duration": 24,
    "start_time": "2023-04-13T04:39:28.760Z"
   },
   {
    "duration": 1694,
    "start_time": "2023-04-13T04:39:28.786Z"
   },
   {
    "duration": 3,
    "start_time": "2023-04-13T04:39:30.482Z"
   },
   {
    "duration": 1333,
    "start_time": "2023-04-13T04:39:30.487Z"
   },
   {
    "duration": 6,
    "start_time": "2023-04-13T04:39:43.658Z"
   },
   {
    "duration": 541,
    "start_time": "2023-04-13T04:40:42.307Z"
   },
   {
    "duration": 496,
    "start_time": "2023-04-13T04:40:44.445Z"
   },
   {
    "duration": 429,
    "start_time": "2023-04-13T04:40:45.115Z"
   },
   {
    "duration": 298,
    "start_time": "2023-04-13T04:40:45.657Z"
   },
   {
    "duration": 18154,
    "start_time": "2023-04-13T04:41:01.917Z"
   },
   {
    "duration": 19239,
    "start_time": "2023-04-13T04:41:20.073Z"
   },
   {
    "duration": 3741,
    "start_time": "2023-04-13T04:43:07.285Z"
   },
   {
    "duration": 6007,
    "start_time": "2023-04-13T04:43:16.395Z"
   },
   {
    "duration": 6812,
    "start_time": "2023-04-13T04:44:40.335Z"
   }
  ],
  "kernelspec": {
   "display_name": "Python 3",
   "language": "python",
   "name": "python3"
  },
  "language_info": {
   "codemirror_mode": {
    "name": "ipython",
    "version": 3
   },
   "file_extension": ".py",
   "mimetype": "text/x-python",
   "name": "python",
   "nbconvert_exporter": "python",
   "pygments_lexer": "ipython3",
   "version": "3.8.8"
  },
  "toc": {
   "base_numbering": 1,
   "nav_menu": {},
   "number_sections": true,
   "sideBar": true,
   "skip_h1_title": true,
   "title_cell": "Table of Contents",
   "title_sidebar": "Contents",
   "toc_cell": false,
   "toc_position": {},
   "toc_section_display": true,
   "toc_window_display": false
  }
 },
 "nbformat": 4,
 "nbformat_minor": 2
}
